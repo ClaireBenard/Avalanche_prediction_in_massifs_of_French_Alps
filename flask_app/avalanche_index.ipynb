{
 "cells": [
  {
   "cell_type": "code",
   "execution_count": null,
   "metadata": {},
   "outputs": [
    {
     "name": "stdout",
     "output_type": "stream",
     "text": [
      "Let's start with a short questionnaire to find out avalanche danger for your winter holiday!\n",
      "Which mountain massif in french Alps do you plan to visit for your holiday? Aravis\n"
     ]
    }
   ],
   "source": [
    "aval_index= 0\n",
    "\n",
    "print(\"Let's start with a short questionnaire to find out avalanche danger for your winter holiday!\")\n",
    "\n",
    "q_massif = input(\"Which mountain massif in french Alps do you plan to visit for your holiday? \")\n",
    "\n",
    "options = ['Chablais', 'Aravis', 'Mont-Blanc', 'Bauges', 'Beaufortin',\n",
    "       'Haute-Tarentaise', 'Vanoise', 'Maurienne', 'Chartreuse',\n",
    "       'Belledonne', 'Grandes-Rousses', 'Oisans', 'Vercors', 'Devoluy',\n",
    "       'Champsaur', 'Pelvoux', 'Haute-Maurienne', 'Thabor', 'Queyras',\n",
    "       'Parpaillon', 'Ubaye', 'Haut_Var-Haut_Verdon', 'Mercantour']\n",
    "\n",
    "if q_massif == 'Vanoise':\n",
    "    aval_index += 20\n",
    "elif q_massif == 'Haute-Tarentaise' or 'Mont-Blanc' or 'Haute-Maurienne':\n",
    "    aval_index += 16\n",
    "elif q_massif == 'Queyras' or 'Oisans' or 'Chablais' or 'Pelvoux' or 'Aravis':\n",
    "    aval_index += 12\n",
    "elif q_massif == 'Maurienne' or 'Belledonne' or 'Chartreuse' or 'Grandes-Rousses' or 'Beaufortin':\n",
    "    aval_index += 8\n",
    "else:\n",
    "    aval_index += 4\n",
    "    \n",
    "q_month = input(\"Which month did you pick for your holiday? (Insert a number, for example: November -> 11) \")\n",
    "\n",
    "if q_month == 3 or 2 or 1:\n",
    "    aval_index += 20\n",
    "elif q_month == 4 or 12:\n",
    "    aval_index += 12\n",
    "elif q_month == 5 or 11:\n",
    "    aval_index += 8\n",
    "else:\n",
    "    aval_index += 0\n",
    "\n",
    "\n",
    "q_activity = input(\"What activity do you plan to do the most while on mountains? \")\n",
    "\n",
    "options2 = ['hiking', 'off-piste ski or snowboard', 'cross_country ski, snowboard or snoshoes', \n",
    "            'alpinist activity', 'other']\n",
    "\n",
    "if q_activity == \"hiking\":\n",
    "    aval_index += 20\n",
    "elif q_activity == \"off-piste ski or snowboard\":\n",
    "    aval_index += 16\n",
    "elif q_activity == \"cross_country ski, snowboard or snoshoes\":\n",
    "    aval_index += 8\n",
    "elif q_activity == \"alpinist activity\":\n",
    "    aval_index += 8\n",
    "else:\n",
    "    aval_index += 4\n",
    "\n",
    "\n",
    "q_group_size = input(\"How many people will you be travelling with you on mountains? (Insert a number, for no travelmates insert 0) \")\n",
    "\n",
    "if q_month == 3 or 2 or 1:\n",
    "    aval_index += 20\n",
    "elif q_month == 4 or 12:\n",
    "    aval_index += 12\n",
    "elif q_month == 5 or 11:\n",
    "    aval_index += 8\n",
    "else:\n",
    "    aval_index += 0\n",
    "\n",
    "\n",
    "q_elevation = int(input(\"In which elevation level do you plan to spend most time while on mountains? Insert number, for example 2600. \"))\n",
    "\n",
    "if q_elevation < 1500:\n",
    "    aval_index += 0\n",
    "elif q_elevation <= 2000:\n",
    "    aval_index += 12\n",
    "elif q_elevation <= 2500:\n",
    "    aval_index += 20\n",
    "elif q_elevation <= 3000:\n",
    "    aval_index += 16\n",
    "else:\n",
    "    aval_index += 0\n",
    "\n",
    "print(f\"That' all we needed to know. Your holiday destination has {aval_index} points on avalanche danger scale (from 0 to 100 points).\")"
   ]
  },
  {
   "cell_type": "code",
   "execution_count": null,
   "metadata": {},
   "outputs": [],
   "source": []
  },
  {
   "cell_type": "code",
   "execution_count": null,
   "metadata": {},
   "outputs": [],
   "source": []
  }
 ],
 "metadata": {
  "kernelspec": {
   "display_name": "Python 3",
   "language": "python",
   "name": "python3"
  },
  "language_info": {
   "codemirror_mode": {
    "name": "ipython",
    "version": 3
   },
   "file_extension": ".py",
   "mimetype": "text/x-python",
   "name": "python",
   "nbconvert_exporter": "python",
   "pygments_lexer": "ipython3",
   "version": "3.7.4"
  }
 },
 "nbformat": 4,
 "nbformat_minor": 4
}

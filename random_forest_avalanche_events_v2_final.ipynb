{
 "cells": [
  {
   "cell_type": "markdown",
   "metadata": {},
   "source": [
    "# Random Forest model for prediction of avalanche events"
   ]
  },
  {
   "cell_type": "code",
   "execution_count": 1,
   "metadata": {},
   "outputs": [],
   "source": [
    "# import of standard Python libraries for data analysis\n",
    "import pandas as pd\n",
    "import numpy as np\n",
    "import seaborn as sns\n",
    "import matplotlib.pyplot as plt"
   ]
  },
  {
   "cell_type": "code",
   "execution_count": 2,
   "metadata": {},
   "outputs": [],
   "source": [
    "# import needed objects from Scikit learn library for machine learning\n",
    "from sklearn.ensemble import RandomForestClassifier\n",
    "from sklearn.metrics import confusion_matrix, classification_report\n",
    "from sklearn import preprocessing\n",
    "from sklearn import metrics\n",
    "from sklearn.metrics import f1_score\n",
    "from sklearn.model_selection import train_test_split, cross_val_score\n",
    "from numpy import mean\n",
    "from sklearn.datasets import make_classification\n",
    "from sklearn.model_selection import RepeatedStratifiedKFold"
   ]
  },
  {
   "cell_type": "code",
   "execution_count": 3,
   "metadata": {},
   "outputs": [],
   "source": [
    "# I would like to see all rows and columns of dataframes\n",
    "pd.set_option('display.max_columns', None)\n",
    "pd.set_option('display.max_rows', None)"
   ]
  },
  {
   "cell_type": "markdown",
   "metadata": {},
   "source": [
    "## Reading dataset and final preprocessing"
   ]
  },
  {
   "cell_type": "code",
   "execution_count": 4,
   "metadata": {},
   "outputs": [],
   "source": [
    "# reading dataset\n",
    "df = pd.read_csv(\"final_data.csv\")"
   ]
  },
  {
   "cell_type": "code",
   "execution_count": 5,
   "metadata": {},
   "outputs": [
    {
     "data": {
      "text/html": [
       "<div>\n",
       "<style scoped>\n",
       "    .dataframe tbody tr th:only-of-type {\n",
       "        vertical-align: middle;\n",
       "    }\n",
       "\n",
       "    .dataframe tbody tr th {\n",
       "        vertical-align: top;\n",
       "    }\n",
       "\n",
       "    .dataframe thead th {\n",
       "        text-align: right;\n",
       "    }\n",
       "</style>\n",
       "<table border=\"1\" class=\"dataframe\">\n",
       "  <thead>\n",
       "    <tr style=\"text-align: right;\">\n",
       "      <th></th>\n",
       "      <th>elevation</th>\n",
       "      <th>massif_num</th>\n",
       "      <th>lon</th>\n",
       "      <th>lat</th>\n",
       "      <th>temp_soil_0.005_m</th>\n",
       "      <th>temp_soil_0.08_m</th>\n",
       "      <th>liquid_water_in_soil</th>\n",
       "      <th>frozen_water_in_soil</th>\n",
       "      <th>risk_index</th>\n",
       "      <th>aval_type</th>\n",
       "      <th>whiteness_albedo</th>\n",
       "      <th>net_radiation</th>\n",
       "      <th>drainage</th>\n",
       "      <th>runoff</th>\n",
       "      <th>snow_melting_rate</th>\n",
       "      <th>rainfall_rate</th>\n",
       "      <th>surface_temperature</th>\n",
       "      <th>surface_snow_amount</th>\n",
       "      <th>thickness_of_snowfall</th>\n",
       "      <th>snow_thickness_1D</th>\n",
       "      <th>snow_thickness_3D</th>\n",
       "      <th>snow_thickness_5D</th>\n",
       "      <th>snow_thickness_7D</th>\n",
       "      <th>snow_water_1D</th>\n",
       "      <th>snow_water_3D</th>\n",
       "      <th>snow_water_5D</th>\n",
       "      <th>snow_water_7D</th>\n",
       "      <th>penetration_ram_resistance</th>\n",
       "      <th>thickness_of_wet_snow_top_of_snowpack</th>\n",
       "      <th>thickness_of_frozen_snow_top_of_snowpack</th>\n",
       "      <th>acccidental_risk_index</th>\n",
       "      <th>day</th>\n",
       "      <th>surface_air_pressure_mean</th>\n",
       "      <th>near_surface_humidity_mean</th>\n",
       "      <th>relative_humidity_mean</th>\n",
       "      <th>freezing_level_altitude_mean</th>\n",
       "      <th>rain_snow_transition_altitude_mean</th>\n",
       "      <th>air_temp_max</th>\n",
       "      <th>wind_speed_max</th>\n",
       "      <th>snowfall_rate_max</th>\n",
       "      <th>nebulosity_max</th>\n",
       "      <th>air_temp_min</th>\n",
       "      <th>massif_name</th>\n",
       "      <th>aval_accident</th>\n",
       "      <th>aval_event</th>\n",
       "    </tr>\n",
       "  </thead>\n",
       "  <tbody>\n",
       "    <tr>\n",
       "      <th>0</th>\n",
       "      <td>1500.0</td>\n",
       "      <td>1</td>\n",
       "      <td>6.64493</td>\n",
       "      <td>46.17685</td>\n",
       "      <td>277.709158</td>\n",
       "      <td>279.014864</td>\n",
       "      <td>0.323705</td>\n",
       "      <td>0.0</td>\n",
       "      <td>6.0</td>\n",
       "      <td>6.0</td>\n",
       "      <td>0.2</td>\n",
       "      <td>3.251180</td>\n",
       "      <td>0.000018</td>\n",
       "      <td>0.000019</td>\n",
       "      <td>0.0</td>\n",
       "      <td>0.000096</td>\n",
       "      <td>277.709158</td>\n",
       "      <td>0.0</td>\n",
       "      <td>0.0</td>\n",
       "      <td>0.0</td>\n",
       "      <td>0.0</td>\n",
       "      <td>0.0</td>\n",
       "      <td>0.0</td>\n",
       "      <td>0.0</td>\n",
       "      <td>0.0</td>\n",
       "      <td>0.0</td>\n",
       "      <td>0.0</td>\n",
       "      <td>0.0</td>\n",
       "      <td>0.0</td>\n",
       "      <td>0.0</td>\n",
       "      <td>4.0</td>\n",
       "      <td>2010-10-01</td>\n",
       "      <td>84550.445</td>\n",
       "      <td>0.005956</td>\n",
       "      <td>80.023400</td>\n",
       "      <td>2268.572667</td>\n",
       "      <td>422.333333</td>\n",
       "      <td>283.38647</td>\n",
       "      <td>4.92501</td>\n",
       "      <td>0.0</td>\n",
       "      <td>0.988523</td>\n",
       "      <td>277.14102</td>\n",
       "      <td>Chablais</td>\n",
       "      <td>0</td>\n",
       "      <td>0</td>\n",
       "    </tr>\n",
       "    <tr>\n",
       "      <th>1</th>\n",
       "      <td>1500.0</td>\n",
       "      <td>1</td>\n",
       "      <td>6.64493</td>\n",
       "      <td>46.17685</td>\n",
       "      <td>279.496314</td>\n",
       "      <td>280.143477</td>\n",
       "      <td>0.310928</td>\n",
       "      <td>0.0</td>\n",
       "      <td>6.0</td>\n",
       "      <td>6.0</td>\n",
       "      <td>0.2</td>\n",
       "      <td>79.345799</td>\n",
       "      <td>0.000018</td>\n",
       "      <td>0.000000</td>\n",
       "      <td>0.0</td>\n",
       "      <td>0.000000</td>\n",
       "      <td>279.496314</td>\n",
       "      <td>0.0</td>\n",
       "      <td>0.0</td>\n",
       "      <td>0.0</td>\n",
       "      <td>0.0</td>\n",
       "      <td>0.0</td>\n",
       "      <td>0.0</td>\n",
       "      <td>0.0</td>\n",
       "      <td>0.0</td>\n",
       "      <td>0.0</td>\n",
       "      <td>0.0</td>\n",
       "      <td>0.0</td>\n",
       "      <td>0.0</td>\n",
       "      <td>0.0</td>\n",
       "      <td>4.0</td>\n",
       "      <td>2010-10-02</td>\n",
       "      <td>84550.445</td>\n",
       "      <td>0.006067</td>\n",
       "      <td>58.228333</td>\n",
       "      <td>1080.672643</td>\n",
       "      <td>40.151042</td>\n",
       "      <td>288.89374</td>\n",
       "      <td>4.92201</td>\n",
       "      <td>0.0</td>\n",
       "      <td>0.758338</td>\n",
       "      <td>281.01437</td>\n",
       "      <td>Chablais</td>\n",
       "      <td>0</td>\n",
       "      <td>0</td>\n",
       "    </tr>\n",
       "    <tr>\n",
       "      <th>2</th>\n",
       "      <td>1500.0</td>\n",
       "      <td>1</td>\n",
       "      <td>6.64493</td>\n",
       "      <td>46.17685</td>\n",
       "      <td>278.575394</td>\n",
       "      <td>280.282568</td>\n",
       "      <td>0.305990</td>\n",
       "      <td>0.0</td>\n",
       "      <td>6.0</td>\n",
       "      <td>6.0</td>\n",
       "      <td>0.2</td>\n",
       "      <td>44.215499</td>\n",
       "      <td>0.000018</td>\n",
       "      <td>0.000000</td>\n",
       "      <td>0.0</td>\n",
       "      <td>0.000000</td>\n",
       "      <td>278.575394</td>\n",
       "      <td>0.0</td>\n",
       "      <td>0.0</td>\n",
       "      <td>0.0</td>\n",
       "      <td>0.0</td>\n",
       "      <td>0.0</td>\n",
       "      <td>0.0</td>\n",
       "      <td>0.0</td>\n",
       "      <td>0.0</td>\n",
       "      <td>0.0</td>\n",
       "      <td>0.0</td>\n",
       "      <td>0.0</td>\n",
       "      <td>0.0</td>\n",
       "      <td>0.0</td>\n",
       "      <td>4.0</td>\n",
       "      <td>2010-10-03</td>\n",
       "      <td>84550.445</td>\n",
       "      <td>0.006655</td>\n",
       "      <td>61.123905</td>\n",
       "      <td>1194.040409</td>\n",
       "      <td>11.500000</td>\n",
       "      <td>290.59950</td>\n",
       "      <td>3.32201</td>\n",
       "      <td>0.0</td>\n",
       "      <td>0.627164</td>\n",
       "      <td>282.84122</td>\n",
       "      <td>Chablais</td>\n",
       "      <td>0</td>\n",
       "      <td>0</td>\n",
       "    </tr>\n",
       "    <tr>\n",
       "      <th>3</th>\n",
       "      <td>1500.0</td>\n",
       "      <td>1</td>\n",
       "      <td>6.64493</td>\n",
       "      <td>46.17685</td>\n",
       "      <td>280.511023</td>\n",
       "      <td>281.446828</td>\n",
       "      <td>0.301774</td>\n",
       "      <td>0.0</td>\n",
       "      <td>6.0</td>\n",
       "      <td>6.0</td>\n",
       "      <td>0.2</td>\n",
       "      <td>73.435071</td>\n",
       "      <td>0.000018</td>\n",
       "      <td>0.000000</td>\n",
       "      <td>0.0</td>\n",
       "      <td>0.000000</td>\n",
       "      <td>280.511023</td>\n",
       "      <td>0.0</td>\n",
       "      <td>0.0</td>\n",
       "      <td>0.0</td>\n",
       "      <td>0.0</td>\n",
       "      <td>0.0</td>\n",
       "      <td>0.0</td>\n",
       "      <td>0.0</td>\n",
       "      <td>0.0</td>\n",
       "      <td>0.0</td>\n",
       "      <td>0.0</td>\n",
       "      <td>0.0</td>\n",
       "      <td>0.0</td>\n",
       "      <td>0.0</td>\n",
       "      <td>4.0</td>\n",
       "      <td>2010-10-04</td>\n",
       "      <td>84550.445</td>\n",
       "      <td>0.005970</td>\n",
       "      <td>58.574722</td>\n",
       "      <td>1937.796566</td>\n",
       "      <td>718.493056</td>\n",
       "      <td>291.77880</td>\n",
       "      <td>5.22301</td>\n",
       "      <td>0.0</td>\n",
       "      <td>0.996815</td>\n",
       "      <td>281.35240</td>\n",
       "      <td>Chablais</td>\n",
       "      <td>0</td>\n",
       "      <td>0</td>\n",
       "    </tr>\n",
       "    <tr>\n",
       "      <th>4</th>\n",
       "      <td>1500.0</td>\n",
       "      <td>1</td>\n",
       "      <td>6.64493</td>\n",
       "      <td>46.17685</td>\n",
       "      <td>280.790508</td>\n",
       "      <td>281.635283</td>\n",
       "      <td>0.319800</td>\n",
       "      <td>0.0</td>\n",
       "      <td>6.0</td>\n",
       "      <td>6.0</td>\n",
       "      <td>0.2</td>\n",
       "      <td>17.299822</td>\n",
       "      <td>0.000018</td>\n",
       "      <td>0.000008</td>\n",
       "      <td>0.0</td>\n",
       "      <td>0.000047</td>\n",
       "      <td>280.790508</td>\n",
       "      <td>0.0</td>\n",
       "      <td>0.0</td>\n",
       "      <td>0.0</td>\n",
       "      <td>0.0</td>\n",
       "      <td>0.0</td>\n",
       "      <td>0.0</td>\n",
       "      <td>0.0</td>\n",
       "      <td>0.0</td>\n",
       "      <td>0.0</td>\n",
       "      <td>0.0</td>\n",
       "      <td>0.0</td>\n",
       "      <td>0.0</td>\n",
       "      <td>0.0</td>\n",
       "      <td>4.0</td>\n",
       "      <td>2010-10-05</td>\n",
       "      <td>84550.445</td>\n",
       "      <td>0.007777</td>\n",
       "      <td>94.231740</td>\n",
       "      <td>1837.712598</td>\n",
       "      <td>515.784722</td>\n",
       "      <td>284.17500</td>\n",
       "      <td>4.12301</td>\n",
       "      <td>0.0</td>\n",
       "      <td>0.982423</td>\n",
       "      <td>280.60666</td>\n",
       "      <td>Chablais</td>\n",
       "      <td>0</td>\n",
       "      <td>0</td>\n",
       "    </tr>\n",
       "  </tbody>\n",
       "</table>\n",
       "</div>"
      ],
      "text/plain": [
       "   elevation  massif_num      lon       lat  temp_soil_0.005_m  \\\n",
       "0     1500.0           1  6.64493  46.17685         277.709158   \n",
       "1     1500.0           1  6.64493  46.17685         279.496314   \n",
       "2     1500.0           1  6.64493  46.17685         278.575394   \n",
       "3     1500.0           1  6.64493  46.17685         280.511023   \n",
       "4     1500.0           1  6.64493  46.17685         280.790508   \n",
       "\n",
       "   temp_soil_0.08_m  liquid_water_in_soil  frozen_water_in_soil  risk_index  \\\n",
       "0        279.014864              0.323705                   0.0         6.0   \n",
       "1        280.143477              0.310928                   0.0         6.0   \n",
       "2        280.282568              0.305990                   0.0         6.0   \n",
       "3        281.446828              0.301774                   0.0         6.0   \n",
       "4        281.635283              0.319800                   0.0         6.0   \n",
       "\n",
       "   aval_type  whiteness_albedo  net_radiation  drainage    runoff  \\\n",
       "0        6.0               0.2       3.251180  0.000018  0.000019   \n",
       "1        6.0               0.2      79.345799  0.000018  0.000000   \n",
       "2        6.0               0.2      44.215499  0.000018  0.000000   \n",
       "3        6.0               0.2      73.435071  0.000018  0.000000   \n",
       "4        6.0               0.2      17.299822  0.000018  0.000008   \n",
       "\n",
       "   snow_melting_rate  rainfall_rate  surface_temperature  surface_snow_amount  \\\n",
       "0                0.0       0.000096           277.709158                  0.0   \n",
       "1                0.0       0.000000           279.496314                  0.0   \n",
       "2                0.0       0.000000           278.575394                  0.0   \n",
       "3                0.0       0.000000           280.511023                  0.0   \n",
       "4                0.0       0.000047           280.790508                  0.0   \n",
       "\n",
       "   thickness_of_snowfall  snow_thickness_1D  snow_thickness_3D  \\\n",
       "0                    0.0                0.0                0.0   \n",
       "1                    0.0                0.0                0.0   \n",
       "2                    0.0                0.0                0.0   \n",
       "3                    0.0                0.0                0.0   \n",
       "4                    0.0                0.0                0.0   \n",
       "\n",
       "   snow_thickness_5D  snow_thickness_7D  snow_water_1D  snow_water_3D  \\\n",
       "0                0.0                0.0            0.0            0.0   \n",
       "1                0.0                0.0            0.0            0.0   \n",
       "2                0.0                0.0            0.0            0.0   \n",
       "3                0.0                0.0            0.0            0.0   \n",
       "4                0.0                0.0            0.0            0.0   \n",
       "\n",
       "   snow_water_5D  snow_water_7D  penetration_ram_resistance  \\\n",
       "0            0.0            0.0                         0.0   \n",
       "1            0.0            0.0                         0.0   \n",
       "2            0.0            0.0                         0.0   \n",
       "3            0.0            0.0                         0.0   \n",
       "4            0.0            0.0                         0.0   \n",
       "\n",
       "   thickness_of_wet_snow_top_of_snowpack  \\\n",
       "0                                    0.0   \n",
       "1                                    0.0   \n",
       "2                                    0.0   \n",
       "3                                    0.0   \n",
       "4                                    0.0   \n",
       "\n",
       "   thickness_of_frozen_snow_top_of_snowpack  acccidental_risk_index  \\\n",
       "0                                       0.0                     4.0   \n",
       "1                                       0.0                     4.0   \n",
       "2                                       0.0                     4.0   \n",
       "3                                       0.0                     4.0   \n",
       "4                                       0.0                     4.0   \n",
       "\n",
       "          day  surface_air_pressure_mean  near_surface_humidity_mean  \\\n",
       "0  2010-10-01                  84550.445                    0.005956   \n",
       "1  2010-10-02                  84550.445                    0.006067   \n",
       "2  2010-10-03                  84550.445                    0.006655   \n",
       "3  2010-10-04                  84550.445                    0.005970   \n",
       "4  2010-10-05                  84550.445                    0.007777   \n",
       "\n",
       "   relative_humidity_mean  freezing_level_altitude_mean  \\\n",
       "0               80.023400                   2268.572667   \n",
       "1               58.228333                   1080.672643   \n",
       "2               61.123905                   1194.040409   \n",
       "3               58.574722                   1937.796566   \n",
       "4               94.231740                   1837.712598   \n",
       "\n",
       "   rain_snow_transition_altitude_mean  air_temp_max  wind_speed_max  \\\n",
       "0                          422.333333     283.38647         4.92501   \n",
       "1                           40.151042     288.89374         4.92201   \n",
       "2                           11.500000     290.59950         3.32201   \n",
       "3                          718.493056     291.77880         5.22301   \n",
       "4                          515.784722     284.17500         4.12301   \n",
       "\n",
       "   snowfall_rate_max  nebulosity_max  air_temp_min massif_name  aval_accident  \\\n",
       "0                0.0        0.988523     277.14102    Chablais              0   \n",
       "1                0.0        0.758338     281.01437    Chablais              0   \n",
       "2                0.0        0.627164     282.84122    Chablais              0   \n",
       "3                0.0        0.996815     281.35240    Chablais              0   \n",
       "4                0.0        0.982423     280.60666    Chablais              0   \n",
       "\n",
       "   aval_event  \n",
       "0           0  \n",
       "1           0  \n",
       "2           0  \n",
       "3           0  \n",
       "4           0  "
      ]
     },
     "execution_count": 5,
     "metadata": {},
     "output_type": "execute_result"
    }
   ],
   "source": [
    "df.head()"
   ]
  },
  {
   "cell_type": "code",
   "execution_count": 6,
   "metadata": {},
   "outputs": [
    {
     "data": {
      "text/plain": [
       "Index(['elevation', 'massif_num', 'lon', 'lat', 'temp_soil_0.005_m',\n",
       "       'temp_soil_0.08_m', 'liquid_water_in_soil', 'frozen_water_in_soil',\n",
       "       'risk_index', 'aval_type', 'whiteness_albedo', 'net_radiation',\n",
       "       'drainage', 'runoff', 'snow_melting_rate', 'rainfall_rate',\n",
       "       'surface_temperature', 'surface_snow_amount', 'thickness_of_snowfall',\n",
       "       'snow_thickness_1D', 'snow_thickness_3D', 'snow_thickness_5D',\n",
       "       'snow_thickness_7D', 'snow_water_1D', 'snow_water_3D', 'snow_water_5D',\n",
       "       'snow_water_7D', 'penetration_ram_resistance',\n",
       "       'thickness_of_wet_snow_top_of_snowpack',\n",
       "       'thickness_of_frozen_snow_top_of_snowpack', 'acccidental_risk_index',\n",
       "       'day', 'surface_air_pressure_mean', 'near_surface_humidity_mean',\n",
       "       'relative_humidity_mean', 'freezing_level_altitude_mean',\n",
       "       'rain_snow_transition_altitude_mean', 'air_temp_max', 'wind_speed_max',\n",
       "       'snowfall_rate_max', 'nebulosity_max', 'air_temp_min', 'massif_name',\n",
       "       'aval_accident', 'aval_event'],\n",
       "      dtype='object')"
      ]
     },
     "execution_count": 6,
     "metadata": {},
     "output_type": "execute_result"
    }
   ],
   "source": [
    "# viewing all variables to decide which are not useful\n",
    "df.columns"
   ]
  },
  {
   "cell_type": "code",
   "execution_count": 7,
   "metadata": {},
   "outputs": [],
   "source": [
    "# removing variables not needed for random forest model\n",
    "df_clean = df.drop(columns=[\"massif_num\",\"lon\",\"lat\",\"aval_type\", \"acccidental_risk_index\", \n",
    "                            'snow_thickness_1D', 'snow_thickness_3D', 'snow_thickness_5D',\n",
    "                           'snow_water_1D', 'snow_water_3D', 'snow_water_5D', 'risk_index',\n",
    "                           'thickness_of_wet_snow_top_of_snowpack','thickness_of_frozen_snow_top_of_snowpack',\n",
    "                           'surface_air_pressure_mean', 'rainfall_rate', 'drainage', 'runoff',\n",
    "                           'liquid_water_in_soil', 'frozen_water_in_soil', 'elevation','snow_melting_rate', 'aval_accident'])"
   ]
  },
  {
   "cell_type": "code",
   "execution_count": 8,
   "metadata": {},
   "outputs": [
    {
     "name": "stdout",
     "output_type": "stream",
     "text": [
      "<class 'pandas.core.frame.DataFrame'>\n",
      "RangeIndex: 540818 entries, 0 to 540817\n",
      "Data columns (total 22 columns):\n",
      " #   Column                              Non-Null Count   Dtype  \n",
      "---  ------                              --------------   -----  \n",
      " 0   temp_soil_0.005_m                   540818 non-null  float64\n",
      " 1   temp_soil_0.08_m                    540818 non-null  float64\n",
      " 2   whiteness_albedo                    540818 non-null  float64\n",
      " 3   net_radiation                       540818 non-null  float64\n",
      " 4   surface_temperature                 540818 non-null  float64\n",
      " 5   surface_snow_amount                 540818 non-null  float64\n",
      " 6   thickness_of_snowfall               540818 non-null  float64\n",
      " 7   snow_thickness_7D                   540818 non-null  float64\n",
      " 8   snow_water_7D                       540818 non-null  float64\n",
      " 9   penetration_ram_resistance          540818 non-null  float64\n",
      " 10  day                                 540818 non-null  object \n",
      " 11  near_surface_humidity_mean          540818 non-null  float64\n",
      " 12  relative_humidity_mean              540818 non-null  float64\n",
      " 13  freezing_level_altitude_mean        540818 non-null  float64\n",
      " 14  rain_snow_transition_altitude_mean  540818 non-null  float64\n",
      " 15  air_temp_max                        540818 non-null  float64\n",
      " 16  wind_speed_max                      540818 non-null  float64\n",
      " 17  snowfall_rate_max                   540818 non-null  float64\n",
      " 18  nebulosity_max                      540818 non-null  float64\n",
      " 19  air_temp_min                        540818 non-null  float64\n",
      " 20  massif_name                         540818 non-null  object \n",
      " 21  aval_event                          540818 non-null  int64  \n",
      "dtypes: float64(19), int64(1), object(2)\n",
      "memory usage: 90.8+ MB\n"
     ]
    }
   ],
   "source": [
    "# viewing if data type of the variables is suitable for Random Forest\n",
    "# there are 2 string categorical variables that needs to be transformed: day and massif name\n",
    "df_clean.info()"
   ]
  },
  {
   "cell_type": "code",
   "execution_count": 9,
   "metadata": {},
   "outputs": [
    {
     "data": {
      "text/plain": [
       "(540818, 22)"
      ]
     },
     "execution_count": 9,
     "metadata": {},
     "output_type": "execute_result"
    }
   ],
   "source": [
    "df_clean.shape"
   ]
  },
  {
   "cell_type": "code",
   "execution_count": 10,
   "metadata": {},
   "outputs": [
    {
     "data": {
      "text/plain": [
       "array(['Chablais', 'Aravis', 'Mont-Blanc', 'Bauges', 'Beaufortin',\n",
       "       'Hte-tarent', 'Chartreuse', 'Belledonne', 'Maurienne', 'Vanoise',\n",
       "       'Hte-maurie', 'Gdes-rouss', 'Thabor', 'Vercors', 'Oisans',\n",
       "       'Pelvoux', 'Queyras', 'Devoluy', 'Champsaur', 'Parpaillon',\n",
       "       'Ubaye', 'Ht_Var-Ver', 'Mercantour'], dtype=object)"
      ]
     },
     "execution_count": 10,
     "metadata": {},
     "output_type": "execute_result"
    }
   ],
   "source": [
    "# for transformation of massif names I will use OneHotEncoding with pd.get_dummies method\n",
    "# selecting of values for dummies\n",
    "df_clean.massif_name.unique()"
   ]
  },
  {
   "cell_type": "code",
   "execution_count": 11,
   "metadata": {},
   "outputs": [],
   "source": [
    "massifs = ('Chablais', 'Aravis', 'Mont-Blanc', 'Bauges', 'Beaufortin',\n",
    "       'Hte-tarent', 'Chartreuse', 'Belledonne', 'Maurienne', 'Vanoise',\n",
    "       'Hte-maurie', 'Gdes-rouss', 'Thabor', 'Vercors', 'Oisans',\n",
    "       'Pelvoux', 'Queyras', 'Devoluy', 'Champsaur', 'Parpaillon',\n",
    "       'Ubaye', 'Ht_Var-Ver', 'Mercantour')"
   ]
  },
  {
   "cell_type": "code",
   "execution_count": 12,
   "metadata": {},
   "outputs": [],
   "source": [
    "# creating initial dataframe\n",
    "df_massifs = pd.DataFrame(massifs, columns=['massif_name'])\n",
    "\n",
    "# generate binary values using get_dummies\n",
    "dum_df = pd.get_dummies(df_massifs, columns=[\"massif_name\"], prefix=\"massif\")\n",
    "\n",
    "# merge initial dataframe with dummies\n",
    "df_massifs = df_massifs.join(dum_df)\n",
    "\n",
    "# merge final datatset with dataframe with dummies\n",
    "df_clean = df_clean.merge(df_massifs, how=\"left\", on=\"massif_name\")"
   ]
  },
  {
   "cell_type": "code",
   "execution_count": 13,
   "metadata": {},
   "outputs": [
    {
     "data": {
      "text/html": [
       "<div>\n",
       "<style scoped>\n",
       "    .dataframe tbody tr th:only-of-type {\n",
       "        vertical-align: middle;\n",
       "    }\n",
       "\n",
       "    .dataframe tbody tr th {\n",
       "        vertical-align: top;\n",
       "    }\n",
       "\n",
       "    .dataframe thead th {\n",
       "        text-align: right;\n",
       "    }\n",
       "</style>\n",
       "<table border=\"1\" class=\"dataframe\">\n",
       "  <thead>\n",
       "    <tr style=\"text-align: right;\">\n",
       "      <th></th>\n",
       "      <th>temp_soil_0.005_m</th>\n",
       "      <th>temp_soil_0.08_m</th>\n",
       "      <th>whiteness_albedo</th>\n",
       "      <th>net_radiation</th>\n",
       "      <th>surface_temperature</th>\n",
       "      <th>surface_snow_amount</th>\n",
       "      <th>thickness_of_snowfall</th>\n",
       "      <th>snow_thickness_7D</th>\n",
       "      <th>snow_water_7D</th>\n",
       "      <th>penetration_ram_resistance</th>\n",
       "      <th>day</th>\n",
       "      <th>near_surface_humidity_mean</th>\n",
       "      <th>relative_humidity_mean</th>\n",
       "      <th>freezing_level_altitude_mean</th>\n",
       "      <th>rain_snow_transition_altitude_mean</th>\n",
       "      <th>air_temp_max</th>\n",
       "      <th>wind_speed_max</th>\n",
       "      <th>snowfall_rate_max</th>\n",
       "      <th>nebulosity_max</th>\n",
       "      <th>air_temp_min</th>\n",
       "      <th>massif_name</th>\n",
       "      <th>aval_event</th>\n",
       "      <th>massif_Aravis</th>\n",
       "      <th>massif_Bauges</th>\n",
       "      <th>massif_Beaufortin</th>\n",
       "      <th>massif_Belledonne</th>\n",
       "      <th>massif_Chablais</th>\n",
       "      <th>massif_Champsaur</th>\n",
       "      <th>massif_Chartreuse</th>\n",
       "      <th>massif_Devoluy</th>\n",
       "      <th>massif_Gdes-rouss</th>\n",
       "      <th>massif_Ht_Var-Ver</th>\n",
       "      <th>massif_Hte-maurie</th>\n",
       "      <th>massif_Hte-tarent</th>\n",
       "      <th>massif_Maurienne</th>\n",
       "      <th>massif_Mercantour</th>\n",
       "      <th>massif_Mont-Blanc</th>\n",
       "      <th>massif_Oisans</th>\n",
       "      <th>massif_Parpaillon</th>\n",
       "      <th>massif_Pelvoux</th>\n",
       "      <th>massif_Queyras</th>\n",
       "      <th>massif_Thabor</th>\n",
       "      <th>massif_Ubaye</th>\n",
       "      <th>massif_Vanoise</th>\n",
       "      <th>massif_Vercors</th>\n",
       "    </tr>\n",
       "  </thead>\n",
       "  <tbody>\n",
       "    <tr>\n",
       "      <th>0</th>\n",
       "      <td>277.709158</td>\n",
       "      <td>279.014864</td>\n",
       "      <td>0.2</td>\n",
       "      <td>3.251180</td>\n",
       "      <td>277.709158</td>\n",
       "      <td>0.0</td>\n",
       "      <td>0.0</td>\n",
       "      <td>0.0</td>\n",
       "      <td>0.0</td>\n",
       "      <td>0.0</td>\n",
       "      <td>2010-10-01</td>\n",
       "      <td>0.005956</td>\n",
       "      <td>80.023400</td>\n",
       "      <td>2268.572667</td>\n",
       "      <td>422.333333</td>\n",
       "      <td>283.38647</td>\n",
       "      <td>4.92501</td>\n",
       "      <td>0.0</td>\n",
       "      <td>0.988523</td>\n",
       "      <td>277.14102</td>\n",
       "      <td>Chablais</td>\n",
       "      <td>0</td>\n",
       "      <td>0</td>\n",
       "      <td>0</td>\n",
       "      <td>0</td>\n",
       "      <td>0</td>\n",
       "      <td>1</td>\n",
       "      <td>0</td>\n",
       "      <td>0</td>\n",
       "      <td>0</td>\n",
       "      <td>0</td>\n",
       "      <td>0</td>\n",
       "      <td>0</td>\n",
       "      <td>0</td>\n",
       "      <td>0</td>\n",
       "      <td>0</td>\n",
       "      <td>0</td>\n",
       "      <td>0</td>\n",
       "      <td>0</td>\n",
       "      <td>0</td>\n",
       "      <td>0</td>\n",
       "      <td>0</td>\n",
       "      <td>0</td>\n",
       "      <td>0</td>\n",
       "      <td>0</td>\n",
       "    </tr>\n",
       "    <tr>\n",
       "      <th>1</th>\n",
       "      <td>279.496314</td>\n",
       "      <td>280.143477</td>\n",
       "      <td>0.2</td>\n",
       "      <td>79.345799</td>\n",
       "      <td>279.496314</td>\n",
       "      <td>0.0</td>\n",
       "      <td>0.0</td>\n",
       "      <td>0.0</td>\n",
       "      <td>0.0</td>\n",
       "      <td>0.0</td>\n",
       "      <td>2010-10-02</td>\n",
       "      <td>0.006067</td>\n",
       "      <td>58.228333</td>\n",
       "      <td>1080.672643</td>\n",
       "      <td>40.151042</td>\n",
       "      <td>288.89374</td>\n",
       "      <td>4.92201</td>\n",
       "      <td>0.0</td>\n",
       "      <td>0.758338</td>\n",
       "      <td>281.01437</td>\n",
       "      <td>Chablais</td>\n",
       "      <td>0</td>\n",
       "      <td>0</td>\n",
       "      <td>0</td>\n",
       "      <td>0</td>\n",
       "      <td>0</td>\n",
       "      <td>1</td>\n",
       "      <td>0</td>\n",
       "      <td>0</td>\n",
       "      <td>0</td>\n",
       "      <td>0</td>\n",
       "      <td>0</td>\n",
       "      <td>0</td>\n",
       "      <td>0</td>\n",
       "      <td>0</td>\n",
       "      <td>0</td>\n",
       "      <td>0</td>\n",
       "      <td>0</td>\n",
       "      <td>0</td>\n",
       "      <td>0</td>\n",
       "      <td>0</td>\n",
       "      <td>0</td>\n",
       "      <td>0</td>\n",
       "      <td>0</td>\n",
       "      <td>0</td>\n",
       "    </tr>\n",
       "    <tr>\n",
       "      <th>2</th>\n",
       "      <td>278.575394</td>\n",
       "      <td>280.282568</td>\n",
       "      <td>0.2</td>\n",
       "      <td>44.215499</td>\n",
       "      <td>278.575394</td>\n",
       "      <td>0.0</td>\n",
       "      <td>0.0</td>\n",
       "      <td>0.0</td>\n",
       "      <td>0.0</td>\n",
       "      <td>0.0</td>\n",
       "      <td>2010-10-03</td>\n",
       "      <td>0.006655</td>\n",
       "      <td>61.123905</td>\n",
       "      <td>1194.040409</td>\n",
       "      <td>11.500000</td>\n",
       "      <td>290.59950</td>\n",
       "      <td>3.32201</td>\n",
       "      <td>0.0</td>\n",
       "      <td>0.627164</td>\n",
       "      <td>282.84122</td>\n",
       "      <td>Chablais</td>\n",
       "      <td>0</td>\n",
       "      <td>0</td>\n",
       "      <td>0</td>\n",
       "      <td>0</td>\n",
       "      <td>0</td>\n",
       "      <td>1</td>\n",
       "      <td>0</td>\n",
       "      <td>0</td>\n",
       "      <td>0</td>\n",
       "      <td>0</td>\n",
       "      <td>0</td>\n",
       "      <td>0</td>\n",
       "      <td>0</td>\n",
       "      <td>0</td>\n",
       "      <td>0</td>\n",
       "      <td>0</td>\n",
       "      <td>0</td>\n",
       "      <td>0</td>\n",
       "      <td>0</td>\n",
       "      <td>0</td>\n",
       "      <td>0</td>\n",
       "      <td>0</td>\n",
       "      <td>0</td>\n",
       "      <td>0</td>\n",
       "    </tr>\n",
       "    <tr>\n",
       "      <th>3</th>\n",
       "      <td>280.511023</td>\n",
       "      <td>281.446828</td>\n",
       "      <td>0.2</td>\n",
       "      <td>73.435071</td>\n",
       "      <td>280.511023</td>\n",
       "      <td>0.0</td>\n",
       "      <td>0.0</td>\n",
       "      <td>0.0</td>\n",
       "      <td>0.0</td>\n",
       "      <td>0.0</td>\n",
       "      <td>2010-10-04</td>\n",
       "      <td>0.005970</td>\n",
       "      <td>58.574722</td>\n",
       "      <td>1937.796566</td>\n",
       "      <td>718.493056</td>\n",
       "      <td>291.77880</td>\n",
       "      <td>5.22301</td>\n",
       "      <td>0.0</td>\n",
       "      <td>0.996815</td>\n",
       "      <td>281.35240</td>\n",
       "      <td>Chablais</td>\n",
       "      <td>0</td>\n",
       "      <td>0</td>\n",
       "      <td>0</td>\n",
       "      <td>0</td>\n",
       "      <td>0</td>\n",
       "      <td>1</td>\n",
       "      <td>0</td>\n",
       "      <td>0</td>\n",
       "      <td>0</td>\n",
       "      <td>0</td>\n",
       "      <td>0</td>\n",
       "      <td>0</td>\n",
       "      <td>0</td>\n",
       "      <td>0</td>\n",
       "      <td>0</td>\n",
       "      <td>0</td>\n",
       "      <td>0</td>\n",
       "      <td>0</td>\n",
       "      <td>0</td>\n",
       "      <td>0</td>\n",
       "      <td>0</td>\n",
       "      <td>0</td>\n",
       "      <td>0</td>\n",
       "      <td>0</td>\n",
       "    </tr>\n",
       "    <tr>\n",
       "      <th>4</th>\n",
       "      <td>280.790508</td>\n",
       "      <td>281.635283</td>\n",
       "      <td>0.2</td>\n",
       "      <td>17.299822</td>\n",
       "      <td>280.790508</td>\n",
       "      <td>0.0</td>\n",
       "      <td>0.0</td>\n",
       "      <td>0.0</td>\n",
       "      <td>0.0</td>\n",
       "      <td>0.0</td>\n",
       "      <td>2010-10-05</td>\n",
       "      <td>0.007777</td>\n",
       "      <td>94.231740</td>\n",
       "      <td>1837.712598</td>\n",
       "      <td>515.784722</td>\n",
       "      <td>284.17500</td>\n",
       "      <td>4.12301</td>\n",
       "      <td>0.0</td>\n",
       "      <td>0.982423</td>\n",
       "      <td>280.60666</td>\n",
       "      <td>Chablais</td>\n",
       "      <td>0</td>\n",
       "      <td>0</td>\n",
       "      <td>0</td>\n",
       "      <td>0</td>\n",
       "      <td>0</td>\n",
       "      <td>1</td>\n",
       "      <td>0</td>\n",
       "      <td>0</td>\n",
       "      <td>0</td>\n",
       "      <td>0</td>\n",
       "      <td>0</td>\n",
       "      <td>0</td>\n",
       "      <td>0</td>\n",
       "      <td>0</td>\n",
       "      <td>0</td>\n",
       "      <td>0</td>\n",
       "      <td>0</td>\n",
       "      <td>0</td>\n",
       "      <td>0</td>\n",
       "      <td>0</td>\n",
       "      <td>0</td>\n",
       "      <td>0</td>\n",
       "      <td>0</td>\n",
       "      <td>0</td>\n",
       "    </tr>\n",
       "  </tbody>\n",
       "</table>\n",
       "</div>"
      ],
      "text/plain": [
       "   temp_soil_0.005_m  temp_soil_0.08_m  whiteness_albedo  net_radiation  \\\n",
       "0         277.709158        279.014864               0.2       3.251180   \n",
       "1         279.496314        280.143477               0.2      79.345799   \n",
       "2         278.575394        280.282568               0.2      44.215499   \n",
       "3         280.511023        281.446828               0.2      73.435071   \n",
       "4         280.790508        281.635283               0.2      17.299822   \n",
       "\n",
       "   surface_temperature  surface_snow_amount  thickness_of_snowfall  \\\n",
       "0           277.709158                  0.0                    0.0   \n",
       "1           279.496314                  0.0                    0.0   \n",
       "2           278.575394                  0.0                    0.0   \n",
       "3           280.511023                  0.0                    0.0   \n",
       "4           280.790508                  0.0                    0.0   \n",
       "\n",
       "   snow_thickness_7D  snow_water_7D  penetration_ram_resistance         day  \\\n",
       "0                0.0            0.0                         0.0  2010-10-01   \n",
       "1                0.0            0.0                         0.0  2010-10-02   \n",
       "2                0.0            0.0                         0.0  2010-10-03   \n",
       "3                0.0            0.0                         0.0  2010-10-04   \n",
       "4                0.0            0.0                         0.0  2010-10-05   \n",
       "\n",
       "   near_surface_humidity_mean  relative_humidity_mean  \\\n",
       "0                    0.005956               80.023400   \n",
       "1                    0.006067               58.228333   \n",
       "2                    0.006655               61.123905   \n",
       "3                    0.005970               58.574722   \n",
       "4                    0.007777               94.231740   \n",
       "\n",
       "   freezing_level_altitude_mean  rain_snow_transition_altitude_mean  \\\n",
       "0                   2268.572667                          422.333333   \n",
       "1                   1080.672643                           40.151042   \n",
       "2                   1194.040409                           11.500000   \n",
       "3                   1937.796566                          718.493056   \n",
       "4                   1837.712598                          515.784722   \n",
       "\n",
       "   air_temp_max  wind_speed_max  snowfall_rate_max  nebulosity_max  \\\n",
       "0     283.38647         4.92501                0.0        0.988523   \n",
       "1     288.89374         4.92201                0.0        0.758338   \n",
       "2     290.59950         3.32201                0.0        0.627164   \n",
       "3     291.77880         5.22301                0.0        0.996815   \n",
       "4     284.17500         4.12301                0.0        0.982423   \n",
       "\n",
       "   air_temp_min massif_name  aval_event  massif_Aravis  massif_Bauges  \\\n",
       "0     277.14102    Chablais           0              0              0   \n",
       "1     281.01437    Chablais           0              0              0   \n",
       "2     282.84122    Chablais           0              0              0   \n",
       "3     281.35240    Chablais           0              0              0   \n",
       "4     280.60666    Chablais           0              0              0   \n",
       "\n",
       "   massif_Beaufortin  massif_Belledonne  massif_Chablais  massif_Champsaur  \\\n",
       "0                  0                  0                1                 0   \n",
       "1                  0                  0                1                 0   \n",
       "2                  0                  0                1                 0   \n",
       "3                  0                  0                1                 0   \n",
       "4                  0                  0                1                 0   \n",
       "\n",
       "   massif_Chartreuse  massif_Devoluy  massif_Gdes-rouss  massif_Ht_Var-Ver  \\\n",
       "0                  0               0                  0                  0   \n",
       "1                  0               0                  0                  0   \n",
       "2                  0               0                  0                  0   \n",
       "3                  0               0                  0                  0   \n",
       "4                  0               0                  0                  0   \n",
       "\n",
       "   massif_Hte-maurie  massif_Hte-tarent  massif_Maurienne  massif_Mercantour  \\\n",
       "0                  0                  0                 0                  0   \n",
       "1                  0                  0                 0                  0   \n",
       "2                  0                  0                 0                  0   \n",
       "3                  0                  0                 0                  0   \n",
       "4                  0                  0                 0                  0   \n",
       "\n",
       "   massif_Mont-Blanc  massif_Oisans  massif_Parpaillon  massif_Pelvoux  \\\n",
       "0                  0              0                  0               0   \n",
       "1                  0              0                  0               0   \n",
       "2                  0              0                  0               0   \n",
       "3                  0              0                  0               0   \n",
       "4                  0              0                  0               0   \n",
       "\n",
       "   massif_Queyras  massif_Thabor  massif_Ubaye  massif_Vanoise  massif_Vercors  \n",
       "0               0              0             0               0               0  \n",
       "1               0              0             0               0               0  \n",
       "2               0              0             0               0               0  \n",
       "3               0              0             0               0               0  \n",
       "4               0              0             0               0               0  "
      ]
     },
     "execution_count": 13,
     "metadata": {},
     "output_type": "execute_result"
    }
   ],
   "source": [
    "# checking dataset with dummy variables\n",
    "df_clean.head()"
   ]
  },
  {
   "cell_type": "code",
   "execution_count": 14,
   "metadata": {},
   "outputs": [],
   "source": [
    "# getting rid of redundant variable\n",
    "df_clean = df_clean.drop(columns=['massif_name'])"
   ]
  },
  {
   "cell_type": "code",
   "execution_count": 15,
   "metadata": {},
   "outputs": [
    {
     "data": {
      "text/html": [
       "<div>\n",
       "<style scoped>\n",
       "    .dataframe tbody tr th:only-of-type {\n",
       "        vertical-align: middle;\n",
       "    }\n",
       "\n",
       "    .dataframe tbody tr th {\n",
       "        vertical-align: top;\n",
       "    }\n",
       "\n",
       "    .dataframe thead th {\n",
       "        text-align: right;\n",
       "    }\n",
       "</style>\n",
       "<table border=\"1\" class=\"dataframe\">\n",
       "  <thead>\n",
       "    <tr style=\"text-align: right;\">\n",
       "      <th></th>\n",
       "      <th>temp_soil_0.005_m</th>\n",
       "      <th>temp_soil_0.08_m</th>\n",
       "      <th>whiteness_albedo</th>\n",
       "      <th>net_radiation</th>\n",
       "      <th>surface_temperature</th>\n",
       "      <th>surface_snow_amount</th>\n",
       "      <th>thickness_of_snowfall</th>\n",
       "      <th>snow_thickness_7D</th>\n",
       "      <th>snow_water_7D</th>\n",
       "      <th>penetration_ram_resistance</th>\n",
       "      <th>day</th>\n",
       "      <th>near_surface_humidity_mean</th>\n",
       "      <th>relative_humidity_mean</th>\n",
       "      <th>freezing_level_altitude_mean</th>\n",
       "      <th>rain_snow_transition_altitude_mean</th>\n",
       "      <th>air_temp_max</th>\n",
       "      <th>wind_speed_max</th>\n",
       "      <th>snowfall_rate_max</th>\n",
       "      <th>nebulosity_max</th>\n",
       "      <th>air_temp_min</th>\n",
       "      <th>aval_event</th>\n",
       "      <th>massif_Aravis</th>\n",
       "      <th>massif_Bauges</th>\n",
       "      <th>massif_Beaufortin</th>\n",
       "      <th>massif_Belledonne</th>\n",
       "      <th>massif_Chablais</th>\n",
       "      <th>massif_Champsaur</th>\n",
       "      <th>massif_Chartreuse</th>\n",
       "      <th>massif_Devoluy</th>\n",
       "      <th>massif_Gdes-rouss</th>\n",
       "      <th>massif_Ht_Var-Ver</th>\n",
       "      <th>massif_Hte-maurie</th>\n",
       "      <th>massif_Hte-tarent</th>\n",
       "      <th>massif_Maurienne</th>\n",
       "      <th>massif_Mercantour</th>\n",
       "      <th>massif_Mont-Blanc</th>\n",
       "      <th>massif_Oisans</th>\n",
       "      <th>massif_Parpaillon</th>\n",
       "      <th>massif_Pelvoux</th>\n",
       "      <th>massif_Queyras</th>\n",
       "      <th>massif_Thabor</th>\n",
       "      <th>massif_Ubaye</th>\n",
       "      <th>massif_Vanoise</th>\n",
       "      <th>massif_Vercors</th>\n",
       "      <th>year</th>\n",
       "      <th>month</th>\n",
       "    </tr>\n",
       "  </thead>\n",
       "  <tbody>\n",
       "    <tr>\n",
       "      <th>0</th>\n",
       "      <td>277.709158</td>\n",
       "      <td>279.014864</td>\n",
       "      <td>0.2</td>\n",
       "      <td>3.251180</td>\n",
       "      <td>277.709158</td>\n",
       "      <td>0.0</td>\n",
       "      <td>0.0</td>\n",
       "      <td>0.0</td>\n",
       "      <td>0.0</td>\n",
       "      <td>0.0</td>\n",
       "      <td>2010-10-01</td>\n",
       "      <td>0.005956</td>\n",
       "      <td>80.023400</td>\n",
       "      <td>2268.572667</td>\n",
       "      <td>422.333333</td>\n",
       "      <td>283.38647</td>\n",
       "      <td>4.92501</td>\n",
       "      <td>0.0</td>\n",
       "      <td>0.988523</td>\n",
       "      <td>277.14102</td>\n",
       "      <td>0</td>\n",
       "      <td>0</td>\n",
       "      <td>0</td>\n",
       "      <td>0</td>\n",
       "      <td>0</td>\n",
       "      <td>1</td>\n",
       "      <td>0</td>\n",
       "      <td>0</td>\n",
       "      <td>0</td>\n",
       "      <td>0</td>\n",
       "      <td>0</td>\n",
       "      <td>0</td>\n",
       "      <td>0</td>\n",
       "      <td>0</td>\n",
       "      <td>0</td>\n",
       "      <td>0</td>\n",
       "      <td>0</td>\n",
       "      <td>0</td>\n",
       "      <td>0</td>\n",
       "      <td>0</td>\n",
       "      <td>0</td>\n",
       "      <td>0</td>\n",
       "      <td>0</td>\n",
       "      <td>0</td>\n",
       "      <td>2010</td>\n",
       "      <td>10</td>\n",
       "    </tr>\n",
       "    <tr>\n",
       "      <th>1</th>\n",
       "      <td>279.496314</td>\n",
       "      <td>280.143477</td>\n",
       "      <td>0.2</td>\n",
       "      <td>79.345799</td>\n",
       "      <td>279.496314</td>\n",
       "      <td>0.0</td>\n",
       "      <td>0.0</td>\n",
       "      <td>0.0</td>\n",
       "      <td>0.0</td>\n",
       "      <td>0.0</td>\n",
       "      <td>2010-10-02</td>\n",
       "      <td>0.006067</td>\n",
       "      <td>58.228333</td>\n",
       "      <td>1080.672643</td>\n",
       "      <td>40.151042</td>\n",
       "      <td>288.89374</td>\n",
       "      <td>4.92201</td>\n",
       "      <td>0.0</td>\n",
       "      <td>0.758338</td>\n",
       "      <td>281.01437</td>\n",
       "      <td>0</td>\n",
       "      <td>0</td>\n",
       "      <td>0</td>\n",
       "      <td>0</td>\n",
       "      <td>0</td>\n",
       "      <td>1</td>\n",
       "      <td>0</td>\n",
       "      <td>0</td>\n",
       "      <td>0</td>\n",
       "      <td>0</td>\n",
       "      <td>0</td>\n",
       "      <td>0</td>\n",
       "      <td>0</td>\n",
       "      <td>0</td>\n",
       "      <td>0</td>\n",
       "      <td>0</td>\n",
       "      <td>0</td>\n",
       "      <td>0</td>\n",
       "      <td>0</td>\n",
       "      <td>0</td>\n",
       "      <td>0</td>\n",
       "      <td>0</td>\n",
       "      <td>0</td>\n",
       "      <td>0</td>\n",
       "      <td>2010</td>\n",
       "      <td>10</td>\n",
       "    </tr>\n",
       "    <tr>\n",
       "      <th>2</th>\n",
       "      <td>278.575394</td>\n",
       "      <td>280.282568</td>\n",
       "      <td>0.2</td>\n",
       "      <td>44.215499</td>\n",
       "      <td>278.575394</td>\n",
       "      <td>0.0</td>\n",
       "      <td>0.0</td>\n",
       "      <td>0.0</td>\n",
       "      <td>0.0</td>\n",
       "      <td>0.0</td>\n",
       "      <td>2010-10-03</td>\n",
       "      <td>0.006655</td>\n",
       "      <td>61.123905</td>\n",
       "      <td>1194.040409</td>\n",
       "      <td>11.500000</td>\n",
       "      <td>290.59950</td>\n",
       "      <td>3.32201</td>\n",
       "      <td>0.0</td>\n",
       "      <td>0.627164</td>\n",
       "      <td>282.84122</td>\n",
       "      <td>0</td>\n",
       "      <td>0</td>\n",
       "      <td>0</td>\n",
       "      <td>0</td>\n",
       "      <td>0</td>\n",
       "      <td>1</td>\n",
       "      <td>0</td>\n",
       "      <td>0</td>\n",
       "      <td>0</td>\n",
       "      <td>0</td>\n",
       "      <td>0</td>\n",
       "      <td>0</td>\n",
       "      <td>0</td>\n",
       "      <td>0</td>\n",
       "      <td>0</td>\n",
       "      <td>0</td>\n",
       "      <td>0</td>\n",
       "      <td>0</td>\n",
       "      <td>0</td>\n",
       "      <td>0</td>\n",
       "      <td>0</td>\n",
       "      <td>0</td>\n",
       "      <td>0</td>\n",
       "      <td>0</td>\n",
       "      <td>2010</td>\n",
       "      <td>10</td>\n",
       "    </tr>\n",
       "    <tr>\n",
       "      <th>3</th>\n",
       "      <td>280.511023</td>\n",
       "      <td>281.446828</td>\n",
       "      <td>0.2</td>\n",
       "      <td>73.435071</td>\n",
       "      <td>280.511023</td>\n",
       "      <td>0.0</td>\n",
       "      <td>0.0</td>\n",
       "      <td>0.0</td>\n",
       "      <td>0.0</td>\n",
       "      <td>0.0</td>\n",
       "      <td>2010-10-04</td>\n",
       "      <td>0.005970</td>\n",
       "      <td>58.574722</td>\n",
       "      <td>1937.796566</td>\n",
       "      <td>718.493056</td>\n",
       "      <td>291.77880</td>\n",
       "      <td>5.22301</td>\n",
       "      <td>0.0</td>\n",
       "      <td>0.996815</td>\n",
       "      <td>281.35240</td>\n",
       "      <td>0</td>\n",
       "      <td>0</td>\n",
       "      <td>0</td>\n",
       "      <td>0</td>\n",
       "      <td>0</td>\n",
       "      <td>1</td>\n",
       "      <td>0</td>\n",
       "      <td>0</td>\n",
       "      <td>0</td>\n",
       "      <td>0</td>\n",
       "      <td>0</td>\n",
       "      <td>0</td>\n",
       "      <td>0</td>\n",
       "      <td>0</td>\n",
       "      <td>0</td>\n",
       "      <td>0</td>\n",
       "      <td>0</td>\n",
       "      <td>0</td>\n",
       "      <td>0</td>\n",
       "      <td>0</td>\n",
       "      <td>0</td>\n",
       "      <td>0</td>\n",
       "      <td>0</td>\n",
       "      <td>0</td>\n",
       "      <td>2010</td>\n",
       "      <td>10</td>\n",
       "    </tr>\n",
       "    <tr>\n",
       "      <th>4</th>\n",
       "      <td>280.790508</td>\n",
       "      <td>281.635283</td>\n",
       "      <td>0.2</td>\n",
       "      <td>17.299822</td>\n",
       "      <td>280.790508</td>\n",
       "      <td>0.0</td>\n",
       "      <td>0.0</td>\n",
       "      <td>0.0</td>\n",
       "      <td>0.0</td>\n",
       "      <td>0.0</td>\n",
       "      <td>2010-10-05</td>\n",
       "      <td>0.007777</td>\n",
       "      <td>94.231740</td>\n",
       "      <td>1837.712598</td>\n",
       "      <td>515.784722</td>\n",
       "      <td>284.17500</td>\n",
       "      <td>4.12301</td>\n",
       "      <td>0.0</td>\n",
       "      <td>0.982423</td>\n",
       "      <td>280.60666</td>\n",
       "      <td>0</td>\n",
       "      <td>0</td>\n",
       "      <td>0</td>\n",
       "      <td>0</td>\n",
       "      <td>0</td>\n",
       "      <td>1</td>\n",
       "      <td>0</td>\n",
       "      <td>0</td>\n",
       "      <td>0</td>\n",
       "      <td>0</td>\n",
       "      <td>0</td>\n",
       "      <td>0</td>\n",
       "      <td>0</td>\n",
       "      <td>0</td>\n",
       "      <td>0</td>\n",
       "      <td>0</td>\n",
       "      <td>0</td>\n",
       "      <td>0</td>\n",
       "      <td>0</td>\n",
       "      <td>0</td>\n",
       "      <td>0</td>\n",
       "      <td>0</td>\n",
       "      <td>0</td>\n",
       "      <td>0</td>\n",
       "      <td>2010</td>\n",
       "      <td>10</td>\n",
       "    </tr>\n",
       "  </tbody>\n",
       "</table>\n",
       "</div>"
      ],
      "text/plain": [
       "   temp_soil_0.005_m  temp_soil_0.08_m  whiteness_albedo  net_radiation  \\\n",
       "0         277.709158        279.014864               0.2       3.251180   \n",
       "1         279.496314        280.143477               0.2      79.345799   \n",
       "2         278.575394        280.282568               0.2      44.215499   \n",
       "3         280.511023        281.446828               0.2      73.435071   \n",
       "4         280.790508        281.635283               0.2      17.299822   \n",
       "\n",
       "   surface_temperature  surface_snow_amount  thickness_of_snowfall  \\\n",
       "0           277.709158                  0.0                    0.0   \n",
       "1           279.496314                  0.0                    0.0   \n",
       "2           278.575394                  0.0                    0.0   \n",
       "3           280.511023                  0.0                    0.0   \n",
       "4           280.790508                  0.0                    0.0   \n",
       "\n",
       "   snow_thickness_7D  snow_water_7D  penetration_ram_resistance         day  \\\n",
       "0                0.0            0.0                         0.0  2010-10-01   \n",
       "1                0.0            0.0                         0.0  2010-10-02   \n",
       "2                0.0            0.0                         0.0  2010-10-03   \n",
       "3                0.0            0.0                         0.0  2010-10-04   \n",
       "4                0.0            0.0                         0.0  2010-10-05   \n",
       "\n",
       "   near_surface_humidity_mean  relative_humidity_mean  \\\n",
       "0                    0.005956               80.023400   \n",
       "1                    0.006067               58.228333   \n",
       "2                    0.006655               61.123905   \n",
       "3                    0.005970               58.574722   \n",
       "4                    0.007777               94.231740   \n",
       "\n",
       "   freezing_level_altitude_mean  rain_snow_transition_altitude_mean  \\\n",
       "0                   2268.572667                          422.333333   \n",
       "1                   1080.672643                           40.151042   \n",
       "2                   1194.040409                           11.500000   \n",
       "3                   1937.796566                          718.493056   \n",
       "4                   1837.712598                          515.784722   \n",
       "\n",
       "   air_temp_max  wind_speed_max  snowfall_rate_max  nebulosity_max  \\\n",
       "0     283.38647         4.92501                0.0        0.988523   \n",
       "1     288.89374         4.92201                0.0        0.758338   \n",
       "2     290.59950         3.32201                0.0        0.627164   \n",
       "3     291.77880         5.22301                0.0        0.996815   \n",
       "4     284.17500         4.12301                0.0        0.982423   \n",
       "\n",
       "   air_temp_min  aval_event  massif_Aravis  massif_Bauges  massif_Beaufortin  \\\n",
       "0     277.14102           0              0              0                  0   \n",
       "1     281.01437           0              0              0                  0   \n",
       "2     282.84122           0              0              0                  0   \n",
       "3     281.35240           0              0              0                  0   \n",
       "4     280.60666           0              0              0                  0   \n",
       "\n",
       "   massif_Belledonne  massif_Chablais  massif_Champsaur  massif_Chartreuse  \\\n",
       "0                  0                1                 0                  0   \n",
       "1                  0                1                 0                  0   \n",
       "2                  0                1                 0                  0   \n",
       "3                  0                1                 0                  0   \n",
       "4                  0                1                 0                  0   \n",
       "\n",
       "   massif_Devoluy  massif_Gdes-rouss  massif_Ht_Var-Ver  massif_Hte-maurie  \\\n",
       "0               0                  0                  0                  0   \n",
       "1               0                  0                  0                  0   \n",
       "2               0                  0                  0                  0   \n",
       "3               0                  0                  0                  0   \n",
       "4               0                  0                  0                  0   \n",
       "\n",
       "   massif_Hte-tarent  massif_Maurienne  massif_Mercantour  massif_Mont-Blanc  \\\n",
       "0                  0                 0                  0                  0   \n",
       "1                  0                 0                  0                  0   \n",
       "2                  0                 0                  0                  0   \n",
       "3                  0                 0                  0                  0   \n",
       "4                  0                 0                  0                  0   \n",
       "\n",
       "   massif_Oisans  massif_Parpaillon  massif_Pelvoux  massif_Queyras  \\\n",
       "0              0                  0               0               0   \n",
       "1              0                  0               0               0   \n",
       "2              0                  0               0               0   \n",
       "3              0                  0               0               0   \n",
       "4              0                  0               0               0   \n",
       "\n",
       "   massif_Thabor  massif_Ubaye  massif_Vanoise  massif_Vercors  year  month  \n",
       "0              0             0               0               0  2010     10  \n",
       "1              0             0               0               0  2010     10  \n",
       "2              0             0               0               0  2010     10  \n",
       "3              0             0               0               0  2010     10  \n",
       "4              0             0               0               0  2010     10  "
      ]
     },
     "execution_count": 15,
     "metadata": {},
     "output_type": "execute_result"
    }
   ],
   "source": [
    "# second categorical variable to transform is day\n",
    "# slicing is used to get years and months from day variable\n",
    "# and after we need to transform years and months to integers\n",
    "df_clean[\"year\"] = (df_clean.day.str[:4]).astype(int)\n",
    "df_clean[\"month\"] = (df_clean.day.str[5:7]).astype(int)\n",
    "df_clean.head()"
   ]
  },
  {
   "cell_type": "code",
   "execution_count": 16,
   "metadata": {},
   "outputs": [],
   "source": [
    "# getting rid of redundant variable\n",
    "df_clean = df_clean.drop(columns=['day', 'year'])"
   ]
  },
  {
   "cell_type": "code",
   "execution_count": 17,
   "metadata": {},
   "outputs": [
    {
     "data": {
      "text/html": [
       "<div>\n",
       "<style scoped>\n",
       "    .dataframe tbody tr th:only-of-type {\n",
       "        vertical-align: middle;\n",
       "    }\n",
       "\n",
       "    .dataframe tbody tr th {\n",
       "        vertical-align: top;\n",
       "    }\n",
       "\n",
       "    .dataframe thead th {\n",
       "        text-align: right;\n",
       "    }\n",
       "</style>\n",
       "<table border=\"1\" class=\"dataframe\">\n",
       "  <thead>\n",
       "    <tr style=\"text-align: right;\">\n",
       "      <th></th>\n",
       "      <th>temp_soil_0.005_m</th>\n",
       "      <th>temp_soil_0.08_m</th>\n",
       "      <th>whiteness_albedo</th>\n",
       "      <th>net_radiation</th>\n",
       "      <th>surface_temperature</th>\n",
       "      <th>surface_snow_amount</th>\n",
       "      <th>thickness_of_snowfall</th>\n",
       "      <th>snow_thickness_7D</th>\n",
       "      <th>snow_water_7D</th>\n",
       "      <th>penetration_ram_resistance</th>\n",
       "      <th>near_surface_humidity_mean</th>\n",
       "      <th>relative_humidity_mean</th>\n",
       "      <th>freezing_level_altitude_mean</th>\n",
       "      <th>rain_snow_transition_altitude_mean</th>\n",
       "      <th>air_temp_max</th>\n",
       "      <th>wind_speed_max</th>\n",
       "      <th>snowfall_rate_max</th>\n",
       "      <th>nebulosity_max</th>\n",
       "      <th>air_temp_min</th>\n",
       "      <th>aval_event</th>\n",
       "      <th>massif_Aravis</th>\n",
       "      <th>massif_Bauges</th>\n",
       "      <th>massif_Beaufortin</th>\n",
       "      <th>massif_Belledonne</th>\n",
       "      <th>massif_Chablais</th>\n",
       "      <th>massif_Champsaur</th>\n",
       "      <th>massif_Chartreuse</th>\n",
       "      <th>massif_Devoluy</th>\n",
       "      <th>massif_Gdes-rouss</th>\n",
       "      <th>massif_Ht_Var-Ver</th>\n",
       "      <th>massif_Hte-maurie</th>\n",
       "      <th>massif_Hte-tarent</th>\n",
       "      <th>massif_Maurienne</th>\n",
       "      <th>massif_Mercantour</th>\n",
       "      <th>massif_Mont-Blanc</th>\n",
       "      <th>massif_Oisans</th>\n",
       "      <th>massif_Parpaillon</th>\n",
       "      <th>massif_Pelvoux</th>\n",
       "      <th>massif_Queyras</th>\n",
       "      <th>massif_Thabor</th>\n",
       "      <th>massif_Ubaye</th>\n",
       "      <th>massif_Vanoise</th>\n",
       "      <th>massif_Vercors</th>\n",
       "      <th>month</th>\n",
       "    </tr>\n",
       "  </thead>\n",
       "  <tbody>\n",
       "    <tr>\n",
       "      <th>0</th>\n",
       "      <td>277.709158</td>\n",
       "      <td>279.014864</td>\n",
       "      <td>0.2</td>\n",
       "      <td>3.251180</td>\n",
       "      <td>277.709158</td>\n",
       "      <td>0.0</td>\n",
       "      <td>0.0</td>\n",
       "      <td>0.0</td>\n",
       "      <td>0.0</td>\n",
       "      <td>0.0</td>\n",
       "      <td>0.005956</td>\n",
       "      <td>80.023400</td>\n",
       "      <td>2268.572667</td>\n",
       "      <td>422.333333</td>\n",
       "      <td>283.38647</td>\n",
       "      <td>4.92501</td>\n",
       "      <td>0.0</td>\n",
       "      <td>0.988523</td>\n",
       "      <td>277.14102</td>\n",
       "      <td>0</td>\n",
       "      <td>0</td>\n",
       "      <td>0</td>\n",
       "      <td>0</td>\n",
       "      <td>0</td>\n",
       "      <td>1</td>\n",
       "      <td>0</td>\n",
       "      <td>0</td>\n",
       "      <td>0</td>\n",
       "      <td>0</td>\n",
       "      <td>0</td>\n",
       "      <td>0</td>\n",
       "      <td>0</td>\n",
       "      <td>0</td>\n",
       "      <td>0</td>\n",
       "      <td>0</td>\n",
       "      <td>0</td>\n",
       "      <td>0</td>\n",
       "      <td>0</td>\n",
       "      <td>0</td>\n",
       "      <td>0</td>\n",
       "      <td>0</td>\n",
       "      <td>0</td>\n",
       "      <td>0</td>\n",
       "      <td>10</td>\n",
       "    </tr>\n",
       "    <tr>\n",
       "      <th>1</th>\n",
       "      <td>279.496314</td>\n",
       "      <td>280.143477</td>\n",
       "      <td>0.2</td>\n",
       "      <td>79.345799</td>\n",
       "      <td>279.496314</td>\n",
       "      <td>0.0</td>\n",
       "      <td>0.0</td>\n",
       "      <td>0.0</td>\n",
       "      <td>0.0</td>\n",
       "      <td>0.0</td>\n",
       "      <td>0.006067</td>\n",
       "      <td>58.228333</td>\n",
       "      <td>1080.672643</td>\n",
       "      <td>40.151042</td>\n",
       "      <td>288.89374</td>\n",
       "      <td>4.92201</td>\n",
       "      <td>0.0</td>\n",
       "      <td>0.758338</td>\n",
       "      <td>281.01437</td>\n",
       "      <td>0</td>\n",
       "      <td>0</td>\n",
       "      <td>0</td>\n",
       "      <td>0</td>\n",
       "      <td>0</td>\n",
       "      <td>1</td>\n",
       "      <td>0</td>\n",
       "      <td>0</td>\n",
       "      <td>0</td>\n",
       "      <td>0</td>\n",
       "      <td>0</td>\n",
       "      <td>0</td>\n",
       "      <td>0</td>\n",
       "      <td>0</td>\n",
       "      <td>0</td>\n",
       "      <td>0</td>\n",
       "      <td>0</td>\n",
       "      <td>0</td>\n",
       "      <td>0</td>\n",
       "      <td>0</td>\n",
       "      <td>0</td>\n",
       "      <td>0</td>\n",
       "      <td>0</td>\n",
       "      <td>0</td>\n",
       "      <td>10</td>\n",
       "    </tr>\n",
       "    <tr>\n",
       "      <th>2</th>\n",
       "      <td>278.575394</td>\n",
       "      <td>280.282568</td>\n",
       "      <td>0.2</td>\n",
       "      <td>44.215499</td>\n",
       "      <td>278.575394</td>\n",
       "      <td>0.0</td>\n",
       "      <td>0.0</td>\n",
       "      <td>0.0</td>\n",
       "      <td>0.0</td>\n",
       "      <td>0.0</td>\n",
       "      <td>0.006655</td>\n",
       "      <td>61.123905</td>\n",
       "      <td>1194.040409</td>\n",
       "      <td>11.500000</td>\n",
       "      <td>290.59950</td>\n",
       "      <td>3.32201</td>\n",
       "      <td>0.0</td>\n",
       "      <td>0.627164</td>\n",
       "      <td>282.84122</td>\n",
       "      <td>0</td>\n",
       "      <td>0</td>\n",
       "      <td>0</td>\n",
       "      <td>0</td>\n",
       "      <td>0</td>\n",
       "      <td>1</td>\n",
       "      <td>0</td>\n",
       "      <td>0</td>\n",
       "      <td>0</td>\n",
       "      <td>0</td>\n",
       "      <td>0</td>\n",
       "      <td>0</td>\n",
       "      <td>0</td>\n",
       "      <td>0</td>\n",
       "      <td>0</td>\n",
       "      <td>0</td>\n",
       "      <td>0</td>\n",
       "      <td>0</td>\n",
       "      <td>0</td>\n",
       "      <td>0</td>\n",
       "      <td>0</td>\n",
       "      <td>0</td>\n",
       "      <td>0</td>\n",
       "      <td>0</td>\n",
       "      <td>10</td>\n",
       "    </tr>\n",
       "    <tr>\n",
       "      <th>3</th>\n",
       "      <td>280.511023</td>\n",
       "      <td>281.446828</td>\n",
       "      <td>0.2</td>\n",
       "      <td>73.435071</td>\n",
       "      <td>280.511023</td>\n",
       "      <td>0.0</td>\n",
       "      <td>0.0</td>\n",
       "      <td>0.0</td>\n",
       "      <td>0.0</td>\n",
       "      <td>0.0</td>\n",
       "      <td>0.005970</td>\n",
       "      <td>58.574722</td>\n",
       "      <td>1937.796566</td>\n",
       "      <td>718.493056</td>\n",
       "      <td>291.77880</td>\n",
       "      <td>5.22301</td>\n",
       "      <td>0.0</td>\n",
       "      <td>0.996815</td>\n",
       "      <td>281.35240</td>\n",
       "      <td>0</td>\n",
       "      <td>0</td>\n",
       "      <td>0</td>\n",
       "      <td>0</td>\n",
       "      <td>0</td>\n",
       "      <td>1</td>\n",
       "      <td>0</td>\n",
       "      <td>0</td>\n",
       "      <td>0</td>\n",
       "      <td>0</td>\n",
       "      <td>0</td>\n",
       "      <td>0</td>\n",
       "      <td>0</td>\n",
       "      <td>0</td>\n",
       "      <td>0</td>\n",
       "      <td>0</td>\n",
       "      <td>0</td>\n",
       "      <td>0</td>\n",
       "      <td>0</td>\n",
       "      <td>0</td>\n",
       "      <td>0</td>\n",
       "      <td>0</td>\n",
       "      <td>0</td>\n",
       "      <td>0</td>\n",
       "      <td>10</td>\n",
       "    </tr>\n",
       "    <tr>\n",
       "      <th>4</th>\n",
       "      <td>280.790508</td>\n",
       "      <td>281.635283</td>\n",
       "      <td>0.2</td>\n",
       "      <td>17.299822</td>\n",
       "      <td>280.790508</td>\n",
       "      <td>0.0</td>\n",
       "      <td>0.0</td>\n",
       "      <td>0.0</td>\n",
       "      <td>0.0</td>\n",
       "      <td>0.0</td>\n",
       "      <td>0.007777</td>\n",
       "      <td>94.231740</td>\n",
       "      <td>1837.712598</td>\n",
       "      <td>515.784722</td>\n",
       "      <td>284.17500</td>\n",
       "      <td>4.12301</td>\n",
       "      <td>0.0</td>\n",
       "      <td>0.982423</td>\n",
       "      <td>280.60666</td>\n",
       "      <td>0</td>\n",
       "      <td>0</td>\n",
       "      <td>0</td>\n",
       "      <td>0</td>\n",
       "      <td>0</td>\n",
       "      <td>1</td>\n",
       "      <td>0</td>\n",
       "      <td>0</td>\n",
       "      <td>0</td>\n",
       "      <td>0</td>\n",
       "      <td>0</td>\n",
       "      <td>0</td>\n",
       "      <td>0</td>\n",
       "      <td>0</td>\n",
       "      <td>0</td>\n",
       "      <td>0</td>\n",
       "      <td>0</td>\n",
       "      <td>0</td>\n",
       "      <td>0</td>\n",
       "      <td>0</td>\n",
       "      <td>0</td>\n",
       "      <td>0</td>\n",
       "      <td>0</td>\n",
       "      <td>0</td>\n",
       "      <td>10</td>\n",
       "    </tr>\n",
       "  </tbody>\n",
       "</table>\n",
       "</div>"
      ],
      "text/plain": [
       "   temp_soil_0.005_m  temp_soil_0.08_m  whiteness_albedo  net_radiation  \\\n",
       "0         277.709158        279.014864               0.2       3.251180   \n",
       "1         279.496314        280.143477               0.2      79.345799   \n",
       "2         278.575394        280.282568               0.2      44.215499   \n",
       "3         280.511023        281.446828               0.2      73.435071   \n",
       "4         280.790508        281.635283               0.2      17.299822   \n",
       "\n",
       "   surface_temperature  surface_snow_amount  thickness_of_snowfall  \\\n",
       "0           277.709158                  0.0                    0.0   \n",
       "1           279.496314                  0.0                    0.0   \n",
       "2           278.575394                  0.0                    0.0   \n",
       "3           280.511023                  0.0                    0.0   \n",
       "4           280.790508                  0.0                    0.0   \n",
       "\n",
       "   snow_thickness_7D  snow_water_7D  penetration_ram_resistance  \\\n",
       "0                0.0            0.0                         0.0   \n",
       "1                0.0            0.0                         0.0   \n",
       "2                0.0            0.0                         0.0   \n",
       "3                0.0            0.0                         0.0   \n",
       "4                0.0            0.0                         0.0   \n",
       "\n",
       "   near_surface_humidity_mean  relative_humidity_mean  \\\n",
       "0                    0.005956               80.023400   \n",
       "1                    0.006067               58.228333   \n",
       "2                    0.006655               61.123905   \n",
       "3                    0.005970               58.574722   \n",
       "4                    0.007777               94.231740   \n",
       "\n",
       "   freezing_level_altitude_mean  rain_snow_transition_altitude_mean  \\\n",
       "0                   2268.572667                          422.333333   \n",
       "1                   1080.672643                           40.151042   \n",
       "2                   1194.040409                           11.500000   \n",
       "3                   1937.796566                          718.493056   \n",
       "4                   1837.712598                          515.784722   \n",
       "\n",
       "   air_temp_max  wind_speed_max  snowfall_rate_max  nebulosity_max  \\\n",
       "0     283.38647         4.92501                0.0        0.988523   \n",
       "1     288.89374         4.92201                0.0        0.758338   \n",
       "2     290.59950         3.32201                0.0        0.627164   \n",
       "3     291.77880         5.22301                0.0        0.996815   \n",
       "4     284.17500         4.12301                0.0        0.982423   \n",
       "\n",
       "   air_temp_min  aval_event  massif_Aravis  massif_Bauges  massif_Beaufortin  \\\n",
       "0     277.14102           0              0              0                  0   \n",
       "1     281.01437           0              0              0                  0   \n",
       "2     282.84122           0              0              0                  0   \n",
       "3     281.35240           0              0              0                  0   \n",
       "4     280.60666           0              0              0                  0   \n",
       "\n",
       "   massif_Belledonne  massif_Chablais  massif_Champsaur  massif_Chartreuse  \\\n",
       "0                  0                1                 0                  0   \n",
       "1                  0                1                 0                  0   \n",
       "2                  0                1                 0                  0   \n",
       "3                  0                1                 0                  0   \n",
       "4                  0                1                 0                  0   \n",
       "\n",
       "   massif_Devoluy  massif_Gdes-rouss  massif_Ht_Var-Ver  massif_Hte-maurie  \\\n",
       "0               0                  0                  0                  0   \n",
       "1               0                  0                  0                  0   \n",
       "2               0                  0                  0                  0   \n",
       "3               0                  0                  0                  0   \n",
       "4               0                  0                  0                  0   \n",
       "\n",
       "   massif_Hte-tarent  massif_Maurienne  massif_Mercantour  massif_Mont-Blanc  \\\n",
       "0                  0                 0                  0                  0   \n",
       "1                  0                 0                  0                  0   \n",
       "2                  0                 0                  0                  0   \n",
       "3                  0                 0                  0                  0   \n",
       "4                  0                 0                  0                  0   \n",
       "\n",
       "   massif_Oisans  massif_Parpaillon  massif_Pelvoux  massif_Queyras  \\\n",
       "0              0                  0               0               0   \n",
       "1              0                  0               0               0   \n",
       "2              0                  0               0               0   \n",
       "3              0                  0               0               0   \n",
       "4              0                  0               0               0   \n",
       "\n",
       "   massif_Thabor  massif_Ubaye  massif_Vanoise  massif_Vercors  month  \n",
       "0              0             0               0               0     10  \n",
       "1              0             0               0               0     10  \n",
       "2              0             0               0               0     10  \n",
       "3              0             0               0               0     10  \n",
       "4              0             0               0               0     10  "
      ]
     },
     "execution_count": 17,
     "metadata": {},
     "output_type": "execute_result"
    }
   ],
   "source": [
    "# checking dataset with new time variables\n",
    "df_clean.head()"
   ]
  },
  {
   "cell_type": "code",
   "execution_count": 18,
   "metadata": {},
   "outputs": [
    {
     "data": {
      "text/plain": [
       "0"
      ]
     },
     "execution_count": 18,
     "metadata": {},
     "output_type": "execute_result"
    }
   ],
   "source": [
    "# verifying there are no null values in dataset\n",
    "(df_clean.apply(lambda x: x.isnull().sum())).sum()"
   ]
  },
  {
   "cell_type": "code",
   "execution_count": 19,
   "metadata": {},
   "outputs": [
    {
     "name": "stdout",
     "output_type": "stream",
     "text": [
      "<class 'pandas.core.frame.DataFrame'>\n",
      "Int64Index: 540818 entries, 0 to 540817\n",
      "Data columns (total 44 columns):\n",
      " #   Column                              Non-Null Count   Dtype  \n",
      "---  ------                              --------------   -----  \n",
      " 0   temp_soil_0.005_m                   540818 non-null  float64\n",
      " 1   temp_soil_0.08_m                    540818 non-null  float64\n",
      " 2   whiteness_albedo                    540818 non-null  float64\n",
      " 3   net_radiation                       540818 non-null  float64\n",
      " 4   surface_temperature                 540818 non-null  float64\n",
      " 5   surface_snow_amount                 540818 non-null  float64\n",
      " 6   thickness_of_snowfall               540818 non-null  float64\n",
      " 7   snow_thickness_7D                   540818 non-null  float64\n",
      " 8   snow_water_7D                       540818 non-null  float64\n",
      " 9   penetration_ram_resistance          540818 non-null  float64\n",
      " 10  near_surface_humidity_mean          540818 non-null  float64\n",
      " 11  relative_humidity_mean              540818 non-null  float64\n",
      " 12  freezing_level_altitude_mean        540818 non-null  float64\n",
      " 13  rain_snow_transition_altitude_mean  540818 non-null  float64\n",
      " 14  air_temp_max                        540818 non-null  float64\n",
      " 15  wind_speed_max                      540818 non-null  float64\n",
      " 16  snowfall_rate_max                   540818 non-null  float64\n",
      " 17  nebulosity_max                      540818 non-null  float64\n",
      " 18  air_temp_min                        540818 non-null  float64\n",
      " 19  aval_event                          540818 non-null  int64  \n",
      " 20  massif_Aravis                       540818 non-null  uint8  \n",
      " 21  massif_Bauges                       540818 non-null  uint8  \n",
      " 22  massif_Beaufortin                   540818 non-null  uint8  \n",
      " 23  massif_Belledonne                   540818 non-null  uint8  \n",
      " 24  massif_Chablais                     540818 non-null  uint8  \n",
      " 25  massif_Champsaur                    540818 non-null  uint8  \n",
      " 26  massif_Chartreuse                   540818 non-null  uint8  \n",
      " 27  massif_Devoluy                      540818 non-null  uint8  \n",
      " 28  massif_Gdes-rouss                   540818 non-null  uint8  \n",
      " 29  massif_Ht_Var-Ver                   540818 non-null  uint8  \n",
      " 30  massif_Hte-maurie                   540818 non-null  uint8  \n",
      " 31  massif_Hte-tarent                   540818 non-null  uint8  \n",
      " 32  massif_Maurienne                    540818 non-null  uint8  \n",
      " 33  massif_Mercantour                   540818 non-null  uint8  \n",
      " 34  massif_Mont-Blanc                   540818 non-null  uint8  \n",
      " 35  massif_Oisans                       540818 non-null  uint8  \n",
      " 36  massif_Parpaillon                   540818 non-null  uint8  \n",
      " 37  massif_Pelvoux                      540818 non-null  uint8  \n",
      " 38  massif_Queyras                      540818 non-null  uint8  \n",
      " 39  massif_Thabor                       540818 non-null  uint8  \n",
      " 40  massif_Ubaye                        540818 non-null  uint8  \n",
      " 41  massif_Vanoise                      540818 non-null  uint8  \n",
      " 42  massif_Vercors                      540818 non-null  uint8  \n",
      " 43  month                               540818 non-null  int32  \n",
      "dtypes: float64(19), int32(1), int64(1), uint8(23)\n",
      "memory usage: 100.6 MB\n"
     ]
    }
   ],
   "source": [
    "# checking one last time my dataset before creating RF models\n",
    "df_clean.info()"
   ]
  },
  {
   "cell_type": "markdown",
   "metadata": {},
   "source": [
    "## Problem with very imbalanced dataset\n",
    "- metrics like Accuracy will be very high, but that does not provide any significant insight, because of imbalanced dataset with majority of No avalanche events\n",
    "- in classification report metrics **Precision will have lesser importance for my analysis than Recall**, because I want to reduce number of False Negatives rather then number of False Positives\n",
    "- **For performance of RF model, I will look mainly on weighted F1-score** metrics because it is the most suitable for this kind of analysis. F1-score is in fact weighted average of the precision and recall."
   ]
  },
  {
   "cell_type": "code",
   "execution_count": 20,
   "metadata": {},
   "outputs": [
    {
     "data": {
      "text/plain": [
       "0    99.62\n",
       "1     0.38\n",
       "Name: aval_event, dtype: float64"
      ]
     },
     "execution_count": 20,
     "metadata": {},
     "output_type": "execute_result"
    }
   ],
   "source": [
    "# Percentage of cases with and without avalanches showing imbalanced dataset\n",
    "round((df_clean.aval_event.value_counts()/540818)*100, 2)"
   ]
  },
  {
   "cell_type": "code",
   "execution_count": 21,
   "metadata": {},
   "outputs": [],
   "source": [
    "# labels are the values we want to predict\n",
    "labels_ev = np.array(df_clean['aval_event'])\n",
    "\n",
    "# removing the labels from the features\n",
    "features_ev = df_clean.drop(columns=['aval_event'])\n",
    "\n",
    "# saving feature names for later use\n",
    "feature_list_ev = list(features_ev.columns)\n",
    "\n",
    "# converting to numpy array\n",
    "features_ev = np.array(features_ev)"
   ]
  },
  {
   "cell_type": "code",
   "execution_count": 22,
   "metadata": {},
   "outputs": [],
   "source": [
    "# splitting dataset into train and test\n",
    "train_features_ev, test_features_ev, train_labels_ev, test_labels_ev = train_test_split(features_ev, labels_ev, test_size = 0.33, random_state = 42)"
   ]
  },
  {
   "cell_type": "code",
   "execution_count": 23,
   "metadata": {},
   "outputs": [
    {
     "name": "stdout",
     "output_type": "stream",
     "text": [
      "Training Features Shape: (362348, 43)\n",
      "Training Labels Shape: (362348,)\n",
      "Testing Features Shape: (178470, 43)\n",
      "Testing Labels Shape: (178470,)\n"
     ]
    }
   ],
   "source": [
    "# displaying sizes of train/test features and labels\n",
    "print('Training Features Shape:', train_features_ev.shape)\n",
    "print('Training Labels Shape:', train_labels_ev.shape)\n",
    "print('Testing Features Shape:', test_features_ev.shape)\n",
    "print('Testing Labels Shape:', test_labels_ev.shape)"
   ]
  },
  {
   "cell_type": "code",
   "execution_count": 24,
   "metadata": {},
   "outputs": [],
   "source": [
    "# generating dataset\n",
    "features_ev, labels_ev = make_classification(n_samples=20000, n_features=2, n_redundant=0, \n",
    "                           n_clusters_per_class=1, weights=[0.99], flip_y=0, random_state=4)\n",
    "\n",
    "# defining model\n",
    "rfc_basic=RandomForestClassifier(n_estimators=100, class_weight='balanced_subsample')\n",
    "\n",
    "# defining evaluation procedure\n",
    "cv = RepeatedStratifiedKFold(n_splits=10, n_repeats=3, random_state=1)\n",
    "\n",
    "# evaluating model\n",
    "scores = cross_val_score(rfc_basic, features_ev, labels_ev, scoring='roc_auc', cv=cv, n_jobs=-1)"
   ]
  },
  {
   "cell_type": "code",
   "execution_count": 25,
   "metadata": {},
   "outputs": [
    {
     "name": "stdout",
     "output_type": "stream",
     "text": [
      "Wall time: 5min 38s\n"
     ]
    }
   ],
   "source": [
    "%%time\n",
    "\n",
    "# fitting model and prediction\n",
    "rfc_basic.fit(train_features_ev,train_labels_ev)\n",
    "\n",
    "label_pred_ev = rfc_basic.predict(test_features_ev)"
   ]
  },
  {
   "cell_type": "code",
   "execution_count": 26,
   "metadata": {},
   "outputs": [
    {
     "name": "stdout",
     "output_type": "stream",
     "text": [
      "Mean ROC AUC: 0.97906\n",
      "Accuracy: 0.99821\n",
      "F1_score weighted: 0.99795\n"
     ]
    }
   ],
   "source": [
    "# summary of performance\n",
    "print('Mean ROC AUC: %.5f' % mean(scores))\n",
    "print(\"Accuracy:\",round(metrics.accuracy_score(test_labels_ev, label_pred_ev),5))\n",
    "print(\"F1_score weighted:\", round(f1_score(test_labels_ev, label_pred_ev, average='weighted'),5))"
   ]
  },
  {
   "cell_type": "code",
   "execution_count": 27,
   "metadata": {},
   "outputs": [
    {
     "data": {
      "image/png": "[encoded data removed]",
      "text/plain": [
       "<Figure size 360x360 with 2 Axes>"
      ]
     },
     "metadata": {},
     "output_type": "display_data"
    }
   ],
   "source": [
    "# displaying confusion matrix\n",
    "sns.set(font_scale=1.75)\n",
    "f, ax = plt.subplots(figsize=(5, 5))\n",
    "cf_matrix_basic = confusion_matrix(test_labels_ev, label_pred_ev)\n",
    "sns.heatmap(cf_matrix_basic, annot=True, ax=ax, cmap=\"YlGnBu\", fmt=\".0f\", linewidths=.5)\n",
    "plt.title(\"Confusion matrix for avalanches (without undersampling)\")\n",
    "plt.xlabel('Predicted')\n",
    "plt.ylabel('Real');"
   ]
  },
  {
   "cell_type": "code",
   "execution_count": 28,
   "metadata": {},
   "outputs": [
    {
     "name": "stdout",
     "output_type": "stream",
     "text": [
      "              precision    recall  f1-score   support\n",
      "\n",
      "           0      0.998     1.000     0.999    177760\n",
      "           1      1.000     0.549     0.709       710\n",
      "\n",
      "    accuracy                          0.998    178470\n",
      "   macro avg      0.999     0.775     0.854    178470\n",
      "weighted avg      0.998     0.998     0.998    178470\n",
      "\n"
     ]
    }
   ],
   "source": [
    "# displaying report of performance of model\n",
    "print(classification_report(test_labels_ev, label_pred_ev, digits=3))"
   ]
  },
  {
   "cell_type": "markdown",
   "metadata": {},
   "source": [
    "### Vanilla Undersampling\n",
    "- strategy to improve recall and F1 score, especially for cases where avalanche events happened\n",
    "- class weight balanced subsample is used because in previous iterations of model this class weight had the best performance metrics"
   ]
  },
  {
   "cell_type": "code",
   "execution_count": 29,
   "metadata": {},
   "outputs": [],
   "source": [
    "# class count for undersampling\n",
    "count_class_0, count_class_1 = df_clean.aval_event.value_counts()\n",
    "\n",
    "# dividing by class\n",
    "df_class_0 = df_clean[df_clean['aval_event'] == 0]\n",
    "df_class_1 = df_clean[df_clean['aval_event'] == 1]"
   ]
  },
  {
   "cell_type": "code",
   "execution_count": 30,
   "metadata": {},
   "outputs": [
    {
     "name": "stdout",
     "output_type": "stream",
     "text": [
      "Random under-sampling:\n",
      "1    2039\n",
      "0    2039\n",
      "Name: aval_event, dtype: int64\n"
     ]
    },
    {
     "data": {
      "image/png": "[encoded data removed]",
      "text/plain": [
       "<Figure size 432x288 with 1 Axes>"
      ]
     },
     "metadata": {},
     "output_type": "display_data"
    }
   ],
   "source": [
    "# creating new dataset for undersampling and plotting\n",
    "df_class_0_under = df_class_0.sample(count_class_1)\n",
    "\n",
    "df_test_under = pd.concat([df_class_0_under, df_class_1], axis=0)\n",
    "\n",
    "print('Random under-sampling:')\n",
    "print(df_test_under.aval_event.value_counts())\n",
    "\n",
    "df_test_under.aval_event.value_counts().plot(kind='bar', title='Count (target)');"
   ]
  },
  {
   "cell_type": "code",
   "execution_count": 31,
   "metadata": {},
   "outputs": [],
   "source": [
    "# labels are the values we want to predict\n",
    "labels_under = np.array(df_test_under['aval_event'])\n",
    "\n",
    "# remove the labels from the features\n",
    "features_under = df_test_under.drop(columns=['aval_event'])\n",
    "\n",
    "# saving feature names for later use\n",
    "feature_list_under = list(features_under.columns)\n",
    "\n",
    "# convert to numpy array\n",
    "features_under = np.array(features_under)"
   ]
  },
  {
   "cell_type": "code",
   "execution_count": 32,
   "metadata": {},
   "outputs": [],
   "source": [
    "# splitting dataset into train and test\n",
    "train_features_under, test_features_under, train_labels_under, test_labels_under = train_test_split(features_under, labels_under, test_size = 0.33, random_state = 42)"
   ]
  },
  {
   "cell_type": "code",
   "execution_count": 33,
   "metadata": {},
   "outputs": [
    {
     "name": "stdout",
     "output_type": "stream",
     "text": [
      "Training Features Shape: (2732, 43)\n",
      "Training Labels Shape: (2732,)\n",
      "Testing Features Shape: (1346, 43)\n",
      "Testing Labels Shape: (1346,)\n"
     ]
    }
   ],
   "source": [
    "# displaying sizes of train/test features and labels\n",
    "print('Training Features Shape:', train_features_under.shape)\n",
    "print('Training Labels Shape:', train_labels_under.shape)\n",
    "print('Testing Features Shape:', test_features_under.shape)\n",
    "print('Testing Labels Shape:', test_labels_under.shape)"
   ]
  },
  {
   "cell_type": "code",
   "execution_count": 34,
   "metadata": {},
   "outputs": [],
   "source": [
    "# generating dataset\n",
    "features_under, labels_under = make_classification(n_samples=20000, n_features=2, n_redundant=0, \n",
    "                           n_clusters_per_class=1, weights=[0.99], flip_y=0, random_state=4)\n",
    "# defining model\n",
    "rfc_under_sub=RandomForestClassifier(n_estimators=100, class_weight='balanced_subsample')\n",
    "\n",
    "# defining evaluation procedure\n",
    "cv = RepeatedStratifiedKFold(n_splits=10, n_repeats=3, random_state=1)\n",
    "\n",
    "# evaluating model\n",
    "scores = cross_val_score(rfc_under_sub, features_under, labels_under, scoring='roc_auc', cv=cv, n_jobs=-1)"
   ]
  },
  {
   "cell_type": "code",
   "execution_count": 35,
   "metadata": {},
   "outputs": [],
   "source": [
    "#fitting model and prediciton\n",
    "rfc_under_sub.fit(train_features_under,train_labels_under)\n",
    "\n",
    "label_pred_under=rfc_under_sub.predict(test_features_under)"
   ]
  },
  {
   "cell_type": "code",
   "execution_count": 36,
   "metadata": {},
   "outputs": [
    {
     "name": "stdout",
     "output_type": "stream",
     "text": [
      "Mean ROC AUC: 0.97663\n",
      "Accuracy: 0.8945\n",
      "F1_score weighted: 0.89446\n"
     ]
    }
   ],
   "source": [
    "# summary of performance\n",
    "print('Mean ROC AUC: %.5f' % mean(scores))\n",
    "print(\"Accuracy:\",round(metrics.accuracy_score(test_labels_under, label_pred_under),5))\n",
    "print(\"F1_score weighted:\", round(f1_score(test_labels_under, label_pred_under, average='weighted'),5))"
   ]
  },
  {
   "cell_type": "code",
   "execution_count": 37,
   "metadata": {},
   "outputs": [
    {
     "data": {
      "image/png": "[encoded data removed]",
      "text/plain": [
       "<Figure size 360x360 with 2 Axes>"
      ]
     },
     "metadata": {},
     "output_type": "display_data"
    }
   ],
   "source": [
    "# displaying confusion matrix\n",
    "\n",
    "cf_matrix_under_1 = confusion_matrix(test_labels_under, label_pred_under)\n",
    "f, ax = plt.subplots(figsize=(5, 5))\n",
    "sns.heatmap(cf_matrix_under_1, annot=True, ax=ax, cmap=\"YlGnBu\", fmt=\".0f\", linewidths=.5)\n",
    "plt.title(\"Confusion matrix for avalanches with undersampling\")\n",
    "plt.xlabel('Predicted')\n",
    "plt.ylabel('Real');"
   ]
  },
  {
   "cell_type": "code",
   "execution_count": 38,
   "metadata": {},
   "outputs": [
    {
     "name": "stdout",
     "output_type": "stream",
     "text": [
      "              precision    recall  f1-score   support\n",
      "\n",
      "           0      0.931     0.859     0.894       694\n",
      "           1      0.861     0.933     0.895       652\n",
      "\n",
      "    accuracy                          0.895      1346\n",
      "   macro avg      0.896     0.896     0.894      1346\n",
      "weighted avg      0.897     0.895     0.894      1346\n",
      "\n"
     ]
    }
   ],
   "source": [
    "# dispplaying report of performance of model\n",
    "print(classification_report(test_labels_under, label_pred_under, digits=3))"
   ]
  },
  {
   "cell_type": "markdown",
   "metadata": {},
   "source": [
    "## Results with undersampling model on normal sample\n",
    "- in reality there won't be 50 % of cases with and 50 % without avalanche\n",
    "- therefore predictive capacity of the my **Random Forest model will be more close to results from normal sample**, even though in reality there are more avalanches than they are being detected so there is more than 0,4 % of avalanches which I have in my dataset"
   ]
  },
  {
   "cell_type": "markdown",
   "metadata": {},
   "source": [
    "### RF model with undersampling on normal sample"
   ]
  },
  {
   "cell_type": "code",
   "execution_count": 39,
   "metadata": {},
   "outputs": [],
   "source": [
    "# labels are the values we want to predict\n",
    "labels_ev = np.array(df_clean['aval_event'])\n",
    "\n",
    "# removing the labels from the features\n",
    "features_ev = df_clean.drop(columns=['aval_event'])\n",
    "\n",
    "# saving feature names for later use\n",
    "feature_list_ev = list(features_ev.columns)\n",
    "\n",
    "# converting to numpy array\n",
    "features_ev = np.array(features_ev)"
   ]
  },
  {
   "cell_type": "code",
   "execution_count": 40,
   "metadata": {},
   "outputs": [],
   "source": [
    "# splitting dataset into train and test\n",
    "train_features_ev, test_features_ev, train_labels_ev, test_labels_ev = train_test_split(features_ev, labels_ev, test_size = 0.33, random_state = 42)"
   ]
  },
  {
   "cell_type": "code",
   "execution_count": 41,
   "metadata": {},
   "outputs": [
    {
     "name": "stdout",
     "output_type": "stream",
     "text": [
      "Training Features Shape: (362348, 43)\n",
      "Training Labels Shape: (362348,)\n",
      "Testing Features Shape: (178470, 43)\n",
      "Testing Labels Shape: (178470,)\n"
     ]
    }
   ],
   "source": [
    "# displaying sizes of train/test features and labels\n",
    "print('Training Features Shape:', train_features_ev.shape)\n",
    "print('Training Labels Shape:', train_labels_ev.shape)\n",
    "print('Testing Features Shape:', test_features_ev.shape)\n",
    "print('Testing Labels Shape:', test_labels_ev.shape)"
   ]
  },
  {
   "cell_type": "code",
   "execution_count": 42,
   "metadata": {},
   "outputs": [],
   "source": [
    "# generating dataset\n",
    "features_ev, labels_ev = make_classification(n_samples=20000, n_features=2, n_redundant=0, \n",
    "                           n_clusters_per_class=1, weights=[0.99], flip_y=0, random_state=4)\n",
    "\n",
    "# evaluating model\n",
    "scores = cross_val_score(rfc_under_sub, features_ev, labels_ev, scoring='roc_auc', cv=cv, n_jobs=-1)"
   ]
  },
  {
   "cell_type": "code",
   "execution_count": 43,
   "metadata": {},
   "outputs": [
    {
     "name": "stdout",
     "output_type": "stream",
     "text": [
      "Wall time: 5min 32s\n"
     ]
    }
   ],
   "source": [
    "%%time\n",
    "\n",
    "# fitting model and prediction\n",
    "rfc_under_sub.fit(train_features_ev,train_labels_ev)\n",
    "\n",
    "label_pred_ev = rfc_under_sub.predict(test_features_ev)"
   ]
  },
  {
   "cell_type": "code",
   "execution_count": 44,
   "metadata": {},
   "outputs": [
    {
     "name": "stdout",
     "output_type": "stream",
     "text": [
      "Mean ROC AUC: 0.97750\n",
      "Accuracy: 0.99822\n",
      "F1_score weighted: 0.99796\n"
     ]
    }
   ],
   "source": [
    "# summary of performance\n",
    "print('Mean ROC AUC: %.5f' % mean(scores))\n",
    "print(\"Accuracy:\",round(metrics.accuracy_score(test_labels_ev, label_pred_ev),5))\n",
    "print(\"F1_score weighted:\", round(f1_score(test_labels_ev, label_pred_ev, average='weighted'),5))"
   ]
  },
  {
   "cell_type": "code",
   "execution_count": 45,
   "metadata": {},
   "outputs": [
    {
     "data": {
      "image/png": "[encoded data removed]",
      "text/plain": [
       "<Figure size 360x360 with 2 Axes>"
      ]
     },
     "metadata": {},
     "output_type": "display_data"
    }
   ],
   "source": [
    "# displaying confusion matrix\n",
    "f, ax = plt.subplots(figsize=(5, 5))\n",
    "cf_matrix_2 = confusion_matrix(test_labels_ev, label_pred_ev)\n",
    "sns.heatmap(cf_matrix_2, annot=True, ax=ax, cmap=\"YlGnBu\", fmt=\".0f\", linewidths=.5)\n",
    "plt.title(\"Confusion matrix for avalanches on normal sample,  (RF model trained on undersample)\")\n",
    "plt.xlabel('Predicted')\n",
    "plt.ylabel('Real');"
   ]
  },
  {
   "cell_type": "code",
   "execution_count": 46,
   "metadata": {},
   "outputs": [
    {
     "name": "stdout",
     "output_type": "stream",
     "text": [
      "              precision    recall  f1-score   support\n",
      "\n",
      "           0      0.998     1.000     0.999    177760\n",
      "           1      1.000     0.552     0.711       710\n",
      "\n",
      "    accuracy                          0.998    178470\n",
      "   macro avg      0.999     0.776     0.855    178470\n",
      "weighted avg      0.998     0.998     0.998    178470\n",
      "\n"
     ]
    }
   ],
   "source": [
    "# displaying report of performance of model\n",
    "print(classification_report(test_labels_ev, label_pred_ev, digits=3))"
   ]
  },
  {
   "cell_type": "markdown",
   "metadata": {},
   "source": [
    "## Results without summer months"
   ]
  },
  {
   "cell_type": "code",
   "execution_count": 47,
   "metadata": {},
   "outputs": [],
   "source": [
    "summer_season = [6, 7, 8]\n",
    "df_winter = df_clean[~df_clean[\"month\"].isin(summer_season)]"
   ]
  },
  {
   "cell_type": "code",
   "execution_count": 48,
   "metadata": {},
   "outputs": [
    {
     "data": {
      "text/html": [
       "<div>\n",
       "<style scoped>\n",
       "    .dataframe tbody tr th:only-of-type {\n",
       "        vertical-align: middle;\n",
       "    }\n",
       "\n",
       "    .dataframe tbody tr th {\n",
       "        vertical-align: top;\n",
       "    }\n",
       "\n",
       "    .dataframe thead th {\n",
       "        text-align: right;\n",
       "    }\n",
       "</style>\n",
       "<table border=\"1\" class=\"dataframe\">\n",
       "  <thead>\n",
       "    <tr style=\"text-align: right;\">\n",
       "      <th></th>\n",
       "      <th>temp_soil_0.005_m</th>\n",
       "      <th>temp_soil_0.08_m</th>\n",
       "      <th>whiteness_albedo</th>\n",
       "      <th>net_radiation</th>\n",
       "      <th>surface_temperature</th>\n",
       "      <th>surface_snow_amount</th>\n",
       "      <th>thickness_of_snowfall</th>\n",
       "      <th>snow_thickness_7D</th>\n",
       "      <th>snow_water_7D</th>\n",
       "      <th>penetration_ram_resistance</th>\n",
       "      <th>near_surface_humidity_mean</th>\n",
       "      <th>relative_humidity_mean</th>\n",
       "      <th>freezing_level_altitude_mean</th>\n",
       "      <th>rain_snow_transition_altitude_mean</th>\n",
       "      <th>air_temp_max</th>\n",
       "      <th>wind_speed_max</th>\n",
       "      <th>snowfall_rate_max</th>\n",
       "      <th>nebulosity_max</th>\n",
       "      <th>air_temp_min</th>\n",
       "      <th>aval_event</th>\n",
       "      <th>massif_Aravis</th>\n",
       "      <th>massif_Bauges</th>\n",
       "      <th>massif_Beaufortin</th>\n",
       "      <th>massif_Belledonne</th>\n",
       "      <th>massif_Chablais</th>\n",
       "      <th>massif_Champsaur</th>\n",
       "      <th>massif_Chartreuse</th>\n",
       "      <th>massif_Devoluy</th>\n",
       "      <th>massif_Gdes-rouss</th>\n",
       "      <th>massif_Ht_Var-Ver</th>\n",
       "      <th>massif_Hte-maurie</th>\n",
       "      <th>massif_Hte-tarent</th>\n",
       "      <th>massif_Maurienne</th>\n",
       "      <th>massif_Mercantour</th>\n",
       "      <th>massif_Mont-Blanc</th>\n",
       "      <th>massif_Oisans</th>\n",
       "      <th>massif_Parpaillon</th>\n",
       "      <th>massif_Pelvoux</th>\n",
       "      <th>massif_Queyras</th>\n",
       "      <th>massif_Thabor</th>\n",
       "      <th>massif_Ubaye</th>\n",
       "      <th>massif_Vanoise</th>\n",
       "      <th>massif_Vercors</th>\n",
       "      <th>month</th>\n",
       "    </tr>\n",
       "  </thead>\n",
       "  <tbody>\n",
       "    <tr>\n",
       "      <th>0</th>\n",
       "      <td>277.709158</td>\n",
       "      <td>279.014864</td>\n",
       "      <td>0.2</td>\n",
       "      <td>3.251180</td>\n",
       "      <td>277.709158</td>\n",
       "      <td>0.0</td>\n",
       "      <td>0.0</td>\n",
       "      <td>0.0</td>\n",
       "      <td>0.0</td>\n",
       "      <td>0.0</td>\n",
       "      <td>0.005956</td>\n",
       "      <td>80.023400</td>\n",
       "      <td>2268.572667</td>\n",
       "      <td>422.333333</td>\n",
       "      <td>283.38647</td>\n",
       "      <td>4.92501</td>\n",
       "      <td>0.0</td>\n",
       "      <td>0.988523</td>\n",
       "      <td>277.14102</td>\n",
       "      <td>0</td>\n",
       "      <td>0</td>\n",
       "      <td>0</td>\n",
       "      <td>0</td>\n",
       "      <td>0</td>\n",
       "      <td>1</td>\n",
       "      <td>0</td>\n",
       "      <td>0</td>\n",
       "      <td>0</td>\n",
       "      <td>0</td>\n",
       "      <td>0</td>\n",
       "      <td>0</td>\n",
       "      <td>0</td>\n",
       "      <td>0</td>\n",
       "      <td>0</td>\n",
       "      <td>0</td>\n",
       "      <td>0</td>\n",
       "      <td>0</td>\n",
       "      <td>0</td>\n",
       "      <td>0</td>\n",
       "      <td>0</td>\n",
       "      <td>0</td>\n",
       "      <td>0</td>\n",
       "      <td>0</td>\n",
       "      <td>10</td>\n",
       "    </tr>\n",
       "    <tr>\n",
       "      <th>1</th>\n",
       "      <td>279.496314</td>\n",
       "      <td>280.143477</td>\n",
       "      <td>0.2</td>\n",
       "      <td>79.345799</td>\n",
       "      <td>279.496314</td>\n",
       "      <td>0.0</td>\n",
       "      <td>0.0</td>\n",
       "      <td>0.0</td>\n",
       "      <td>0.0</td>\n",
       "      <td>0.0</td>\n",
       "      <td>0.006067</td>\n",
       "      <td>58.228333</td>\n",
       "      <td>1080.672643</td>\n",
       "      <td>40.151042</td>\n",
       "      <td>288.89374</td>\n",
       "      <td>4.92201</td>\n",
       "      <td>0.0</td>\n",
       "      <td>0.758338</td>\n",
       "      <td>281.01437</td>\n",
       "      <td>0</td>\n",
       "      <td>0</td>\n",
       "      <td>0</td>\n",
       "      <td>0</td>\n",
       "      <td>0</td>\n",
       "      <td>1</td>\n",
       "      <td>0</td>\n",
       "      <td>0</td>\n",
       "      <td>0</td>\n",
       "      <td>0</td>\n",
       "      <td>0</td>\n",
       "      <td>0</td>\n",
       "      <td>0</td>\n",
       "      <td>0</td>\n",
       "      <td>0</td>\n",
       "      <td>0</td>\n",
       "      <td>0</td>\n",
       "      <td>0</td>\n",
       "      <td>0</td>\n",
       "      <td>0</td>\n",
       "      <td>0</td>\n",
       "      <td>0</td>\n",
       "      <td>0</td>\n",
       "      <td>0</td>\n",
       "      <td>10</td>\n",
       "    </tr>\n",
       "    <tr>\n",
       "      <th>2</th>\n",
       "      <td>278.575394</td>\n",
       "      <td>280.282568</td>\n",
       "      <td>0.2</td>\n",
       "      <td>44.215499</td>\n",
       "      <td>278.575394</td>\n",
       "      <td>0.0</td>\n",
       "      <td>0.0</td>\n",
       "      <td>0.0</td>\n",
       "      <td>0.0</td>\n",
       "      <td>0.0</td>\n",
       "      <td>0.006655</td>\n",
       "      <td>61.123905</td>\n",
       "      <td>1194.040409</td>\n",
       "      <td>11.500000</td>\n",
       "      <td>290.59950</td>\n",
       "      <td>3.32201</td>\n",
       "      <td>0.0</td>\n",
       "      <td>0.627164</td>\n",
       "      <td>282.84122</td>\n",
       "      <td>0</td>\n",
       "      <td>0</td>\n",
       "      <td>0</td>\n",
       "      <td>0</td>\n",
       "      <td>0</td>\n",
       "      <td>1</td>\n",
       "      <td>0</td>\n",
       "      <td>0</td>\n",
       "      <td>0</td>\n",
       "      <td>0</td>\n",
       "      <td>0</td>\n",
       "      <td>0</td>\n",
       "      <td>0</td>\n",
       "      <td>0</td>\n",
       "      <td>0</td>\n",
       "      <td>0</td>\n",
       "      <td>0</td>\n",
       "      <td>0</td>\n",
       "      <td>0</td>\n",
       "      <td>0</td>\n",
       "      <td>0</td>\n",
       "      <td>0</td>\n",
       "      <td>0</td>\n",
       "      <td>0</td>\n",
       "      <td>10</td>\n",
       "    </tr>\n",
       "    <tr>\n",
       "      <th>3</th>\n",
       "      <td>280.511023</td>\n",
       "      <td>281.446828</td>\n",
       "      <td>0.2</td>\n",
       "      <td>73.435071</td>\n",
       "      <td>280.511023</td>\n",
       "      <td>0.0</td>\n",
       "      <td>0.0</td>\n",
       "      <td>0.0</td>\n",
       "      <td>0.0</td>\n",
       "      <td>0.0</td>\n",
       "      <td>0.005970</td>\n",
       "      <td>58.574722</td>\n",
       "      <td>1937.796566</td>\n",
       "      <td>718.493056</td>\n",
       "      <td>291.77880</td>\n",
       "      <td>5.22301</td>\n",
       "      <td>0.0</td>\n",
       "      <td>0.996815</td>\n",
       "      <td>281.35240</td>\n",
       "      <td>0</td>\n",
       "      <td>0</td>\n",
       "      <td>0</td>\n",
       "      <td>0</td>\n",
       "      <td>0</td>\n",
       "      <td>1</td>\n",
       "      <td>0</td>\n",
       "      <td>0</td>\n",
       "      <td>0</td>\n",
       "      <td>0</td>\n",
       "      <td>0</td>\n",
       "      <td>0</td>\n",
       "      <td>0</td>\n",
       "      <td>0</td>\n",
       "      <td>0</td>\n",
       "      <td>0</td>\n",
       "      <td>0</td>\n",
       "      <td>0</td>\n",
       "      <td>0</td>\n",
       "      <td>0</td>\n",
       "      <td>0</td>\n",
       "      <td>0</td>\n",
       "      <td>0</td>\n",
       "      <td>0</td>\n",
       "      <td>10</td>\n",
       "    </tr>\n",
       "    <tr>\n",
       "      <th>4</th>\n",
       "      <td>280.790508</td>\n",
       "      <td>281.635283</td>\n",
       "      <td>0.2</td>\n",
       "      <td>17.299822</td>\n",
       "      <td>280.790508</td>\n",
       "      <td>0.0</td>\n",
       "      <td>0.0</td>\n",
       "      <td>0.0</td>\n",
       "      <td>0.0</td>\n",
       "      <td>0.0</td>\n",
       "      <td>0.007777</td>\n",
       "      <td>94.231740</td>\n",
       "      <td>1837.712598</td>\n",
       "      <td>515.784722</td>\n",
       "      <td>284.17500</td>\n",
       "      <td>4.12301</td>\n",
       "      <td>0.0</td>\n",
       "      <td>0.982423</td>\n",
       "      <td>280.60666</td>\n",
       "      <td>0</td>\n",
       "      <td>0</td>\n",
       "      <td>0</td>\n",
       "      <td>0</td>\n",
       "      <td>0</td>\n",
       "      <td>1</td>\n",
       "      <td>0</td>\n",
       "      <td>0</td>\n",
       "      <td>0</td>\n",
       "      <td>0</td>\n",
       "      <td>0</td>\n",
       "      <td>0</td>\n",
       "      <td>0</td>\n",
       "      <td>0</td>\n",
       "      <td>0</td>\n",
       "      <td>0</td>\n",
       "      <td>0</td>\n",
       "      <td>0</td>\n",
       "      <td>0</td>\n",
       "      <td>0</td>\n",
       "      <td>0</td>\n",
       "      <td>0</td>\n",
       "      <td>0</td>\n",
       "      <td>0</td>\n",
       "      <td>10</td>\n",
       "    </tr>\n",
       "  </tbody>\n",
       "</table>\n",
       "</div>"
      ],
      "text/plain": [
       "   temp_soil_0.005_m  temp_soil_0.08_m  whiteness_albedo  net_radiation  \\\n",
       "0         277.709158        279.014864               0.2       3.251180   \n",
       "1         279.496314        280.143477               0.2      79.345799   \n",
       "2         278.575394        280.282568               0.2      44.215499   \n",
       "3         280.511023        281.446828               0.2      73.435071   \n",
       "4         280.790508        281.635283               0.2      17.299822   \n",
       "\n",
       "   surface_temperature  surface_snow_amount  thickness_of_snowfall  \\\n",
       "0           277.709158                  0.0                    0.0   \n",
       "1           279.496314                  0.0                    0.0   \n",
       "2           278.575394                  0.0                    0.0   \n",
       "3           280.511023                  0.0                    0.0   \n",
       "4           280.790508                  0.0                    0.0   \n",
       "\n",
       "   snow_thickness_7D  snow_water_7D  penetration_ram_resistance  \\\n",
       "0                0.0            0.0                         0.0   \n",
       "1                0.0            0.0                         0.0   \n",
       "2                0.0            0.0                         0.0   \n",
       "3                0.0            0.0                         0.0   \n",
       "4                0.0            0.0                         0.0   \n",
       "\n",
       "   near_surface_humidity_mean  relative_humidity_mean  \\\n",
       "0                    0.005956               80.023400   \n",
       "1                    0.006067               58.228333   \n",
       "2                    0.006655               61.123905   \n",
       "3                    0.005970               58.574722   \n",
       "4                    0.007777               94.231740   \n",
       "\n",
       "   freezing_level_altitude_mean  rain_snow_transition_altitude_mean  \\\n",
       "0                   2268.572667                          422.333333   \n",
       "1                   1080.672643                           40.151042   \n",
       "2                   1194.040409                           11.500000   \n",
       "3                   1937.796566                          718.493056   \n",
       "4                   1837.712598                          515.784722   \n",
       "\n",
       "   air_temp_max  wind_speed_max  snowfall_rate_max  nebulosity_max  \\\n",
       "0     283.38647         4.92501                0.0        0.988523   \n",
       "1     288.89374         4.92201                0.0        0.758338   \n",
       "2     290.59950         3.32201                0.0        0.627164   \n",
       "3     291.77880         5.22301                0.0        0.996815   \n",
       "4     284.17500         4.12301                0.0        0.982423   \n",
       "\n",
       "   air_temp_min  aval_event  massif_Aravis  massif_Bauges  massif_Beaufortin  \\\n",
       "0     277.14102           0              0              0                  0   \n",
       "1     281.01437           0              0              0                  0   \n",
       "2     282.84122           0              0              0                  0   \n",
       "3     281.35240           0              0              0                  0   \n",
       "4     280.60666           0              0              0                  0   \n",
       "\n",
       "   massif_Belledonne  massif_Chablais  massif_Champsaur  massif_Chartreuse  \\\n",
       "0                  0                1                 0                  0   \n",
       "1                  0                1                 0                  0   \n",
       "2                  0                1                 0                  0   \n",
       "3                  0                1                 0                  0   \n",
       "4                  0                1                 0                  0   \n",
       "\n",
       "   massif_Devoluy  massif_Gdes-rouss  massif_Ht_Var-Ver  massif_Hte-maurie  \\\n",
       "0               0                  0                  0                  0   \n",
       "1               0                  0                  0                  0   \n",
       "2               0                  0                  0                  0   \n",
       "3               0                  0                  0                  0   \n",
       "4               0                  0                  0                  0   \n",
       "\n",
       "   massif_Hte-tarent  massif_Maurienne  massif_Mercantour  massif_Mont-Blanc  \\\n",
       "0                  0                 0                  0                  0   \n",
       "1                  0                 0                  0                  0   \n",
       "2                  0                 0                  0                  0   \n",
       "3                  0                 0                  0                  0   \n",
       "4                  0                 0                  0                  0   \n",
       "\n",
       "   massif_Oisans  massif_Parpaillon  massif_Pelvoux  massif_Queyras  \\\n",
       "0              0                  0               0               0   \n",
       "1              0                  0               0               0   \n",
       "2              0                  0               0               0   \n",
       "3              0                  0               0               0   \n",
       "4              0                  0               0               0   \n",
       "\n",
       "   massif_Thabor  massif_Ubaye  massif_Vanoise  massif_Vercors  month  \n",
       "0              0             0               0               0     10  \n",
       "1              0             0               0               0     10  \n",
       "2              0             0               0               0     10  \n",
       "3              0             0               0               0     10  \n",
       "4              0             0               0               0     10  "
      ]
     },
     "execution_count": 48,
     "metadata": {},
     "output_type": "execute_result"
    }
   ],
   "source": [
    "df_winter.head()"
   ]
  },
  {
   "cell_type": "code",
   "execution_count": 49,
   "metadata": {},
   "outputs": [],
   "source": [
    "# labels are the values we want to predict\n",
    "labels_win = np.array(df_winter['aval_event'])\n",
    "\n",
    "# removing the labels from the features\n",
    "features_win = df_winter.drop(columns=['aval_event'])\n",
    "\n",
    "# saving feature names for later use\n",
    "feature_list_win = list(features_win.columns)\n",
    "\n",
    "# converting to numpy array\n",
    "features_win = np.array(features_win)"
   ]
  },
  {
   "cell_type": "code",
   "execution_count": 50,
   "metadata": {},
   "outputs": [],
   "source": [
    "# splitting dataset into train and test\n",
    "train_features_win, test_features_win, train_labels_win, test_labels_win = train_test_split(features_win, labels_win, test_size = 0.33, random_state = 42)"
   ]
  },
  {
   "cell_type": "code",
   "execution_count": 51,
   "metadata": {},
   "outputs": [
    {
     "name": "stdout",
     "output_type": "stream",
     "text": [
      "Training Features Shape: (272164, 43)\n",
      "Training Labels Shape: (272164,)\n",
      "Testing Features Shape: (134052, 43)\n",
      "Testing Labels Shape: (134052,)\n"
     ]
    }
   ],
   "source": [
    "# displaying sizes of train/test features and labels\n",
    "print('Training Features Shape:', train_features_win.shape)\n",
    "print('Training Labels Shape:', train_labels_win.shape)\n",
    "print('Testing Features Shape:', test_features_win.shape)\n",
    "print('Testing Labels Shape:', test_labels_win.shape)"
   ]
  },
  {
   "cell_type": "code",
   "execution_count": 52,
   "metadata": {},
   "outputs": [
    {
     "name": "stdout",
     "output_type": "stream",
     "text": [
      "Wall time: 22min 34s\n"
     ]
    }
   ],
   "source": [
    "%%time\n",
    "\n",
    "# evaluate model\n",
    "scores = cross_val_score(rfc_under_sub, features_win, labels_win, scoring='roc_auc', cv=cv, n_jobs=-1)"
   ]
  },
  {
   "cell_type": "code",
   "execution_count": 53,
   "metadata": {},
   "outputs": [
    {
     "name": "stdout",
     "output_type": "stream",
     "text": [
      "Wall time: 2min 47s\n"
     ]
    }
   ],
   "source": [
    "%%time\n",
    "# fitting the model and prediction\n",
    "rfc_under_sub.fit(train_features_win, train_labels_win)\n",
    "\n",
    "label_pred_win = rfc_under_sub.predict(test_features_win)"
   ]
  },
  {
   "cell_type": "code",
   "execution_count": 54,
   "metadata": {},
   "outputs": [
    {
     "data": {
      "image/png": "[encoded data removed]",
      "text/plain": [
       "<Figure size 360x360 with 2 Axes>"
      ]
     },
     "metadata": {},
     "output_type": "display_data"
    }
   ],
   "source": [
    "cf_matrix_win = confusion_matrix(test_labels_win, label_pred_win)\n",
    "f, ax = plt.subplots(figsize=(5, 5))\n",
    "sns.heatmap(cf_matrix_win, annot=True, ax=ax, cmap=\"YlGnBu\", fmt=\".0f\", linewidths=.5)\n",
    "plt.title(\"Confusion matrix for avalanches without summer months\")\n",
    "plt.xlabel('Predicted')\n",
    "plt.ylabel('Real');"
   ]
  },
  {
   "cell_type": "code",
   "execution_count": 55,
   "metadata": {},
   "outputs": [
    {
     "name": "stdout",
     "output_type": "stream",
     "text": [
      "              precision    recall  f1-score   support\n",
      "\n",
      "           0      0.998     1.000     0.999    133372\n",
      "           1      1.000     0.575     0.730       680\n",
      "\n",
      "    accuracy                          0.998    134052\n",
      "   macro avg      0.999     0.787     0.865    134052\n",
      "weighted avg      0.998     0.998     0.998    134052\n",
      "\n"
     ]
    }
   ],
   "source": [
    "# displaying report of performance of model\n",
    "print(classification_report(test_labels_win, label_pred_win, digits=3))"
   ]
  },
  {
   "cell_type": "code",
   "execution_count": 56,
   "metadata": {},
   "outputs": [
    {
     "name": "stdout",
     "output_type": "stream",
     "text": [
      "Mean ROC AUC: 0.99560\n",
      "Accuracy: 0.99784\n",
      "F1_score weighted: 0.99755\n"
     ]
    }
   ],
   "source": [
    "# summarize performance of the model\n",
    "print('Mean ROC AUC: %.5f' % mean(scores))\n",
    "print(\"Accuracy:\",round(metrics.accuracy_score(test_labels_win, label_pred_win),5))\n",
    "print(\"F1_score weighted:\", round(f1_score(test_labels_win, label_pred_win, average='weighted'),5))"
   ]
  },
  {
   "cell_type": "markdown",
   "metadata": {},
   "source": [
    "## Results for altitude from 1500 to 3600 metres"
   ]
  },
  {
   "cell_type": "code",
   "execution_count": 57,
   "metadata": {},
   "outputs": [
    {
     "data": {
      "text/plain": [
       "1800.0    74473\n",
       "1500.0    74473\n",
       "2100.0    74473\n",
       "2400.0    71238\n",
       "3000.0    64766\n",
       "2700.0    64766\n",
       "3300.0    51823\n",
       "3600.0    29164\n",
       "3900.0    19458\n",
       "4200.0     9708\n",
       "4800.0     3238\n",
       "4500.0     3238\n",
       "Name: elevation, dtype: int64"
      ]
     },
     "execution_count": 57,
     "metadata": {},
     "output_type": "execute_result"
    }
   ],
   "source": [
    "df.elevation.value_counts()"
   ]
  },
  {
   "cell_type": "code",
   "execution_count": 58,
   "metadata": {},
   "outputs": [],
   "source": [
    "df_elevation = df.drop(columns=[\"massif_num\",\"lon\",\"lat\",\"aval_type\", \"acccidental_risk_index\", \n",
    "                            'snow_thickness_1D', 'snow_thickness_3D', 'snow_thickness_5D',\n",
    "                           'snow_water_1D', 'snow_water_3D', 'snow_water_5D', 'risk_index',\n",
    "                           'thickness_of_wet_snow_top_of_snowpack','thickness_of_frozen_snow_top_of_snowpack',\n",
    "                           'surface_air_pressure_mean', 'rainfall_rate', 'drainage', 'runoff',\n",
    "                           'liquid_water_in_soil', 'frozen_water_in_soil', 'snow_melting_rate', 'aval_accident'])"
   ]
  },
  {
   "cell_type": "code",
   "execution_count": 59,
   "metadata": {},
   "outputs": [],
   "source": [
    "# creating initial dataframe\n",
    "df_massifs = pd.DataFrame(massifs, columns=['massif_name'])\n",
    "\n",
    "# generate binary values using get_dummies\n",
    "dum_df = pd.get_dummies(df_massifs, columns=[\"massif_name\"], prefix=\"massif\")\n",
    "\n",
    "# merge initial dataframe with dummies\n",
    "df_massifs = df_massifs.join(dum_df)\n",
    "\n",
    "# merge final datatset with dataframe with dummies\n",
    "df_elevation = df_elevation.merge(df_massifs, how=\"left\", on=\"massif_name\")"
   ]
  },
  {
   "cell_type": "code",
   "execution_count": 60,
   "metadata": {},
   "outputs": [],
   "source": [
    "# getting rid of redundant variable\n",
    "df_elevation = df_elevation.drop(columns=['massif_name'])"
   ]
  },
  {
   "cell_type": "code",
   "execution_count": 61,
   "metadata": {},
   "outputs": [],
   "source": [
    "# creating variable for months\n",
    "df_elevation[\"month\"] = (df_elevation.day.str[5:7]).astype(int)\n",
    "df_elevation = df_elevation.drop(columns=['day'])"
   ]
  },
  {
   "cell_type": "code",
   "execution_count": 62,
   "metadata": {},
   "outputs": [
    {
     "data": {
      "text/plain": [
       "0"
      ]
     },
     "execution_count": 62,
     "metadata": {},
     "output_type": "execute_result"
    }
   ],
   "source": [
    "# verifying there are no null values in dataset\n",
    "(df_elevation.apply(lambda x: x.isnull().sum())).sum()"
   ]
  },
  {
   "cell_type": "code",
   "execution_count": 63,
   "metadata": {},
   "outputs": [],
   "source": [
    "# reducing altitudes where avalanches rarely occur\n",
    "df_elevation = df_elevation[(df_elevation[\"elevation\"]>1499) & (df_elevation[\"elevation\"]< 3601)]"
   ]
  },
  {
   "cell_type": "code",
   "execution_count": 64,
   "metadata": {},
   "outputs": [
    {
     "name": "stdout",
     "output_type": "stream",
     "text": [
      "<class 'pandas.core.frame.DataFrame'>\n",
      "Int64Index: 505176 entries, 0 to 540817\n",
      "Data columns (total 45 columns):\n",
      " #   Column                              Non-Null Count   Dtype  \n",
      "---  ------                              --------------   -----  \n",
      " 0   elevation                           505176 non-null  float64\n",
      " 1   temp_soil_0.005_m                   505176 non-null  float64\n",
      " 2   temp_soil_0.08_m                    505176 non-null  float64\n",
      " 3   whiteness_albedo                    505176 non-null  float64\n",
      " 4   net_radiation                       505176 non-null  float64\n",
      " 5   surface_temperature                 505176 non-null  float64\n",
      " 6   surface_snow_amount                 505176 non-null  float64\n",
      " 7   thickness_of_snowfall               505176 non-null  float64\n",
      " 8   snow_thickness_7D                   505176 non-null  float64\n",
      " 9   snow_water_7D                       505176 non-null  float64\n",
      " 10  penetration_ram_resistance          505176 non-null  float64\n",
      " 11  near_surface_humidity_mean          505176 non-null  float64\n",
      " 12  relative_humidity_mean              505176 non-null  float64\n",
      " 13  freezing_level_altitude_mean        505176 non-null  float64\n",
      " 14  rain_snow_transition_altitude_mean  505176 non-null  float64\n",
      " 15  air_temp_max                        505176 non-null  float64\n",
      " 16  wind_speed_max                      505176 non-null  float64\n",
      " 17  snowfall_rate_max                   505176 non-null  float64\n",
      " 18  nebulosity_max                      505176 non-null  float64\n",
      " 19  air_temp_min                        505176 non-null  float64\n",
      " 20  aval_event                          505176 non-null  int64  \n",
      " 21  massif_Aravis                       505176 non-null  uint8  \n",
      " 22  massif_Bauges                       505176 non-null  uint8  \n",
      " 23  massif_Beaufortin                   505176 non-null  uint8  \n",
      " 24  massif_Belledonne                   505176 non-null  uint8  \n",
      " 25  massif_Chablais                     505176 non-null  uint8  \n",
      " 26  massif_Champsaur                    505176 non-null  uint8  \n",
      " 27  massif_Chartreuse                   505176 non-null  uint8  \n",
      " 28  massif_Devoluy                      505176 non-null  uint8  \n",
      " 29  massif_Gdes-rouss                   505176 non-null  uint8  \n",
      " 30  massif_Ht_Var-Ver                   505176 non-null  uint8  \n",
      " 31  massif_Hte-maurie                   505176 non-null  uint8  \n",
      " 32  massif_Hte-tarent                   505176 non-null  uint8  \n",
      " 33  massif_Maurienne                    505176 non-null  uint8  \n",
      " 34  massif_Mercantour                   505176 non-null  uint8  \n",
      " 35  massif_Mont-Blanc                   505176 non-null  uint8  \n",
      " 36  massif_Oisans                       505176 non-null  uint8  \n",
      " 37  massif_Parpaillon                   505176 non-null  uint8  \n",
      " 38  massif_Pelvoux                      505176 non-null  uint8  \n",
      " 39  massif_Queyras                      505176 non-null  uint8  \n",
      " 40  massif_Thabor                       505176 non-null  uint8  \n",
      " 41  massif_Ubaye                        505176 non-null  uint8  \n",
      " 42  massif_Vanoise                      505176 non-null  uint8  \n",
      " 43  massif_Vercors                      505176 non-null  uint8  \n",
      " 44  month                               505176 non-null  int32  \n",
      "dtypes: float64(20), int32(1), int64(1), uint8(23)\n",
      "memory usage: 97.8 MB\n"
     ]
    }
   ],
   "source": [
    "# last check of dataframe before using RF model\n",
    "df_elevation.info()"
   ]
  },
  {
   "cell_type": "code",
   "execution_count": 65,
   "metadata": {},
   "outputs": [],
   "source": [
    "# labels are the values we want to predict\n",
    "labels_el = np.array(df_elevation['aval_event'])\n",
    "\n",
    "# removing the labels from the features\n",
    "features_el = df_elevation.drop(columns=['aval_event'])\n",
    "\n",
    "# saving feature names for later use\n",
    "feature_list_el = list(features_el.columns)\n",
    "\n",
    "# converting to numpy array\n",
    "features_el = np.array(features_el)"
   ]
  },
  {
   "cell_type": "code",
   "execution_count": 66,
   "metadata": {},
   "outputs": [],
   "source": [
    "# splitting dataset into train and test\n",
    "train_features_el, test_features_el, train_labels_el, test_labels_el = train_test_split(features_el, labels_el, test_size = 0.33, random_state = 42)"
   ]
  },
  {
   "cell_type": "code",
   "execution_count": 67,
   "metadata": {},
   "outputs": [
    {
     "name": "stdout",
     "output_type": "stream",
     "text": [
      "Training Features Shape: (338467, 44)\n",
      "Training Labels Shape: (338467,)\n",
      "Testing Features Shape: (166709, 44)\n",
      "Testing Labels Shape: (166709,)\n"
     ]
    }
   ],
   "source": [
    "# displaying sizes of train/test features and labels\n",
    "print('Training Features Shape:', train_features_el.shape)\n",
    "print('Training Labels Shape:', train_labels_el.shape)\n",
    "print('Testing Features Shape:', test_features_el.shape)\n",
    "print('Testing Labels Shape:', test_labels_el.shape)"
   ]
  },
  {
   "cell_type": "code",
   "execution_count": 68,
   "metadata": {},
   "outputs": [
    {
     "name": "stdout",
     "output_type": "stream",
     "text": [
      "Wall time: 24min 13s\n"
     ]
    }
   ],
   "source": [
    "%%time\n",
    "\n",
    "# evaluate model\n",
    "scores = cross_val_score(rfc_under_sub, features_el, labels_el, scoring='roc_auc', cv=cv, n_jobs=-1)"
   ]
  },
  {
   "cell_type": "code",
   "execution_count": 69,
   "metadata": {},
   "outputs": [
    {
     "name": "stdout",
     "output_type": "stream",
     "text": [
      "Wall time: 2min 42s\n"
     ]
    }
   ],
   "source": [
    "%%time\n",
    "# fitting the model and prediction\n",
    "rfc_under_sub.fit(train_features_el, train_labels_el)\n",
    "\n",
    "label_pred_el = rfc_under_sub.predict(test_features_el)"
   ]
  },
  {
   "cell_type": "code",
   "execution_count": 70,
   "metadata": {},
   "outputs": [
    {
     "name": "stdout",
     "output_type": "stream",
     "text": [
      "              precision    recall  f1-score   support\n",
      "\n",
      "           0      0.998     1.000     0.999    166101\n",
      "           1      1.000     0.566     0.723       608\n",
      "\n",
      "    accuracy                          0.998    166709\n",
      "   macro avg      0.999     0.783     0.861    166709\n",
      "weighted avg      0.998     0.998     0.998    166709\n",
      "\n"
     ]
    }
   ],
   "source": [
    "# displaying report of performance of model\n",
    "print(classification_report(test_labels_el, label_pred_el, digits=3))"
   ]
  },
  {
   "cell_type": "code",
   "execution_count": 71,
   "metadata": {},
   "outputs": [
    {
     "data": {
      "image/png": "[encoded data removed]",
      "text/plain": [
       "<Figure size 360x360 with 2 Axes>"
      ]
     },
     "metadata": {},
     "output_type": "display_data"
    }
   ],
   "source": [
    "cf_matrix_el = confusion_matrix(test_labels_el, label_pred_el)\n",
    "f, ax = plt.subplots(figsize=(5, 5))\n",
    "sns.heatmap(cf_matrix_el, annot=True, ax=ax, cmap=\"YlGnBu\", fmt=\".0f\", linewidths=.5)\n",
    "plt.title(\"Confusion matrix for avalanches for altitude 1500 - 4000 m.\")\n",
    "plt.xlabel('Predicted')\n",
    "plt.ylabel('Real');"
   ]
  },
  {
   "cell_type": "code",
   "execution_count": 72,
   "metadata": {},
   "outputs": [
    {
     "name": "stdout",
     "output_type": "stream",
     "text": [
      "Mean ROC AUC: 0.99242\n",
      "Accuracy: 0.99842\n",
      "F1_score weighted: 0.9982\n"
     ]
    }
   ],
   "source": [
    "# summarize performance of the model\n",
    "print('Mean ROC AUC: %.5f' % mean(scores))\n",
    "print(\"Accuracy:\",round(metrics.accuracy_score(test_labels_el, label_pred_el),5))\n",
    "print(\"F1_score weighted:\", round(f1_score(test_labels_el, label_pred_el, average='weighted'),5))"
   ]
  },
  {
   "cell_type": "markdown",
   "metadata": {},
   "source": [
    "## Results for limited altitude and without summer"
   ]
  },
  {
   "cell_type": "code",
   "execution_count": 73,
   "metadata": {},
   "outputs": [],
   "source": [
    "# creating new dataframe for altitude from 1500 to 3600 and with exclusion of summer months\n",
    "df_elev_win = df_elevation[~df_elevation[\"month\"].isin(summer_season)]"
   ]
  },
  {
   "cell_type": "code",
   "execution_count": 74,
   "metadata": {},
   "outputs": [],
   "source": [
    "# labels are the values we want to predict\n",
    "labels_el_w = np.array(df_elev_win['aval_event'])\n",
    "\n",
    "# removing the labels from the features\n",
    "features_el_w = df_elev_win.drop(columns=['aval_event'])\n",
    "\n",
    "# saving feature names for later use\n",
    "feature_list_el_w = list(features_el_w.columns)\n",
    "\n",
    "# converting to numpy array\n",
    "features_el_w = np.array(features_el_w)"
   ]
  },
  {
   "cell_type": "code",
   "execution_count": 75,
   "metadata": {},
   "outputs": [],
   "source": [
    "# splitting dataset into train and test\n",
    "train_features_el_w, test_features_el_w, train_labels_el_w, test_labels_el_w = train_test_split(features_el_w, labels_el_w, test_size = 0.33, random_state = 42)"
   ]
  },
  {
   "cell_type": "code",
   "execution_count": 76,
   "metadata": {},
   "outputs": [
    {
     "name": "stdout",
     "output_type": "stream",
     "text": [
      "Training Features Shape: (254224, 44)\n",
      "Training Labels Shape: (254224,)\n",
      "Testing Features Shape: (125216, 44)\n",
      "Testing Labels Shape: (125216,)\n"
     ]
    }
   ],
   "source": [
    "# displaying sizes of train/test features and labels\n",
    "print('Training Features Shape:', train_features_el_w.shape)\n",
    "print('Training Labels Shape:', train_labels_el_w.shape)\n",
    "print('Testing Features Shape:', test_features_el_w.shape)\n",
    "print('Testing Labels Shape:', test_labels_el_w.shape)"
   ]
  },
  {
   "cell_type": "code",
   "execution_count": 77,
   "metadata": {},
   "outputs": [
    {
     "name": "stdout",
     "output_type": "stream",
     "text": [
      "Wall time: 18min 40s\n"
     ]
    }
   ],
   "source": [
    "%%time\n",
    "\n",
    "# evaluate model\n",
    "scores = cross_val_score(rfc_under_sub, features_el_w, labels_el_w, scoring='roc_auc', cv=cv, n_jobs=-1)"
   ]
  },
  {
   "cell_type": "code",
   "execution_count": 78,
   "metadata": {},
   "outputs": [
    {
     "name": "stdout",
     "output_type": "stream",
     "text": [
      "Wall time: 1min 55s\n"
     ]
    }
   ],
   "source": [
    "%%time\n",
    "# fitting the model and prediction\n",
    "rfc_under_sub.fit(train_features_el_w, train_labels_el_w)\n",
    "\n",
    "label_pred_el_w = rfc_under_sub.predict(test_features_el_w)"
   ]
  },
  {
   "cell_type": "code",
   "execution_count": 79,
   "metadata": {},
   "outputs": [
    {
     "name": "stdout",
     "output_type": "stream",
     "text": [
      "              precision    recall  f1-score   support\n",
      "\n",
      "           0      0.998     1.000     0.999    124616\n",
      "           1      1.000     0.525     0.689       600\n",
      "\n",
      "    accuracy                          0.998    125216\n",
      "   macro avg      0.999     0.762     0.844    125216\n",
      "weighted avg      0.998     0.998     0.997    125216\n",
      "\n"
     ]
    }
   ],
   "source": [
    "# displaying report of performance of model\n",
    "print(classification_report(test_labels_el_w, label_pred_el_w, digits=3))"
   ]
  },
  {
   "cell_type": "code",
   "execution_count": 80,
   "metadata": {},
   "outputs": [
    {
     "data": {
      "image/png": "[encoded data removed]",
      "text/plain": [
       "<Figure size 360x360 with 2 Axes>"
      ]
     },
     "metadata": {},
     "output_type": "display_data"
    }
   ],
   "source": [
    "cf_matrix_el_w = confusion_matrix(test_labels_el_w, label_pred_el_w)\n",
    "f, ax = plt.subplots(figsize=(5, 5))\n",
    "sns.heatmap(cf_matrix_el_w, annot=True, ax=ax, cmap=\"YlGnBu\", fmt=\".0f\", linewidths=.5)\n",
    "plt.title(\"Confusion matrix for avalanches for altitude 1500 - 3600 m. without summer\")\n",
    "plt.xlabel('Predicted')\n",
    "plt.ylabel('Real');"
   ]
  },
  {
   "cell_type": "code",
   "execution_count": 81,
   "metadata": {},
   "outputs": [
    {
     "name": "stdout",
     "output_type": "stream",
     "text": [
      "Mean ROC AUC: 0.99416\n",
      "Accuracy: 0.99772\n",
      "F1_score weighted: 0.99737\n"
     ]
    }
   ],
   "source": [
    "# summarize performance of the model\n",
    "print('Mean ROC AUC: %.5f' % mean(scores))\n",
    "print(\"Accuracy:\",round(metrics.accuracy_score(test_labels_el_w, label_pred_el_w),5))\n",
    "print(\"F1_score weighted:\", round(f1_score(test_labels_el_w, label_pred_el_w, average='weighted'),5))"
   ]
  },
  {
   "cell_type": "markdown",
   "metadata": {},
   "source": [
    "## Results for French Alps (without massifs)"
   ]
  },
  {
   "cell_type": "code",
   "execution_count": 82,
   "metadata": {},
   "outputs": [
    {
     "data": {
      "text/plain": [
       "Index(['temp_soil_0.005_m', 'temp_soil_0.08_m', 'whiteness_albedo',\n",
       "       'net_radiation', 'surface_temperature', 'surface_snow_amount',\n",
       "       'thickness_of_snowfall', 'snow_thickness_7D', 'snow_water_7D',\n",
       "       'penetration_ram_resistance', 'near_surface_humidity_mean',\n",
       "       'relative_humidity_mean', 'freezing_level_altitude_mean',\n",
       "       'rain_snow_transition_altitude_mean', 'air_temp_max', 'wind_speed_max',\n",
       "       'snowfall_rate_max', 'nebulosity_max', 'air_temp_min', 'aval_event',\n",
       "       'massif_Aravis', 'massif_Bauges', 'massif_Beaufortin',\n",
       "       'massif_Belledonne', 'massif_Chablais', 'massif_Champsaur',\n",
       "       'massif_Chartreuse', 'massif_Devoluy', 'massif_Gdes-rouss',\n",
       "       'massif_Ht_Var-Ver', 'massif_Hte-maurie', 'massif_Hte-tarent',\n",
       "       'massif_Maurienne', 'massif_Mercantour', 'massif_Mont-Blanc',\n",
       "       'massif_Oisans', 'massif_Parpaillon', 'massif_Pelvoux',\n",
       "       'massif_Queyras', 'massif_Thabor', 'massif_Ubaye', 'massif_Vanoise',\n",
       "       'massif_Vercors', 'month'],\n",
       "      dtype='object')"
      ]
     },
     "execution_count": 82,
     "metadata": {},
     "output_type": "execute_result"
    }
   ],
   "source": [
    "df_clean.columns"
   ]
  },
  {
   "cell_type": "code",
   "execution_count": 83,
   "metadata": {},
   "outputs": [],
   "source": [
    "# removing variables with massifs\n",
    "df_no_massifs = df_clean[['temp_soil_0.005_m', 'temp_soil_0.08_m', 'whiteness_albedo',\n",
    "       'net_radiation', 'surface_temperature', 'surface_snow_amount',\n",
    "       'thickness_of_snowfall', 'snow_thickness_7D', 'snow_water_7D',\n",
    "       'penetration_ram_resistance', 'near_surface_humidity_mean',\n",
    "       'relative_humidity_mean', 'freezing_level_altitude_mean',\n",
    "       'rain_snow_transition_altitude_mean', 'air_temp_max', 'wind_speed_max',\n",
    "       'snowfall_rate_max', 'nebulosity_max', 'air_temp_min', 'aval_event', 'month']]"
   ]
  },
  {
   "cell_type": "code",
   "execution_count": 84,
   "metadata": {},
   "outputs": [
    {
     "name": "stdout",
     "output_type": "stream",
     "text": [
      "<class 'pandas.core.frame.DataFrame'>\n",
      "Int64Index: 540818 entries, 0 to 540817\n",
      "Data columns (total 21 columns):\n",
      " #   Column                              Non-Null Count   Dtype  \n",
      "---  ------                              --------------   -----  \n",
      " 0   temp_soil_0.005_m                   540818 non-null  float64\n",
      " 1   temp_soil_0.08_m                    540818 non-null  float64\n",
      " 2   whiteness_albedo                    540818 non-null  float64\n",
      " 3   net_radiation                       540818 non-null  float64\n",
      " 4   surface_temperature                 540818 non-null  float64\n",
      " 5   surface_snow_amount                 540818 non-null  float64\n",
      " 6   thickness_of_snowfall               540818 non-null  float64\n",
      " 7   snow_thickness_7D                   540818 non-null  float64\n",
      " 8   snow_water_7D                       540818 non-null  float64\n",
      " 9   penetration_ram_resistance          540818 non-null  float64\n",
      " 10  near_surface_humidity_mean          540818 non-null  float64\n",
      " 11  relative_humidity_mean              540818 non-null  float64\n",
      " 12  freezing_level_altitude_mean        540818 non-null  float64\n",
      " 13  rain_snow_transition_altitude_mean  540818 non-null  float64\n",
      " 14  air_temp_max                        540818 non-null  float64\n",
      " 15  wind_speed_max                      540818 non-null  float64\n",
      " 16  snowfall_rate_max                   540818 non-null  float64\n",
      " 17  nebulosity_max                      540818 non-null  float64\n",
      " 18  air_temp_min                        540818 non-null  float64\n",
      " 19  aval_event                          540818 non-null  int64  \n",
      " 20  month                               540818 non-null  int32  \n",
      "dtypes: float64(19), int32(1), int64(1)\n",
      "memory usage: 88.7 MB\n"
     ]
    }
   ],
   "source": [
    "# checking new dataframe\n",
    "df_no_massifs.info()"
   ]
  },
  {
   "cell_type": "code",
   "execution_count": 85,
   "metadata": {},
   "outputs": [],
   "source": [
    "# labels are the values we want to predict\n",
    "labels_alps = np.array(df_no_massifs['aval_event'])\n",
    "\n",
    "# removing the labels from the features\n",
    "features_alps = df_no_massifs.drop(columns=['aval_event'])\n",
    "\n",
    "# saving feature names for later use\n",
    "feature_list_alps = list(features_alps.columns)\n",
    "\n",
    "# converting to numpy array\n",
    "features_alps = np.array(features_alps)"
   ]
  },
  {
   "cell_type": "code",
   "execution_count": 86,
   "metadata": {},
   "outputs": [],
   "source": [
    "# splitting dataset into train and test\n",
    "train_features_alps, test_features_alps, train_labels_alps, test_labels_alps = train_test_split(features_alps, labels_alps, test_size = 0.33, random_state = 42)"
   ]
  },
  {
   "cell_type": "code",
   "execution_count": 87,
   "metadata": {},
   "outputs": [
    {
     "name": "stdout",
     "output_type": "stream",
     "text": [
      "Training Features Shape: (362348, 20)\n",
      "Training Labels Shape: (362348,)\n",
      "Testing Features Shape: (178470, 20)\n",
      "Testing Labels Shape: (178470,)\n"
     ]
    }
   ],
   "source": [
    "# displaying sizes of train/test features and labels\n",
    "print('Training Features Shape:', train_features_alps.shape)\n",
    "print('Training Labels Shape:', train_labels_alps.shape)\n",
    "print('Testing Features Shape:', test_features_alps.shape)\n",
    "print('Testing Labels Shape:', test_labels_alps.shape)"
   ]
  },
  {
   "cell_type": "code",
   "execution_count": 88,
   "metadata": {},
   "outputs": [
    {
     "name": "stdout",
     "output_type": "stream",
     "text": [
      "Wall time: 27min 53s\n"
     ]
    }
   ],
   "source": [
    "%%time\n",
    "\n",
    "# evaluate model\n",
    "scores = cross_val_score(rfc_under_sub, features_alps, labels_alps, scoring='roc_auc', cv=cv, n_jobs=-1)"
   ]
  },
  {
   "cell_type": "code",
   "execution_count": 89,
   "metadata": {},
   "outputs": [
    {
     "name": "stdout",
     "output_type": "stream",
     "text": [
      "Wall time: 5min 53s\n"
     ]
    }
   ],
   "source": [
    "%%time\n",
    "# fitting the model and prediction\n",
    "rfc_under_sub.fit(train_features_alps, train_labels_alps)\n",
    "\n",
    "label_pred_alps = rfc_under_sub.predict(test_features_alps)"
   ]
  },
  {
   "cell_type": "code",
   "execution_count": 90,
   "metadata": {},
   "outputs": [
    {
     "name": "stdout",
     "output_type": "stream",
     "text": [
      "              precision    recall  f1-score   support\n",
      "\n",
      "           0      0.998     1.000     0.999    177760\n",
      "           1      0.992     0.534     0.694       710\n",
      "\n",
      "    accuracy                          0.998    178470\n",
      "   macro avg      0.995     0.767     0.847    178470\n",
      "weighted avg      0.998     0.998     0.998    178470\n",
      "\n"
     ]
    }
   ],
   "source": [
    "# displaying report of performance of model\n",
    "print(classification_report(test_labels_alps, label_pred_alps, digits=3))"
   ]
  },
  {
   "cell_type": "code",
   "execution_count": 91,
   "metadata": {},
   "outputs": [
    {
     "data": {
      "image/png": "[encoded data removed]",
      "text/plain": [
       "<Figure size 360x360 with 2 Axes>"
      ]
     },
     "metadata": {},
     "output_type": "display_data"
    }
   ],
   "source": [
    "cf_matrix_alps = confusion_matrix(test_labels_alps, label_pred_alps)\n",
    "f, ax = plt.subplots(figsize=(5, 5))\n",
    "sns.heatmap(cf_matrix_alps, annot=True, ax=ax, cmap=\"YlGnBu\", fmt=\".0f\", linewidths=.5)\n",
    "plt.title(\"Confusion matrix for avalanches in French Alps\")\n",
    "plt.xlabel('Predicted')\n",
    "plt.ylabel('Real');"
   ]
  },
  {
   "cell_type": "code",
   "execution_count": 92,
   "metadata": {},
   "outputs": [
    {
     "name": "stdout",
     "output_type": "stream",
     "text": [
      "Mean ROC AUC: 0.98352\n",
      "Accuracy: 0.99813\n",
      "F1_score weighted: 0.99785\n"
     ]
    }
   ],
   "source": [
    "# summarize performance of the model\n",
    "print('Mean ROC AUC: %.5f' % mean(scores))\n",
    "print(\"Accuracy:\",round(metrics.accuracy_score(test_labels_alps, label_pred_alps),5))\n",
    "print(\"F1_score weighted:\", round(f1_score(test_labels_alps, label_pred_alps, average='weighted'),5))"
   ]
  },
  {
   "cell_type": "markdown",
   "metadata": {},
   "source": [
    "## Results for French Alps without summer"
   ]
  },
  {
   "cell_type": "code",
   "execution_count": 93,
   "metadata": {},
   "outputs": [],
   "source": [
    "df_alps_win = df_no_massifs[~df_no_massifs[\"month\"].isin(summer_season)]"
   ]
  },
  {
   "cell_type": "code",
   "execution_count": 94,
   "metadata": {},
   "outputs": [],
   "source": [
    "# labels are the values we want to predict\n",
    "labels_alps_win = np.array(df_alps_win['aval_event'])\n",
    "\n",
    "# removing the labels from the features\n",
    "features_alps_win = df_alps_win.drop(columns=['aval_event'])\n",
    "\n",
    "# saving feature names for later use\n",
    "feature_list_alps_win = list(features_alps_win.columns)\n",
    "\n",
    "# converting to numpy array\n",
    "features_alps_win = np.array(features_alps_win)"
   ]
  },
  {
   "cell_type": "code",
   "execution_count": 95,
   "metadata": {},
   "outputs": [],
   "source": [
    "# splitting dataset into train and test\n",
    "train_features_alps_win, test_features_alps_win, train_labels_alps_win, test_labels_alps_win = train_test_split(features_alps_win, labels_alps_win, test_size = 0.33, random_state = 42)"
   ]
  },
  {
   "cell_type": "code",
   "execution_count": 96,
   "metadata": {},
   "outputs": [
    {
     "name": "stdout",
     "output_type": "stream",
     "text": [
      "Training Features Shape: (272164, 20)\n",
      "Training Labels Shape: (272164,)\n",
      "Testing Features Shape: (134052, 20)\n",
      "Testing Labels Shape: (134052,)\n"
     ]
    }
   ],
   "source": [
    "# displaying sizes of train/test features and labels\n",
    "print('Training Features Shape:', train_features_alps_win.shape)\n",
    "print('Training Labels Shape:', train_labels_alps_win.shape)\n",
    "print('Testing Features Shape:', test_features_alps_win.shape)\n",
    "print('Testing Labels Shape:', test_labels_alps_win.shape)"
   ]
  },
  {
   "cell_type": "code",
   "execution_count": 97,
   "metadata": {},
   "outputs": [
    {
     "name": "stdout",
     "output_type": "stream",
     "text": [
      "Wall time: 23min 22s\n"
     ]
    }
   ],
   "source": [
    "%%time\n",
    "\n",
    "# evaluate model\n",
    "scores = cross_val_score(rfc_under_sub, features_alps_win, labels_alps_win, scoring='roc_auc', cv=cv, n_jobs=-1)"
   ]
  },
  {
   "cell_type": "code",
   "execution_count": 98,
   "metadata": {},
   "outputs": [
    {
     "name": "stdout",
     "output_type": "stream",
     "text": [
      "Wall time: 4min 38s\n"
     ]
    }
   ],
   "source": [
    "%%time\n",
    "# fitting the model and prediction\n",
    "rfc_under_sub.fit(train_features_alps_win, train_labels_alps_win)\n",
    "\n",
    "label_pred_alps_win = rfc_under_sub.predict(test_features_alps_win)"
   ]
  },
  {
   "cell_type": "code",
   "execution_count": 99,
   "metadata": {},
   "outputs": [
    {
     "name": "stdout",
     "output_type": "stream",
     "text": [
      "              precision    recall  f1-score   support\n",
      "\n",
      "           0      0.998     1.000     0.999    133372\n",
      "           1      0.990     0.562     0.717       680\n",
      "\n",
      "    accuracy                          0.998    134052\n",
      "   macro avg      0.994     0.781     0.858    134052\n",
      "weighted avg      0.998     0.998     0.997    134052\n",
      "\n"
     ]
    }
   ],
   "source": [
    "# displaying report of performance of model\n",
    "print(classification_report(test_labels_alps_win, label_pred_alps_win, digits=3))"
   ]
  },
  {
   "cell_type": "code",
   "execution_count": 100,
   "metadata": {},
   "outputs": [
    {
     "data": {
      "image/png": "[encoded data removed]",
      "text/plain": [
       "<Figure size 360x360 with 2 Axes>"
      ]
     },
     "metadata": {},
     "output_type": "display_data"
    }
   ],
   "source": [
    "cf_matrix_alps_win = confusion_matrix(test_labels_alps_win, label_pred_alps_win)\n",
    "f, ax = plt.subplots(figsize=(5, 5))\n",
    "sns.heatmap(cf_matrix_alps_win, annot=True, ax=ax, cmap=\"YlGnBu\", fmt=\".0f\", linewidths=.5)\n",
    "plt.title(\"Confusion matrix for avalanches in French Alps without summer\")\n",
    "plt.xlabel('Predicted')\n",
    "plt.ylabel('Real');"
   ]
  },
  {
   "cell_type": "code",
   "execution_count": 101,
   "metadata": {},
   "outputs": [
    {
     "name": "stdout",
     "output_type": "stream",
     "text": [
      "Mean ROC AUC: 0.98752\n",
      "Accuracy: 0.99775\n",
      "F1_score weighted: 0.99744\n"
     ]
    }
   ],
   "source": [
    "# summarize performance of the model\n",
    "print('Mean ROC AUC: %.5f' % mean(scores))\n",
    "print(\"Accuracy:\",round(metrics.accuracy_score(test_labels_alps_win, label_pred_alps_win),5))\n",
    "print(\"F1_score weighted:\", round(f1_score(test_labels_alps_win, label_pred_alps_win, average='weighted'),5))"
   ]
  },
  {
   "cell_type": "markdown",
   "metadata": {},
   "source": [
    "## Balanced RF classifier model"
   ]
  },
  {
   "cell_type": "code",
   "execution_count": 102,
   "metadata": {},
   "outputs": [
    {
     "name": "stdout",
     "output_type": "stream",
     "text": [
      "Requirement already up-to-date: imbalanced-learn in c:\\users\\kamil\\anaconda3\\lib\\site-packages (0.7.0)\n",
      "Requirement already satisfied, skipping upgrade: scikit-learn>=0.23 in c:\\users\\kamil\\anaconda3\\lib\\site-packages (from imbalanced-learn) (0.23.2)\n",
      "Requirement already satisfied, skipping upgrade: numpy>=1.13.3 in c:\\users\\kamil\\anaconda3\\lib\\site-packages (from imbalanced-learn) (1.18.5)\n",
      "Requirement already satisfied, skipping upgrade: joblib>=0.11 in c:\\users\\kamil\\anaconda3\\lib\\site-packages (from imbalanced-learn) (0.17.0)\n",
      "Requirement already satisfied, skipping upgrade: scipy>=0.19.1 in c:\\users\\kamil\\anaconda3\\lib\\site-packages (from imbalanced-learn) (1.4.1)\n",
      "Requirement already satisfied, skipping upgrade: threadpoolctl>=2.0.0 in c:\\users\\kamil\\anaconda3\\lib\\site-packages (from scikit-learn>=0.23->imbalanced-learn) (2.1.0)\n"
     ]
    }
   ],
   "source": [
    "!pip install -U imbalanced-learn"
   ]
  },
  {
   "cell_type": "code",
   "execution_count": 103,
   "metadata": {},
   "outputs": [],
   "source": [
    "from imblearn.ensemble import BalancedRandomForestClassifier\n",
    "bal_rfc = BalancedRandomForestClassifier(n_estimators=100)"
   ]
  },
  {
   "cell_type": "code",
   "execution_count": 104,
   "metadata": {},
   "outputs": [
    {
     "name": "stdout",
     "output_type": "stream",
     "text": [
      "Wall time: 18.4 s\n"
     ]
    }
   ],
   "source": [
    "%%time\n",
    "# evaluating model\n",
    "scores = cross_val_score(bal_rfc, features_ev, labels_ev, scoring='roc_auc', cv=cv, n_jobs=-1)"
   ]
  },
  {
   "cell_type": "code",
   "execution_count": 105,
   "metadata": {},
   "outputs": [
    {
     "name": "stdout",
     "output_type": "stream",
     "text": [
      "Wall time: 43.7 s\n"
     ]
    }
   ],
   "source": [
    "%%time\n",
    "# fitting the model and prediction\n",
    "bal_rfc.fit(train_features_ev, train_labels_ev)\n",
    "\n",
    "label_pred_ev =bal_rfc.predict(test_features_ev)"
   ]
  },
  {
   "cell_type": "code",
   "execution_count": 106,
   "metadata": {},
   "outputs": [
    {
     "name": "stdout",
     "output_type": "stream",
     "text": [
      "              precision    recall  f1-score   support\n",
      "\n",
      "           0       1.00      0.89      0.94    177760\n",
      "           1       0.03      0.91      0.06       710\n",
      "\n",
      "    accuracy                           0.89    178470\n",
      "   macro avg       0.52      0.90      0.50    178470\n",
      "weighted avg       1.00      0.89      0.94    178470\n",
      "\n"
     ]
    }
   ],
   "source": [
    "# displaying report of performance of model\n",
    "print(classification_report(test_labels_ev, label_pred_ev))"
   ]
  },
  {
   "cell_type": "code",
   "execution_count": 107,
   "metadata": {},
   "outputs": [
    {
     "data": {
      "image/png": "[encoded data removed]",
      "text/plain": [
       "<Figure size 360x360 with 2 Axes>"
      ]
     },
     "metadata": {},
     "output_type": "display_data"
    }
   ],
   "source": [
    "cf_matrix_bal_rfc = confusion_matrix(test_labels_ev, label_pred_ev)\n",
    "f, ax = plt.subplots(figsize=(5, 5))\n",
    "sns.heatmap(cf_matrix_bal_rfc, annot=True, ax=ax, cmap=\"YlGnBu\", fmt=\".0f\", linewidths=.5)\n",
    "plt.title(\"Confusion matrix for avalanches with Balanced RF model\")\n",
    "plt.xlabel('Predicted')\n",
    "plt.ylabel('Real');"
   ]
  },
  {
   "cell_type": "code",
   "execution_count": 108,
   "metadata": {},
   "outputs": [
    {
     "name": "stdout",
     "output_type": "stream",
     "text": [
      "Mean ROC AUC: 0.99795\n",
      "Accuracy: 0.89143\n",
      "F1_score weighted: 0.93888\n"
     ]
    }
   ],
   "source": [
    "# summarize performance of the model\n",
    "print('Mean ROC AUC: %.5f' % mean(scores))\n",
    "print(\"Accuracy:\",round(metrics.accuracy_score(test_labels_ev, label_pred_ev),5))\n",
    "print(\"F1_score weighted:\", round(f1_score(test_labels_ev, label_pred_ev, average='weighted'),5))"
   ]
  },
  {
   "cell_type": "code",
   "execution_count": 114,
   "metadata": {},
   "outputs": [
    {
     "name": "stdout",
     "output_type": "stream",
     "text": [
      "Wall time: 3min 34s\n"
     ]
    }
   ],
   "source": [
    "%%time\n",
    "# evaluating model\n",
    "scores = cross_val_score(bal_rfc, features_win, labels_win, scoring='roc_auc', cv=cv, n_jobs=-1)"
   ]
  },
  {
   "cell_type": "code",
   "execution_count": 115,
   "metadata": {},
   "outputs": [
    {
     "name": "stdout",
     "output_type": "stream",
     "text": [
      "Wall time: 34 s\n"
     ]
    }
   ],
   "source": [
    "%%time\n",
    "# fitting the model and prediction\n",
    "bal_rfc.fit(train_features_win, train_labels_win)\n",
    "\n",
    "label_pred_win_bal =bal_rfc.predict(test_features_win)"
   ]
  },
  {
   "cell_type": "code",
   "execution_count": 116,
   "metadata": {},
   "outputs": [
    {
     "name": "stdout",
     "output_type": "stream",
     "text": [
      "              precision    recall  f1-score   support\n",
      "\n",
      "           0      1.000     0.897     0.945    133372\n",
      "           1      0.044     0.926     0.084       680\n",
      "\n",
      "    accuracy                          0.897    134052\n",
      "   macro avg      0.522     0.912     0.514    134052\n",
      "weighted avg      0.995     0.897     0.941    134052\n",
      "\n"
     ]
    }
   ],
   "source": [
    "# displaying report of performance of model\n",
    "print(classification_report(test_labels_win, label_pred_win_bal, digits=3))"
   ]
  },
  {
   "cell_type": "code",
   "execution_count": 117,
   "metadata": {},
   "outputs": [
    {
     "data": {
      "image/png": "[encoded data removed]",
      "text/plain": [
       "<Figure size 360x360 with 2 Axes>"
      ]
     },
     "metadata": {},
     "output_type": "display_data"
    }
   ],
   "source": [
    "cf_matrix_bal_rfc_alps_win = confusion_matrix(test_labels_alps_win, label_pred_alps_win)\n",
    "f, ax = plt.subplots(figsize=(5, 5))\n",
    "sns.heatmap(cf_matrix_bal_rfc_alps_win, annot=True, ax=ax, cmap=\"YlGnBu\", fmt=\".0f\", linewidths=.5)\n",
    "plt.title(\"Confusion matrix for avalanches without summer with Balanced RF model\")\n",
    "plt.xlabel('Predicted')\n",
    "plt.ylabel('Real');"
   ]
  },
  {
   "cell_type": "code",
   "execution_count": 118,
   "metadata": {},
   "outputs": [
    {
     "name": "stdout",
     "output_type": "stream",
     "text": [
      "Mean ROC AUC: 0.98357\n",
      "Accuracy: 0.86883\n",
      "F1_score weighted: 0.92508\n"
     ]
    }
   ],
   "source": [
    "# summarize performance of the model\n",
    "print('Mean ROC AUC: %.5f' % mean(scores))\n",
    "print(\"Accuracy:\",round(metrics.accuracy_score(test_labels_alps_win, label_pred_alps_win),5))\n",
    "print(\"F1_score weighted:\", round(f1_score(test_labels_alps_win, label_pred_alps_win, average='weighted'),5))"
   ]
  },
  {
   "cell_type": "markdown",
   "metadata": {},
   "source": [
    "## Summary of Random Forest results:\n",
    "\n",
    "Recall for days with avalanche (in order to reduce number of false negatives) was my primary metrics to evaluate performance of avalanche prediction, with weighted F1 score following closely behind. I used 3 different techniques to tackle problem of highly imbalanced data:\n",
    "\n",
    "- 1) **RF model trained on undersample, used on normal sample**: Result was tiny improvement in recall for avalanche days from 0.549 (model trained on normal sample) to 0.552. Both RF model had weighted F1 score 0.998.\n",
    "\n",
    "- 2) **Feature selection**: I used 3 different changes to features: A) sample without summer months B) sample with limited altitude (not more than 3600 metres) and C) sample without massif division. Also I checked combinations of A+B and A+C. All the models generated similar F1 scores 0.997–0.998, but the best in recall was option A. **Sample without summer months had 0.58 recall for avalanche days, therefore would be the most prefered option**.\n",
    "\n",
    "- 3) **Balanced RF model**: This machine learning model did provide the best recall 0.91 for avalanche days, but its F1 score dropped to at best 0.939 and precision for avalanche days was tragic 0.03 (all previously mentioned models had precision 1 or close to 1). Also this model uses in some sense similar method as undersampling, only on each bootstrap, therefore its performance in real word would be questionable. It means that same objections we had with vanilla undersampling 50 % : 50 % holds true also for balanced RF model.\n",
    "\n",
    "**Conclusion: I would choose RF model on sample without summer months, because it has second best recall for avalanche days 0.58 and acceptable F1 score.** Balanced RF model with the best recall 0.91 was not selected because of its lower F1 score, terrible precision and very likely problems when applying in real world."
   ]
  },
  {
   "cell_type": "code",
   "execution_count": null,
   "metadata": {},
   "outputs": [],
   "source": []
  }
 ],
 "metadata": {
  "kernelspec": {
   "display_name": "Python 3",
   "language": "python",
   "name": "python3"
  },
  "language_info": {
   "codemirror_mode": {
    "name": "ipython",
    "version": 3
   },
   "file_extension": ".py",
   "mimetype": "text/x-python",
   "name": "python",
   "nbconvert_exporter": "python",
   "pygments_lexer": "ipython3",
   "version": "3.7.9"
  }
 },
 "nbformat": 4,
 "nbformat_minor": 4
}

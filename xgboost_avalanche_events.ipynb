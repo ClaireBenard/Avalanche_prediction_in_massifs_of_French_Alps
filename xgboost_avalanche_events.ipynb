{
 "cells": [
  {
   "cell_type": "markdown",
   "metadata": {},
   "source": [
    "# XGBoost model for prediction of avalanche events"
   ]
  },
  {
   "cell_type": "code",
   "execution_count": 1,
   "metadata": {},
   "outputs": [],
   "source": [
    "# import of standard Python libraries for data analysis\n",
    "import pandas as pd\n",
    "import numpy as np\n",
    "import seaborn as sns\n",
    "import matplotlib.pyplot as plt"
   ]
  },
  {
   "cell_type": "code",
   "execution_count": 2,
   "metadata": {},
   "outputs": [
    {
     "name": "stdout",
     "output_type": "stream",
     "text": [
      "Requirement already satisfied: xgboost in c:\\users\\kamil\\anaconda3\\lib\\site-packages (1.2.1)\n",
      "Requirement already satisfied: numpy in c:\\users\\kamil\\anaconda3\\lib\\site-packages (from xgboost) (1.18.5)\n",
      "Requirement already satisfied: scipy in c:\\users\\kamil\\anaconda3\\lib\\site-packages (from xgboost) (1.4.1)\n"
     ]
    }
   ],
   "source": [
    "# installation of XGBoost\n",
    "!pip install xgboost"
   ]
  },
  {
   "cell_type": "code",
   "execution_count": 3,
   "metadata": {},
   "outputs": [],
   "source": [
    "# import needed objects from Scikit learn library for machine learning\n",
    "\n",
    "from numpy import loadtxt\n",
    "from xgboost import XGBClassifier\n",
    "from sklearn.metrics import confusion_matrix, classification_report\n",
    "from sklearn import preprocessing\n",
    "from sklearn import metrics\n",
    "from sklearn.metrics import f1_score, accuracy_score\n",
    "from sklearn.model_selection import train_test_split, cross_val_score\n",
    "from numpy import mean\n",
    "from sklearn.model_selection import RepeatedStratifiedKFold"
   ]
  },
  {
   "cell_type": "code",
   "execution_count": 4,
   "metadata": {},
   "outputs": [],
   "source": [
    "# I would like to see all rows and columns of dataframes\n",
    "pd.set_option('display.max_columns', None)\n",
    "pd.set_option('display.max_rows', None)"
   ]
  },
  {
   "cell_type": "markdown",
   "metadata": {},
   "source": [
    "## Reading dataset and final preprocessing"
   ]
  },
  {
   "cell_type": "code",
   "execution_count": 5,
   "metadata": {},
   "outputs": [],
   "source": [
    "# reading dataset\n",
    "df = pd.read_csv(\"final_data.csv\")"
   ]
  },
  {
   "cell_type": "code",
   "execution_count": 6,
   "metadata": {},
   "outputs": [
    {
     "data": {
      "text/html": [
       "<div>\n",
       "<style scoped>\n",
       "    .dataframe tbody tr th:only-of-type {\n",
       "        vertical-align: middle;\n",
       "    }\n",
       "\n",
       "    .dataframe tbody tr th {\n",
       "        vertical-align: top;\n",
       "    }\n",
       "\n",
       "    .dataframe thead th {\n",
       "        text-align: right;\n",
       "    }\n",
       "</style>\n",
       "<table border=\"1\" class=\"dataframe\">\n",
       "  <thead>\n",
       "    <tr style=\"text-align: right;\">\n",
       "      <th></th>\n",
       "      <th>elevation</th>\n",
       "      <th>massif_num</th>\n",
       "      <th>lon</th>\n",
       "      <th>lat</th>\n",
       "      <th>temp_soil_0.005_m</th>\n",
       "      <th>temp_soil_0.08_m</th>\n",
       "      <th>liquid_water_in_soil</th>\n",
       "      <th>frozen_water_in_soil</th>\n",
       "      <th>risk_index</th>\n",
       "      <th>aval_type</th>\n",
       "      <th>whiteness_albedo</th>\n",
       "      <th>net_radiation</th>\n",
       "      <th>drainage</th>\n",
       "      <th>runoff</th>\n",
       "      <th>snow_melting_rate</th>\n",
       "      <th>rainfall_rate</th>\n",
       "      <th>surface_temperature</th>\n",
       "      <th>surface_snow_amount</th>\n",
       "      <th>thickness_of_snowfall</th>\n",
       "      <th>snow_thickness_1D</th>\n",
       "      <th>snow_thickness_3D</th>\n",
       "      <th>snow_thickness_5D</th>\n",
       "      <th>snow_thickness_7D</th>\n",
       "      <th>snow_water_1D</th>\n",
       "      <th>snow_water_3D</th>\n",
       "      <th>snow_water_5D</th>\n",
       "      <th>snow_water_7D</th>\n",
       "      <th>penetration_ram_resistance</th>\n",
       "      <th>thickness_of_wet_snow_top_of_snowpack</th>\n",
       "      <th>thickness_of_frozen_snow_top_of_snowpack</th>\n",
       "      <th>acccidental_risk_index</th>\n",
       "      <th>day</th>\n",
       "      <th>surface_air_pressure_mean</th>\n",
       "      <th>near_surface_humidity_mean</th>\n",
       "      <th>relative_humidity_mean</th>\n",
       "      <th>freezing_level_altitude_mean</th>\n",
       "      <th>rain_snow_transition_altitude_mean</th>\n",
       "      <th>air_temp_max</th>\n",
       "      <th>wind_speed_max</th>\n",
       "      <th>snowfall_rate_max</th>\n",
       "      <th>nebulosity_max</th>\n",
       "      <th>air_temp_min</th>\n",
       "      <th>massif_name</th>\n",
       "      <th>aval_accident</th>\n",
       "      <th>aval_event</th>\n",
       "    </tr>\n",
       "  </thead>\n",
       "  <tbody>\n",
       "    <tr>\n",
       "      <th>0</th>\n",
       "      <td>1500.0</td>\n",
       "      <td>1</td>\n",
       "      <td>6.64493</td>\n",
       "      <td>46.17685</td>\n",
       "      <td>277.709158</td>\n",
       "      <td>279.014864</td>\n",
       "      <td>0.323705</td>\n",
       "      <td>0.0</td>\n",
       "      <td>6.0</td>\n",
       "      <td>6.0</td>\n",
       "      <td>0.2</td>\n",
       "      <td>3.251180</td>\n",
       "      <td>0.000018</td>\n",
       "      <td>0.000019</td>\n",
       "      <td>0.0</td>\n",
       "      <td>0.000096</td>\n",
       "      <td>277.709158</td>\n",
       "      <td>0.0</td>\n",
       "      <td>0.0</td>\n",
       "      <td>0.0</td>\n",
       "      <td>0.0</td>\n",
       "      <td>0.0</td>\n",
       "      <td>0.0</td>\n",
       "      <td>0.0</td>\n",
       "      <td>0.0</td>\n",
       "      <td>0.0</td>\n",
       "      <td>0.0</td>\n",
       "      <td>0.0</td>\n",
       "      <td>0.0</td>\n",
       "      <td>0.0</td>\n",
       "      <td>4.0</td>\n",
       "      <td>2010-10-01</td>\n",
       "      <td>84550.445</td>\n",
       "      <td>0.005956</td>\n",
       "      <td>80.023400</td>\n",
       "      <td>2268.572667</td>\n",
       "      <td>422.333333</td>\n",
       "      <td>283.38647</td>\n",
       "      <td>4.92501</td>\n",
       "      <td>0.0</td>\n",
       "      <td>0.988523</td>\n",
       "      <td>277.14102</td>\n",
       "      <td>Chablais</td>\n",
       "      <td>0</td>\n",
       "      <td>0</td>\n",
       "    </tr>\n",
       "    <tr>\n",
       "      <th>1</th>\n",
       "      <td>1500.0</td>\n",
       "      <td>1</td>\n",
       "      <td>6.64493</td>\n",
       "      <td>46.17685</td>\n",
       "      <td>279.496314</td>\n",
       "      <td>280.143477</td>\n",
       "      <td>0.310928</td>\n",
       "      <td>0.0</td>\n",
       "      <td>6.0</td>\n",
       "      <td>6.0</td>\n",
       "      <td>0.2</td>\n",
       "      <td>79.345799</td>\n",
       "      <td>0.000018</td>\n",
       "      <td>0.000000</td>\n",
       "      <td>0.0</td>\n",
       "      <td>0.000000</td>\n",
       "      <td>279.496314</td>\n",
       "      <td>0.0</td>\n",
       "      <td>0.0</td>\n",
       "      <td>0.0</td>\n",
       "      <td>0.0</td>\n",
       "      <td>0.0</td>\n",
       "      <td>0.0</td>\n",
       "      <td>0.0</td>\n",
       "      <td>0.0</td>\n",
       "      <td>0.0</td>\n",
       "      <td>0.0</td>\n",
       "      <td>0.0</td>\n",
       "      <td>0.0</td>\n",
       "      <td>0.0</td>\n",
       "      <td>4.0</td>\n",
       "      <td>2010-10-02</td>\n",
       "      <td>84550.445</td>\n",
       "      <td>0.006067</td>\n",
       "      <td>58.228333</td>\n",
       "      <td>1080.672643</td>\n",
       "      <td>40.151042</td>\n",
       "      <td>288.89374</td>\n",
       "      <td>4.92201</td>\n",
       "      <td>0.0</td>\n",
       "      <td>0.758338</td>\n",
       "      <td>281.01437</td>\n",
       "      <td>Chablais</td>\n",
       "      <td>0</td>\n",
       "      <td>0</td>\n",
       "    </tr>\n",
       "    <tr>\n",
       "      <th>2</th>\n",
       "      <td>1500.0</td>\n",
       "      <td>1</td>\n",
       "      <td>6.64493</td>\n",
       "      <td>46.17685</td>\n",
       "      <td>278.575394</td>\n",
       "      <td>280.282568</td>\n",
       "      <td>0.305990</td>\n",
       "      <td>0.0</td>\n",
       "      <td>6.0</td>\n",
       "      <td>6.0</td>\n",
       "      <td>0.2</td>\n",
       "      <td>44.215499</td>\n",
       "      <td>0.000018</td>\n",
       "      <td>0.000000</td>\n",
       "      <td>0.0</td>\n",
       "      <td>0.000000</td>\n",
       "      <td>278.575394</td>\n",
       "      <td>0.0</td>\n",
       "      <td>0.0</td>\n",
       "      <td>0.0</td>\n",
       "      <td>0.0</td>\n",
       "      <td>0.0</td>\n",
       "      <td>0.0</td>\n",
       "      <td>0.0</td>\n",
       "      <td>0.0</td>\n",
       "      <td>0.0</td>\n",
       "      <td>0.0</td>\n",
       "      <td>0.0</td>\n",
       "      <td>0.0</td>\n",
       "      <td>0.0</td>\n",
       "      <td>4.0</td>\n",
       "      <td>2010-10-03</td>\n",
       "      <td>84550.445</td>\n",
       "      <td>0.006655</td>\n",
       "      <td>61.123905</td>\n",
       "      <td>1194.040409</td>\n",
       "      <td>11.500000</td>\n",
       "      <td>290.59950</td>\n",
       "      <td>3.32201</td>\n",
       "      <td>0.0</td>\n",
       "      <td>0.627164</td>\n",
       "      <td>282.84122</td>\n",
       "      <td>Chablais</td>\n",
       "      <td>0</td>\n",
       "      <td>0</td>\n",
       "    </tr>\n",
       "    <tr>\n",
       "      <th>3</th>\n",
       "      <td>1500.0</td>\n",
       "      <td>1</td>\n",
       "      <td>6.64493</td>\n",
       "      <td>46.17685</td>\n",
       "      <td>280.511023</td>\n",
       "      <td>281.446828</td>\n",
       "      <td>0.301774</td>\n",
       "      <td>0.0</td>\n",
       "      <td>6.0</td>\n",
       "      <td>6.0</td>\n",
       "      <td>0.2</td>\n",
       "      <td>73.435071</td>\n",
       "      <td>0.000018</td>\n",
       "      <td>0.000000</td>\n",
       "      <td>0.0</td>\n",
       "      <td>0.000000</td>\n",
       "      <td>280.511023</td>\n",
       "      <td>0.0</td>\n",
       "      <td>0.0</td>\n",
       "      <td>0.0</td>\n",
       "      <td>0.0</td>\n",
       "      <td>0.0</td>\n",
       "      <td>0.0</td>\n",
       "      <td>0.0</td>\n",
       "      <td>0.0</td>\n",
       "      <td>0.0</td>\n",
       "      <td>0.0</td>\n",
       "      <td>0.0</td>\n",
       "      <td>0.0</td>\n",
       "      <td>0.0</td>\n",
       "      <td>4.0</td>\n",
       "      <td>2010-10-04</td>\n",
       "      <td>84550.445</td>\n",
       "      <td>0.005970</td>\n",
       "      <td>58.574722</td>\n",
       "      <td>1937.796566</td>\n",
       "      <td>718.493056</td>\n",
       "      <td>291.77880</td>\n",
       "      <td>5.22301</td>\n",
       "      <td>0.0</td>\n",
       "      <td>0.996815</td>\n",
       "      <td>281.35240</td>\n",
       "      <td>Chablais</td>\n",
       "      <td>0</td>\n",
       "      <td>0</td>\n",
       "    </tr>\n",
       "    <tr>\n",
       "      <th>4</th>\n",
       "      <td>1500.0</td>\n",
       "      <td>1</td>\n",
       "      <td>6.64493</td>\n",
       "      <td>46.17685</td>\n",
       "      <td>280.790508</td>\n",
       "      <td>281.635283</td>\n",
       "      <td>0.319800</td>\n",
       "      <td>0.0</td>\n",
       "      <td>6.0</td>\n",
       "      <td>6.0</td>\n",
       "      <td>0.2</td>\n",
       "      <td>17.299822</td>\n",
       "      <td>0.000018</td>\n",
       "      <td>0.000008</td>\n",
       "      <td>0.0</td>\n",
       "      <td>0.000047</td>\n",
       "      <td>280.790508</td>\n",
       "      <td>0.0</td>\n",
       "      <td>0.0</td>\n",
       "      <td>0.0</td>\n",
       "      <td>0.0</td>\n",
       "      <td>0.0</td>\n",
       "      <td>0.0</td>\n",
       "      <td>0.0</td>\n",
       "      <td>0.0</td>\n",
       "      <td>0.0</td>\n",
       "      <td>0.0</td>\n",
       "      <td>0.0</td>\n",
       "      <td>0.0</td>\n",
       "      <td>0.0</td>\n",
       "      <td>4.0</td>\n",
       "      <td>2010-10-05</td>\n",
       "      <td>84550.445</td>\n",
       "      <td>0.007777</td>\n",
       "      <td>94.231740</td>\n",
       "      <td>1837.712598</td>\n",
       "      <td>515.784722</td>\n",
       "      <td>284.17500</td>\n",
       "      <td>4.12301</td>\n",
       "      <td>0.0</td>\n",
       "      <td>0.982423</td>\n",
       "      <td>280.60666</td>\n",
       "      <td>Chablais</td>\n",
       "      <td>0</td>\n",
       "      <td>0</td>\n",
       "    </tr>\n",
       "  </tbody>\n",
       "</table>\n",
       "</div>"
      ],
      "text/plain": [
       "   elevation  massif_num      lon       lat  temp_soil_0.005_m  \\\n",
       "0     1500.0           1  6.64493  46.17685         277.709158   \n",
       "1     1500.0           1  6.64493  46.17685         279.496314   \n",
       "2     1500.0           1  6.64493  46.17685         278.575394   \n",
       "3     1500.0           1  6.64493  46.17685         280.511023   \n",
       "4     1500.0           1  6.64493  46.17685         280.790508   \n",
       "\n",
       "   temp_soil_0.08_m  liquid_water_in_soil  frozen_water_in_soil  risk_index  \\\n",
       "0        279.014864              0.323705                   0.0         6.0   \n",
       "1        280.143477              0.310928                   0.0         6.0   \n",
       "2        280.282568              0.305990                   0.0         6.0   \n",
       "3        281.446828              0.301774                   0.0         6.0   \n",
       "4        281.635283              0.319800                   0.0         6.0   \n",
       "\n",
       "   aval_type  whiteness_albedo  net_radiation  drainage    runoff  \\\n",
       "0        6.0               0.2       3.251180  0.000018  0.000019   \n",
       "1        6.0               0.2      79.345799  0.000018  0.000000   \n",
       "2        6.0               0.2      44.215499  0.000018  0.000000   \n",
       "3        6.0               0.2      73.435071  0.000018  0.000000   \n",
       "4        6.0               0.2      17.299822  0.000018  0.000008   \n",
       "\n",
       "   snow_melting_rate  rainfall_rate  surface_temperature  surface_snow_amount  \\\n",
       "0                0.0       0.000096           277.709158                  0.0   \n",
       "1                0.0       0.000000           279.496314                  0.0   \n",
       "2                0.0       0.000000           278.575394                  0.0   \n",
       "3                0.0       0.000000           280.511023                  0.0   \n",
       "4                0.0       0.000047           280.790508                  0.0   \n",
       "\n",
       "   thickness_of_snowfall  snow_thickness_1D  snow_thickness_3D  \\\n",
       "0                    0.0                0.0                0.0   \n",
       "1                    0.0                0.0                0.0   \n",
       "2                    0.0                0.0                0.0   \n",
       "3                    0.0                0.0                0.0   \n",
       "4                    0.0                0.0                0.0   \n",
       "\n",
       "   snow_thickness_5D  snow_thickness_7D  snow_water_1D  snow_water_3D  \\\n",
       "0                0.0                0.0            0.0            0.0   \n",
       "1                0.0                0.0            0.0            0.0   \n",
       "2                0.0                0.0            0.0            0.0   \n",
       "3                0.0                0.0            0.0            0.0   \n",
       "4                0.0                0.0            0.0            0.0   \n",
       "\n",
       "   snow_water_5D  snow_water_7D  penetration_ram_resistance  \\\n",
       "0            0.0            0.0                         0.0   \n",
       "1            0.0            0.0                         0.0   \n",
       "2            0.0            0.0                         0.0   \n",
       "3            0.0            0.0                         0.0   \n",
       "4            0.0            0.0                         0.0   \n",
       "\n",
       "   thickness_of_wet_snow_top_of_snowpack  \\\n",
       "0                                    0.0   \n",
       "1                                    0.0   \n",
       "2                                    0.0   \n",
       "3                                    0.0   \n",
       "4                                    0.0   \n",
       "\n",
       "   thickness_of_frozen_snow_top_of_snowpack  acccidental_risk_index  \\\n",
       "0                                       0.0                     4.0   \n",
       "1                                       0.0                     4.0   \n",
       "2                                       0.0                     4.0   \n",
       "3                                       0.0                     4.0   \n",
       "4                                       0.0                     4.0   \n",
       "\n",
       "          day  surface_air_pressure_mean  near_surface_humidity_mean  \\\n",
       "0  2010-10-01                  84550.445                    0.005956   \n",
       "1  2010-10-02                  84550.445                    0.006067   \n",
       "2  2010-10-03                  84550.445                    0.006655   \n",
       "3  2010-10-04                  84550.445                    0.005970   \n",
       "4  2010-10-05                  84550.445                    0.007777   \n",
       "\n",
       "   relative_humidity_mean  freezing_level_altitude_mean  \\\n",
       "0               80.023400                   2268.572667   \n",
       "1               58.228333                   1080.672643   \n",
       "2               61.123905                   1194.040409   \n",
       "3               58.574722                   1937.796566   \n",
       "4               94.231740                   1837.712598   \n",
       "\n",
       "   rain_snow_transition_altitude_mean  air_temp_max  wind_speed_max  \\\n",
       "0                          422.333333     283.38647         4.92501   \n",
       "1                           40.151042     288.89374         4.92201   \n",
       "2                           11.500000     290.59950         3.32201   \n",
       "3                          718.493056     291.77880         5.22301   \n",
       "4                          515.784722     284.17500         4.12301   \n",
       "\n",
       "   snowfall_rate_max  nebulosity_max  air_temp_min massif_name  aval_accident  \\\n",
       "0                0.0        0.988523     277.14102    Chablais              0   \n",
       "1                0.0        0.758338     281.01437    Chablais              0   \n",
       "2                0.0        0.627164     282.84122    Chablais              0   \n",
       "3                0.0        0.996815     281.35240    Chablais              0   \n",
       "4                0.0        0.982423     280.60666    Chablais              0   \n",
       "\n",
       "   aval_event  \n",
       "0           0  \n",
       "1           0  \n",
       "2           0  \n",
       "3           0  \n",
       "4           0  "
      ]
     },
     "execution_count": 6,
     "metadata": {},
     "output_type": "execute_result"
    }
   ],
   "source": [
    "df.head()"
   ]
  },
  {
   "cell_type": "code",
   "execution_count": 7,
   "metadata": {},
   "outputs": [
    {
     "data": {
      "text/plain": [
       "Index(['elevation', 'massif_num', 'lon', 'lat', 'temp_soil_0.005_m',\n",
       "       'temp_soil_0.08_m', 'liquid_water_in_soil', 'frozen_water_in_soil',\n",
       "       'risk_index', 'aval_type', 'whiteness_albedo', 'net_radiation',\n",
       "       'drainage', 'runoff', 'snow_melting_rate', 'rainfall_rate',\n",
       "       'surface_temperature', 'surface_snow_amount', 'thickness_of_snowfall',\n",
       "       'snow_thickness_1D', 'snow_thickness_3D', 'snow_thickness_5D',\n",
       "       'snow_thickness_7D', 'snow_water_1D', 'snow_water_3D', 'snow_water_5D',\n",
       "       'snow_water_7D', 'penetration_ram_resistance',\n",
       "       'thickness_of_wet_snow_top_of_snowpack',\n",
       "       'thickness_of_frozen_snow_top_of_snowpack', 'acccidental_risk_index',\n",
       "       'day', 'surface_air_pressure_mean', 'near_surface_humidity_mean',\n",
       "       'relative_humidity_mean', 'freezing_level_altitude_mean',\n",
       "       'rain_snow_transition_altitude_mean', 'air_temp_max', 'wind_speed_max',\n",
       "       'snowfall_rate_max', 'nebulosity_max', 'air_temp_min', 'massif_name',\n",
       "       'aval_accident', 'aval_event'],\n",
       "      dtype='object')"
      ]
     },
     "execution_count": 7,
     "metadata": {},
     "output_type": "execute_result"
    }
   ],
   "source": [
    "# viewing all variables to decide which are not useful\n",
    "df.columns"
   ]
  },
  {
   "cell_type": "code",
   "execution_count": 8,
   "metadata": {},
   "outputs": [],
   "source": [
    "# removing variables not needed for the model\n",
    "df_clean = df.drop(columns=[\"massif_num\",\"lon\",\"lat\",\"aval_type\", \"acccidental_risk_index\", \n",
    "                            'snow_thickness_1D', 'snow_thickness_3D', 'snow_thickness_5D',\n",
    "                           'snow_water_1D', 'snow_water_3D', 'snow_water_5D', 'risk_index',\n",
    "                           'thickness_of_wet_snow_top_of_snowpack','thickness_of_frozen_snow_top_of_snowpack',\n",
    "                           'surface_air_pressure_mean', 'rainfall_rate', 'drainage', 'runoff',\n",
    "                           'liquid_water_in_soil', 'frozen_water_in_soil', 'elevation','snow_melting_rate', 'aval_accident'])"
   ]
  },
  {
   "cell_type": "code",
   "execution_count": 9,
   "metadata": {},
   "outputs": [
    {
     "name": "stdout",
     "output_type": "stream",
     "text": [
      "<class 'pandas.core.frame.DataFrame'>\n",
      "RangeIndex: 540818 entries, 0 to 540817\n",
      "Data columns (total 22 columns):\n",
      " #   Column                              Non-Null Count   Dtype  \n",
      "---  ------                              --------------   -----  \n",
      " 0   temp_soil_0.005_m                   540818 non-null  float64\n",
      " 1   temp_soil_0.08_m                    540818 non-null  float64\n",
      " 2   whiteness_albedo                    540818 non-null  float64\n",
      " 3   net_radiation                       540818 non-null  float64\n",
      " 4   surface_temperature                 540818 non-null  float64\n",
      " 5   surface_snow_amount                 540818 non-null  float64\n",
      " 6   thickness_of_snowfall               540818 non-null  float64\n",
      " 7   snow_thickness_7D                   540818 non-null  float64\n",
      " 8   snow_water_7D                       540818 non-null  float64\n",
      " 9   penetration_ram_resistance          540818 non-null  float64\n",
      " 10  day                                 540818 non-null  object \n",
      " 11  near_surface_humidity_mean          540818 non-null  float64\n",
      " 12  relative_humidity_mean              540818 non-null  float64\n",
      " 13  freezing_level_altitude_mean        540818 non-null  float64\n",
      " 14  rain_snow_transition_altitude_mean  540818 non-null  float64\n",
      " 15  air_temp_max                        540818 non-null  float64\n",
      " 16  wind_speed_max                      540818 non-null  float64\n",
      " 17  snowfall_rate_max                   540818 non-null  float64\n",
      " 18  nebulosity_max                      540818 non-null  float64\n",
      " 19  air_temp_min                        540818 non-null  float64\n",
      " 20  massif_name                         540818 non-null  object \n",
      " 21  aval_event                          540818 non-null  int64  \n",
      "dtypes: float64(19), int64(1), object(2)\n",
      "memory usage: 90.8+ MB\n"
     ]
    }
   ],
   "source": [
    "# viewing if data type of the variables is suitable for XGBoost\n",
    "# there are 2 string categorical variables that needs to be transformed: day and massif name\n",
    "df_clean.info()"
   ]
  },
  {
   "cell_type": "code",
   "execution_count": 10,
   "metadata": {},
   "outputs": [
    {
     "data": {
      "text/plain": [
       "(540818, 22)"
      ]
     },
     "execution_count": 10,
     "metadata": {},
     "output_type": "execute_result"
    }
   ],
   "source": [
    "df_clean.shape"
   ]
  },
  {
   "cell_type": "code",
   "execution_count": 11,
   "metadata": {},
   "outputs": [
    {
     "data": {
      "text/plain": [
       "array(['Chablais', 'Aravis', 'Mont-Blanc', 'Bauges', 'Beaufortin',\n",
       "       'Hte-tarent', 'Chartreuse', 'Belledonne', 'Maurienne', 'Vanoise',\n",
       "       'Hte-maurie', 'Gdes-rouss', 'Thabor', 'Vercors', 'Oisans',\n",
       "       'Pelvoux', 'Queyras', 'Devoluy', 'Champsaur', 'Parpaillon',\n",
       "       'Ubaye', 'Ht_Var-Ver', 'Mercantour'], dtype=object)"
      ]
     },
     "execution_count": 11,
     "metadata": {},
     "output_type": "execute_result"
    }
   ],
   "source": [
    "# for transformation of massif names I will use OneHotEncoding with pd.get_dummies method\n",
    "# selecting of values for dummies\n",
    "df_clean.massif_name.unique()"
   ]
  },
  {
   "cell_type": "code",
   "execution_count": 12,
   "metadata": {},
   "outputs": [],
   "source": [
    "massifs = ('Chablais', 'Aravis', 'Mont-Blanc', 'Bauges', 'Beaufortin',\n",
    "       'Hte-tarent', 'Chartreuse', 'Belledonne', 'Maurienne', 'Vanoise',\n",
    "       'Hte-maurie', 'Gdes-rouss', 'Thabor', 'Vercors', 'Oisans',\n",
    "       'Pelvoux', 'Queyras', 'Devoluy', 'Champsaur', 'Parpaillon',\n",
    "       'Ubaye', 'Ht_Var-Ver', 'Mercantour')"
   ]
  },
  {
   "cell_type": "code",
   "execution_count": 13,
   "metadata": {},
   "outputs": [],
   "source": [
    "# creating initial dataframe\n",
    "df_massifs = pd.DataFrame(massifs, columns=['massif_name'])\n",
    "\n",
    "# generate binary values using get_dummies\n",
    "dum_df = pd.get_dummies(df_massifs, columns=[\"massif_name\"], prefix=\"massif\")\n",
    "\n",
    "# merge initial dataframe with dummies\n",
    "df_massifs = df_massifs.join(dum_df)\n",
    "\n",
    "# merge final datatset with dataframe with dummies\n",
    "df_clean = df_clean.merge(df_massifs, how=\"left\", on=\"massif_name\")"
   ]
  },
  {
   "cell_type": "code",
   "execution_count": 14,
   "metadata": {},
   "outputs": [
    {
     "data": {
      "text/html": [
       "<div>\n",
       "<style scoped>\n",
       "    .dataframe tbody tr th:only-of-type {\n",
       "        vertical-align: middle;\n",
       "    }\n",
       "\n",
       "    .dataframe tbody tr th {\n",
       "        vertical-align: top;\n",
       "    }\n",
       "\n",
       "    .dataframe thead th {\n",
       "        text-align: right;\n",
       "    }\n",
       "</style>\n",
       "<table border=\"1\" class=\"dataframe\">\n",
       "  <thead>\n",
       "    <tr style=\"text-align: right;\">\n",
       "      <th></th>\n",
       "      <th>temp_soil_0.005_m</th>\n",
       "      <th>temp_soil_0.08_m</th>\n",
       "      <th>whiteness_albedo</th>\n",
       "      <th>net_radiation</th>\n",
       "      <th>surface_temperature</th>\n",
       "      <th>surface_snow_amount</th>\n",
       "      <th>thickness_of_snowfall</th>\n",
       "      <th>snow_thickness_7D</th>\n",
       "      <th>snow_water_7D</th>\n",
       "      <th>penetration_ram_resistance</th>\n",
       "      <th>day</th>\n",
       "      <th>near_surface_humidity_mean</th>\n",
       "      <th>relative_humidity_mean</th>\n",
       "      <th>freezing_level_altitude_mean</th>\n",
       "      <th>rain_snow_transition_altitude_mean</th>\n",
       "      <th>air_temp_max</th>\n",
       "      <th>wind_speed_max</th>\n",
       "      <th>snowfall_rate_max</th>\n",
       "      <th>nebulosity_max</th>\n",
       "      <th>air_temp_min</th>\n",
       "      <th>massif_name</th>\n",
       "      <th>aval_event</th>\n",
       "      <th>massif_Aravis</th>\n",
       "      <th>massif_Bauges</th>\n",
       "      <th>massif_Beaufortin</th>\n",
       "      <th>massif_Belledonne</th>\n",
       "      <th>massif_Chablais</th>\n",
       "      <th>massif_Champsaur</th>\n",
       "      <th>massif_Chartreuse</th>\n",
       "      <th>massif_Devoluy</th>\n",
       "      <th>massif_Gdes-rouss</th>\n",
       "      <th>massif_Ht_Var-Ver</th>\n",
       "      <th>massif_Hte-maurie</th>\n",
       "      <th>massif_Hte-tarent</th>\n",
       "      <th>massif_Maurienne</th>\n",
       "      <th>massif_Mercantour</th>\n",
       "      <th>massif_Mont-Blanc</th>\n",
       "      <th>massif_Oisans</th>\n",
       "      <th>massif_Parpaillon</th>\n",
       "      <th>massif_Pelvoux</th>\n",
       "      <th>massif_Queyras</th>\n",
       "      <th>massif_Thabor</th>\n",
       "      <th>massif_Ubaye</th>\n",
       "      <th>massif_Vanoise</th>\n",
       "      <th>massif_Vercors</th>\n",
       "    </tr>\n",
       "  </thead>\n",
       "  <tbody>\n",
       "    <tr>\n",
       "      <th>0</th>\n",
       "      <td>277.709158</td>\n",
       "      <td>279.014864</td>\n",
       "      <td>0.2</td>\n",
       "      <td>3.251180</td>\n",
       "      <td>277.709158</td>\n",
       "      <td>0.0</td>\n",
       "      <td>0.0</td>\n",
       "      <td>0.0</td>\n",
       "      <td>0.0</td>\n",
       "      <td>0.0</td>\n",
       "      <td>2010-10-01</td>\n",
       "      <td>0.005956</td>\n",
       "      <td>80.023400</td>\n",
       "      <td>2268.572667</td>\n",
       "      <td>422.333333</td>\n",
       "      <td>283.38647</td>\n",
       "      <td>4.92501</td>\n",
       "      <td>0.0</td>\n",
       "      <td>0.988523</td>\n",
       "      <td>277.14102</td>\n",
       "      <td>Chablais</td>\n",
       "      <td>0</td>\n",
       "      <td>0</td>\n",
       "      <td>0</td>\n",
       "      <td>0</td>\n",
       "      <td>0</td>\n",
       "      <td>1</td>\n",
       "      <td>0</td>\n",
       "      <td>0</td>\n",
       "      <td>0</td>\n",
       "      <td>0</td>\n",
       "      <td>0</td>\n",
       "      <td>0</td>\n",
       "      <td>0</td>\n",
       "      <td>0</td>\n",
       "      <td>0</td>\n",
       "      <td>0</td>\n",
       "      <td>0</td>\n",
       "      <td>0</td>\n",
       "      <td>0</td>\n",
       "      <td>0</td>\n",
       "      <td>0</td>\n",
       "      <td>0</td>\n",
       "      <td>0</td>\n",
       "      <td>0</td>\n",
       "    </tr>\n",
       "    <tr>\n",
       "      <th>1</th>\n",
       "      <td>279.496314</td>\n",
       "      <td>280.143477</td>\n",
       "      <td>0.2</td>\n",
       "      <td>79.345799</td>\n",
       "      <td>279.496314</td>\n",
       "      <td>0.0</td>\n",
       "      <td>0.0</td>\n",
       "      <td>0.0</td>\n",
       "      <td>0.0</td>\n",
       "      <td>0.0</td>\n",
       "      <td>2010-10-02</td>\n",
       "      <td>0.006067</td>\n",
       "      <td>58.228333</td>\n",
       "      <td>1080.672643</td>\n",
       "      <td>40.151042</td>\n",
       "      <td>288.89374</td>\n",
       "      <td>4.92201</td>\n",
       "      <td>0.0</td>\n",
       "      <td>0.758338</td>\n",
       "      <td>281.01437</td>\n",
       "      <td>Chablais</td>\n",
       "      <td>0</td>\n",
       "      <td>0</td>\n",
       "      <td>0</td>\n",
       "      <td>0</td>\n",
       "      <td>0</td>\n",
       "      <td>1</td>\n",
       "      <td>0</td>\n",
       "      <td>0</td>\n",
       "      <td>0</td>\n",
       "      <td>0</td>\n",
       "      <td>0</td>\n",
       "      <td>0</td>\n",
       "      <td>0</td>\n",
       "      <td>0</td>\n",
       "      <td>0</td>\n",
       "      <td>0</td>\n",
       "      <td>0</td>\n",
       "      <td>0</td>\n",
       "      <td>0</td>\n",
       "      <td>0</td>\n",
       "      <td>0</td>\n",
       "      <td>0</td>\n",
       "      <td>0</td>\n",
       "      <td>0</td>\n",
       "    </tr>\n",
       "    <tr>\n",
       "      <th>2</th>\n",
       "      <td>278.575394</td>\n",
       "      <td>280.282568</td>\n",
       "      <td>0.2</td>\n",
       "      <td>44.215499</td>\n",
       "      <td>278.575394</td>\n",
       "      <td>0.0</td>\n",
       "      <td>0.0</td>\n",
       "      <td>0.0</td>\n",
       "      <td>0.0</td>\n",
       "      <td>0.0</td>\n",
       "      <td>2010-10-03</td>\n",
       "      <td>0.006655</td>\n",
       "      <td>61.123905</td>\n",
       "      <td>1194.040409</td>\n",
       "      <td>11.500000</td>\n",
       "      <td>290.59950</td>\n",
       "      <td>3.32201</td>\n",
       "      <td>0.0</td>\n",
       "      <td>0.627164</td>\n",
       "      <td>282.84122</td>\n",
       "      <td>Chablais</td>\n",
       "      <td>0</td>\n",
       "      <td>0</td>\n",
       "      <td>0</td>\n",
       "      <td>0</td>\n",
       "      <td>0</td>\n",
       "      <td>1</td>\n",
       "      <td>0</td>\n",
       "      <td>0</td>\n",
       "      <td>0</td>\n",
       "      <td>0</td>\n",
       "      <td>0</td>\n",
       "      <td>0</td>\n",
       "      <td>0</td>\n",
       "      <td>0</td>\n",
       "      <td>0</td>\n",
       "      <td>0</td>\n",
       "      <td>0</td>\n",
       "      <td>0</td>\n",
       "      <td>0</td>\n",
       "      <td>0</td>\n",
       "      <td>0</td>\n",
       "      <td>0</td>\n",
       "      <td>0</td>\n",
       "      <td>0</td>\n",
       "    </tr>\n",
       "    <tr>\n",
       "      <th>3</th>\n",
       "      <td>280.511023</td>\n",
       "      <td>281.446828</td>\n",
       "      <td>0.2</td>\n",
       "      <td>73.435071</td>\n",
       "      <td>280.511023</td>\n",
       "      <td>0.0</td>\n",
       "      <td>0.0</td>\n",
       "      <td>0.0</td>\n",
       "      <td>0.0</td>\n",
       "      <td>0.0</td>\n",
       "      <td>2010-10-04</td>\n",
       "      <td>0.005970</td>\n",
       "      <td>58.574722</td>\n",
       "      <td>1937.796566</td>\n",
       "      <td>718.493056</td>\n",
       "      <td>291.77880</td>\n",
       "      <td>5.22301</td>\n",
       "      <td>0.0</td>\n",
       "      <td>0.996815</td>\n",
       "      <td>281.35240</td>\n",
       "      <td>Chablais</td>\n",
       "      <td>0</td>\n",
       "      <td>0</td>\n",
       "      <td>0</td>\n",
       "      <td>0</td>\n",
       "      <td>0</td>\n",
       "      <td>1</td>\n",
       "      <td>0</td>\n",
       "      <td>0</td>\n",
       "      <td>0</td>\n",
       "      <td>0</td>\n",
       "      <td>0</td>\n",
       "      <td>0</td>\n",
       "      <td>0</td>\n",
       "      <td>0</td>\n",
       "      <td>0</td>\n",
       "      <td>0</td>\n",
       "      <td>0</td>\n",
       "      <td>0</td>\n",
       "      <td>0</td>\n",
       "      <td>0</td>\n",
       "      <td>0</td>\n",
       "      <td>0</td>\n",
       "      <td>0</td>\n",
       "      <td>0</td>\n",
       "    </tr>\n",
       "    <tr>\n",
       "      <th>4</th>\n",
       "      <td>280.790508</td>\n",
       "      <td>281.635283</td>\n",
       "      <td>0.2</td>\n",
       "      <td>17.299822</td>\n",
       "      <td>280.790508</td>\n",
       "      <td>0.0</td>\n",
       "      <td>0.0</td>\n",
       "      <td>0.0</td>\n",
       "      <td>0.0</td>\n",
       "      <td>0.0</td>\n",
       "      <td>2010-10-05</td>\n",
       "      <td>0.007777</td>\n",
       "      <td>94.231740</td>\n",
       "      <td>1837.712598</td>\n",
       "      <td>515.784722</td>\n",
       "      <td>284.17500</td>\n",
       "      <td>4.12301</td>\n",
       "      <td>0.0</td>\n",
       "      <td>0.982423</td>\n",
       "      <td>280.60666</td>\n",
       "      <td>Chablais</td>\n",
       "      <td>0</td>\n",
       "      <td>0</td>\n",
       "      <td>0</td>\n",
       "      <td>0</td>\n",
       "      <td>0</td>\n",
       "      <td>1</td>\n",
       "      <td>0</td>\n",
       "      <td>0</td>\n",
       "      <td>0</td>\n",
       "      <td>0</td>\n",
       "      <td>0</td>\n",
       "      <td>0</td>\n",
       "      <td>0</td>\n",
       "      <td>0</td>\n",
       "      <td>0</td>\n",
       "      <td>0</td>\n",
       "      <td>0</td>\n",
       "      <td>0</td>\n",
       "      <td>0</td>\n",
       "      <td>0</td>\n",
       "      <td>0</td>\n",
       "      <td>0</td>\n",
       "      <td>0</td>\n",
       "      <td>0</td>\n",
       "    </tr>\n",
       "  </tbody>\n",
       "</table>\n",
       "</div>"
      ],
      "text/plain": [
       "   temp_soil_0.005_m  temp_soil_0.08_m  whiteness_albedo  net_radiation  \\\n",
       "0         277.709158        279.014864               0.2       3.251180   \n",
       "1         279.496314        280.143477               0.2      79.345799   \n",
       "2         278.575394        280.282568               0.2      44.215499   \n",
       "3         280.511023        281.446828               0.2      73.435071   \n",
       "4         280.790508        281.635283               0.2      17.299822   \n",
       "\n",
       "   surface_temperature  surface_snow_amount  thickness_of_snowfall  \\\n",
       "0           277.709158                  0.0                    0.0   \n",
       "1           279.496314                  0.0                    0.0   \n",
       "2           278.575394                  0.0                    0.0   \n",
       "3           280.511023                  0.0                    0.0   \n",
       "4           280.790508                  0.0                    0.0   \n",
       "\n",
       "   snow_thickness_7D  snow_water_7D  penetration_ram_resistance         day  \\\n",
       "0                0.0            0.0                         0.0  2010-10-01   \n",
       "1                0.0            0.0                         0.0  2010-10-02   \n",
       "2                0.0            0.0                         0.0  2010-10-03   \n",
       "3                0.0            0.0                         0.0  2010-10-04   \n",
       "4                0.0            0.0                         0.0  2010-10-05   \n",
       "\n",
       "   near_surface_humidity_mean  relative_humidity_mean  \\\n",
       "0                    0.005956               80.023400   \n",
       "1                    0.006067               58.228333   \n",
       "2                    0.006655               61.123905   \n",
       "3                    0.005970               58.574722   \n",
       "4                    0.007777               94.231740   \n",
       "\n",
       "   freezing_level_altitude_mean  rain_snow_transition_altitude_mean  \\\n",
       "0                   2268.572667                          422.333333   \n",
       "1                   1080.672643                           40.151042   \n",
       "2                   1194.040409                           11.500000   \n",
       "3                   1937.796566                          718.493056   \n",
       "4                   1837.712598                          515.784722   \n",
       "\n",
       "   air_temp_max  wind_speed_max  snowfall_rate_max  nebulosity_max  \\\n",
       "0     283.38647         4.92501                0.0        0.988523   \n",
       "1     288.89374         4.92201                0.0        0.758338   \n",
       "2     290.59950         3.32201                0.0        0.627164   \n",
       "3     291.77880         5.22301                0.0        0.996815   \n",
       "4     284.17500         4.12301                0.0        0.982423   \n",
       "\n",
       "   air_temp_min massif_name  aval_event  massif_Aravis  massif_Bauges  \\\n",
       "0     277.14102    Chablais           0              0              0   \n",
       "1     281.01437    Chablais           0              0              0   \n",
       "2     282.84122    Chablais           0              0              0   \n",
       "3     281.35240    Chablais           0              0              0   \n",
       "4     280.60666    Chablais           0              0              0   \n",
       "\n",
       "   massif_Beaufortin  massif_Belledonne  massif_Chablais  massif_Champsaur  \\\n",
       "0                  0                  0                1                 0   \n",
       "1                  0                  0                1                 0   \n",
       "2                  0                  0                1                 0   \n",
       "3                  0                  0                1                 0   \n",
       "4                  0                  0                1                 0   \n",
       "\n",
       "   massif_Chartreuse  massif_Devoluy  massif_Gdes-rouss  massif_Ht_Var-Ver  \\\n",
       "0                  0               0                  0                  0   \n",
       "1                  0               0                  0                  0   \n",
       "2                  0               0                  0                  0   \n",
       "3                  0               0                  0                  0   \n",
       "4                  0               0                  0                  0   \n",
       "\n",
       "   massif_Hte-maurie  massif_Hte-tarent  massif_Maurienne  massif_Mercantour  \\\n",
       "0                  0                  0                 0                  0   \n",
       "1                  0                  0                 0                  0   \n",
       "2                  0                  0                 0                  0   \n",
       "3                  0                  0                 0                  0   \n",
       "4                  0                  0                 0                  0   \n",
       "\n",
       "   massif_Mont-Blanc  massif_Oisans  massif_Parpaillon  massif_Pelvoux  \\\n",
       "0                  0              0                  0               0   \n",
       "1                  0              0                  0               0   \n",
       "2                  0              0                  0               0   \n",
       "3                  0              0                  0               0   \n",
       "4                  0              0                  0               0   \n",
       "\n",
       "   massif_Queyras  massif_Thabor  massif_Ubaye  massif_Vanoise  massif_Vercors  \n",
       "0               0              0             0               0               0  \n",
       "1               0              0             0               0               0  \n",
       "2               0              0             0               0               0  \n",
       "3               0              0             0               0               0  \n",
       "4               0              0             0               0               0  "
      ]
     },
     "execution_count": 14,
     "metadata": {},
     "output_type": "execute_result"
    }
   ],
   "source": [
    "# checking dataset with dummy variables\n",
    "df_clean.head()"
   ]
  },
  {
   "cell_type": "code",
   "execution_count": 15,
   "metadata": {},
   "outputs": [],
   "source": [
    "# getting rid of redundant variable\n",
    "df_clean = df_clean.drop(columns=['massif_name'])"
   ]
  },
  {
   "cell_type": "code",
   "execution_count": 16,
   "metadata": {},
   "outputs": [
    {
     "data": {
      "text/html": [
       "<div>\n",
       "<style scoped>\n",
       "    .dataframe tbody tr th:only-of-type {\n",
       "        vertical-align: middle;\n",
       "    }\n",
       "\n",
       "    .dataframe tbody tr th {\n",
       "        vertical-align: top;\n",
       "    }\n",
       "\n",
       "    .dataframe thead th {\n",
       "        text-align: right;\n",
       "    }\n",
       "</style>\n",
       "<table border=\"1\" class=\"dataframe\">\n",
       "  <thead>\n",
       "    <tr style=\"text-align: right;\">\n",
       "      <th></th>\n",
       "      <th>temp_soil_0.005_m</th>\n",
       "      <th>temp_soil_0.08_m</th>\n",
       "      <th>whiteness_albedo</th>\n",
       "      <th>net_radiation</th>\n",
       "      <th>surface_temperature</th>\n",
       "      <th>surface_snow_amount</th>\n",
       "      <th>thickness_of_snowfall</th>\n",
       "      <th>snow_thickness_7D</th>\n",
       "      <th>snow_water_7D</th>\n",
       "      <th>penetration_ram_resistance</th>\n",
       "      <th>day</th>\n",
       "      <th>near_surface_humidity_mean</th>\n",
       "      <th>relative_humidity_mean</th>\n",
       "      <th>freezing_level_altitude_mean</th>\n",
       "      <th>rain_snow_transition_altitude_mean</th>\n",
       "      <th>air_temp_max</th>\n",
       "      <th>wind_speed_max</th>\n",
       "      <th>snowfall_rate_max</th>\n",
       "      <th>nebulosity_max</th>\n",
       "      <th>air_temp_min</th>\n",
       "      <th>aval_event</th>\n",
       "      <th>massif_Aravis</th>\n",
       "      <th>massif_Bauges</th>\n",
       "      <th>massif_Beaufortin</th>\n",
       "      <th>massif_Belledonne</th>\n",
       "      <th>massif_Chablais</th>\n",
       "      <th>massif_Champsaur</th>\n",
       "      <th>massif_Chartreuse</th>\n",
       "      <th>massif_Devoluy</th>\n",
       "      <th>massif_Gdes-rouss</th>\n",
       "      <th>massif_Ht_Var-Ver</th>\n",
       "      <th>massif_Hte-maurie</th>\n",
       "      <th>massif_Hte-tarent</th>\n",
       "      <th>massif_Maurienne</th>\n",
       "      <th>massif_Mercantour</th>\n",
       "      <th>massif_Mont-Blanc</th>\n",
       "      <th>massif_Oisans</th>\n",
       "      <th>massif_Parpaillon</th>\n",
       "      <th>massif_Pelvoux</th>\n",
       "      <th>massif_Queyras</th>\n",
       "      <th>massif_Thabor</th>\n",
       "      <th>massif_Ubaye</th>\n",
       "      <th>massif_Vanoise</th>\n",
       "      <th>massif_Vercors</th>\n",
       "      <th>year</th>\n",
       "      <th>month</th>\n",
       "    </tr>\n",
       "  </thead>\n",
       "  <tbody>\n",
       "    <tr>\n",
       "      <th>0</th>\n",
       "      <td>277.709158</td>\n",
       "      <td>279.014864</td>\n",
       "      <td>0.2</td>\n",
       "      <td>3.251180</td>\n",
       "      <td>277.709158</td>\n",
       "      <td>0.0</td>\n",
       "      <td>0.0</td>\n",
       "      <td>0.0</td>\n",
       "      <td>0.0</td>\n",
       "      <td>0.0</td>\n",
       "      <td>2010-10-01</td>\n",
       "      <td>0.005956</td>\n",
       "      <td>80.023400</td>\n",
       "      <td>2268.572667</td>\n",
       "      <td>422.333333</td>\n",
       "      <td>283.38647</td>\n",
       "      <td>4.92501</td>\n",
       "      <td>0.0</td>\n",
       "      <td>0.988523</td>\n",
       "      <td>277.14102</td>\n",
       "      <td>0</td>\n",
       "      <td>0</td>\n",
       "      <td>0</td>\n",
       "      <td>0</td>\n",
       "      <td>0</td>\n",
       "      <td>1</td>\n",
       "      <td>0</td>\n",
       "      <td>0</td>\n",
       "      <td>0</td>\n",
       "      <td>0</td>\n",
       "      <td>0</td>\n",
       "      <td>0</td>\n",
       "      <td>0</td>\n",
       "      <td>0</td>\n",
       "      <td>0</td>\n",
       "      <td>0</td>\n",
       "      <td>0</td>\n",
       "      <td>0</td>\n",
       "      <td>0</td>\n",
       "      <td>0</td>\n",
       "      <td>0</td>\n",
       "      <td>0</td>\n",
       "      <td>0</td>\n",
       "      <td>0</td>\n",
       "      <td>2010</td>\n",
       "      <td>10</td>\n",
       "    </tr>\n",
       "    <tr>\n",
       "      <th>1</th>\n",
       "      <td>279.496314</td>\n",
       "      <td>280.143477</td>\n",
       "      <td>0.2</td>\n",
       "      <td>79.345799</td>\n",
       "      <td>279.496314</td>\n",
       "      <td>0.0</td>\n",
       "      <td>0.0</td>\n",
       "      <td>0.0</td>\n",
       "      <td>0.0</td>\n",
       "      <td>0.0</td>\n",
       "      <td>2010-10-02</td>\n",
       "      <td>0.006067</td>\n",
       "      <td>58.228333</td>\n",
       "      <td>1080.672643</td>\n",
       "      <td>40.151042</td>\n",
       "      <td>288.89374</td>\n",
       "      <td>4.92201</td>\n",
       "      <td>0.0</td>\n",
       "      <td>0.758338</td>\n",
       "      <td>281.01437</td>\n",
       "      <td>0</td>\n",
       "      <td>0</td>\n",
       "      <td>0</td>\n",
       "      <td>0</td>\n",
       "      <td>0</td>\n",
       "      <td>1</td>\n",
       "      <td>0</td>\n",
       "      <td>0</td>\n",
       "      <td>0</td>\n",
       "      <td>0</td>\n",
       "      <td>0</td>\n",
       "      <td>0</td>\n",
       "      <td>0</td>\n",
       "      <td>0</td>\n",
       "      <td>0</td>\n",
       "      <td>0</td>\n",
       "      <td>0</td>\n",
       "      <td>0</td>\n",
       "      <td>0</td>\n",
       "      <td>0</td>\n",
       "      <td>0</td>\n",
       "      <td>0</td>\n",
       "      <td>0</td>\n",
       "      <td>0</td>\n",
       "      <td>2010</td>\n",
       "      <td>10</td>\n",
       "    </tr>\n",
       "    <tr>\n",
       "      <th>2</th>\n",
       "      <td>278.575394</td>\n",
       "      <td>280.282568</td>\n",
       "      <td>0.2</td>\n",
       "      <td>44.215499</td>\n",
       "      <td>278.575394</td>\n",
       "      <td>0.0</td>\n",
       "      <td>0.0</td>\n",
       "      <td>0.0</td>\n",
       "      <td>0.0</td>\n",
       "      <td>0.0</td>\n",
       "      <td>2010-10-03</td>\n",
       "      <td>0.006655</td>\n",
       "      <td>61.123905</td>\n",
       "      <td>1194.040409</td>\n",
       "      <td>11.500000</td>\n",
       "      <td>290.59950</td>\n",
       "      <td>3.32201</td>\n",
       "      <td>0.0</td>\n",
       "      <td>0.627164</td>\n",
       "      <td>282.84122</td>\n",
       "      <td>0</td>\n",
       "      <td>0</td>\n",
       "      <td>0</td>\n",
       "      <td>0</td>\n",
       "      <td>0</td>\n",
       "      <td>1</td>\n",
       "      <td>0</td>\n",
       "      <td>0</td>\n",
       "      <td>0</td>\n",
       "      <td>0</td>\n",
       "      <td>0</td>\n",
       "      <td>0</td>\n",
       "      <td>0</td>\n",
       "      <td>0</td>\n",
       "      <td>0</td>\n",
       "      <td>0</td>\n",
       "      <td>0</td>\n",
       "      <td>0</td>\n",
       "      <td>0</td>\n",
       "      <td>0</td>\n",
       "      <td>0</td>\n",
       "      <td>0</td>\n",
       "      <td>0</td>\n",
       "      <td>0</td>\n",
       "      <td>2010</td>\n",
       "      <td>10</td>\n",
       "    </tr>\n",
       "    <tr>\n",
       "      <th>3</th>\n",
       "      <td>280.511023</td>\n",
       "      <td>281.446828</td>\n",
       "      <td>0.2</td>\n",
       "      <td>73.435071</td>\n",
       "      <td>280.511023</td>\n",
       "      <td>0.0</td>\n",
       "      <td>0.0</td>\n",
       "      <td>0.0</td>\n",
       "      <td>0.0</td>\n",
       "      <td>0.0</td>\n",
       "      <td>2010-10-04</td>\n",
       "      <td>0.005970</td>\n",
       "      <td>58.574722</td>\n",
       "      <td>1937.796566</td>\n",
       "      <td>718.493056</td>\n",
       "      <td>291.77880</td>\n",
       "      <td>5.22301</td>\n",
       "      <td>0.0</td>\n",
       "      <td>0.996815</td>\n",
       "      <td>281.35240</td>\n",
       "      <td>0</td>\n",
       "      <td>0</td>\n",
       "      <td>0</td>\n",
       "      <td>0</td>\n",
       "      <td>0</td>\n",
       "      <td>1</td>\n",
       "      <td>0</td>\n",
       "      <td>0</td>\n",
       "      <td>0</td>\n",
       "      <td>0</td>\n",
       "      <td>0</td>\n",
       "      <td>0</td>\n",
       "      <td>0</td>\n",
       "      <td>0</td>\n",
       "      <td>0</td>\n",
       "      <td>0</td>\n",
       "      <td>0</td>\n",
       "      <td>0</td>\n",
       "      <td>0</td>\n",
       "      <td>0</td>\n",
       "      <td>0</td>\n",
       "      <td>0</td>\n",
       "      <td>0</td>\n",
       "      <td>0</td>\n",
       "      <td>2010</td>\n",
       "      <td>10</td>\n",
       "    </tr>\n",
       "    <tr>\n",
       "      <th>4</th>\n",
       "      <td>280.790508</td>\n",
       "      <td>281.635283</td>\n",
       "      <td>0.2</td>\n",
       "      <td>17.299822</td>\n",
       "      <td>280.790508</td>\n",
       "      <td>0.0</td>\n",
       "      <td>0.0</td>\n",
       "      <td>0.0</td>\n",
       "      <td>0.0</td>\n",
       "      <td>0.0</td>\n",
       "      <td>2010-10-05</td>\n",
       "      <td>0.007777</td>\n",
       "      <td>94.231740</td>\n",
       "      <td>1837.712598</td>\n",
       "      <td>515.784722</td>\n",
       "      <td>284.17500</td>\n",
       "      <td>4.12301</td>\n",
       "      <td>0.0</td>\n",
       "      <td>0.982423</td>\n",
       "      <td>280.60666</td>\n",
       "      <td>0</td>\n",
       "      <td>0</td>\n",
       "      <td>0</td>\n",
       "      <td>0</td>\n",
       "      <td>0</td>\n",
       "      <td>1</td>\n",
       "      <td>0</td>\n",
       "      <td>0</td>\n",
       "      <td>0</td>\n",
       "      <td>0</td>\n",
       "      <td>0</td>\n",
       "      <td>0</td>\n",
       "      <td>0</td>\n",
       "      <td>0</td>\n",
       "      <td>0</td>\n",
       "      <td>0</td>\n",
       "      <td>0</td>\n",
       "      <td>0</td>\n",
       "      <td>0</td>\n",
       "      <td>0</td>\n",
       "      <td>0</td>\n",
       "      <td>0</td>\n",
       "      <td>0</td>\n",
       "      <td>0</td>\n",
       "      <td>2010</td>\n",
       "      <td>10</td>\n",
       "    </tr>\n",
       "  </tbody>\n",
       "</table>\n",
       "</div>"
      ],
      "text/plain": [
       "   temp_soil_0.005_m  temp_soil_0.08_m  whiteness_albedo  net_radiation  \\\n",
       "0         277.709158        279.014864               0.2       3.251180   \n",
       "1         279.496314        280.143477               0.2      79.345799   \n",
       "2         278.575394        280.282568               0.2      44.215499   \n",
       "3         280.511023        281.446828               0.2      73.435071   \n",
       "4         280.790508        281.635283               0.2      17.299822   \n",
       "\n",
       "   surface_temperature  surface_snow_amount  thickness_of_snowfall  \\\n",
       "0           277.709158                  0.0                    0.0   \n",
       "1           279.496314                  0.0                    0.0   \n",
       "2           278.575394                  0.0                    0.0   \n",
       "3           280.511023                  0.0                    0.0   \n",
       "4           280.790508                  0.0                    0.0   \n",
       "\n",
       "   snow_thickness_7D  snow_water_7D  penetration_ram_resistance         day  \\\n",
       "0                0.0            0.0                         0.0  2010-10-01   \n",
       "1                0.0            0.0                         0.0  2010-10-02   \n",
       "2                0.0            0.0                         0.0  2010-10-03   \n",
       "3                0.0            0.0                         0.0  2010-10-04   \n",
       "4                0.0            0.0                         0.0  2010-10-05   \n",
       "\n",
       "   near_surface_humidity_mean  relative_humidity_mean  \\\n",
       "0                    0.005956               80.023400   \n",
       "1                    0.006067               58.228333   \n",
       "2                    0.006655               61.123905   \n",
       "3                    0.005970               58.574722   \n",
       "4                    0.007777               94.231740   \n",
       "\n",
       "   freezing_level_altitude_mean  rain_snow_transition_altitude_mean  \\\n",
       "0                   2268.572667                          422.333333   \n",
       "1                   1080.672643                           40.151042   \n",
       "2                   1194.040409                           11.500000   \n",
       "3                   1937.796566                          718.493056   \n",
       "4                   1837.712598                          515.784722   \n",
       "\n",
       "   air_temp_max  wind_speed_max  snowfall_rate_max  nebulosity_max  \\\n",
       "0     283.38647         4.92501                0.0        0.988523   \n",
       "1     288.89374         4.92201                0.0        0.758338   \n",
       "2     290.59950         3.32201                0.0        0.627164   \n",
       "3     291.77880         5.22301                0.0        0.996815   \n",
       "4     284.17500         4.12301                0.0        0.982423   \n",
       "\n",
       "   air_temp_min  aval_event  massif_Aravis  massif_Bauges  massif_Beaufortin  \\\n",
       "0     277.14102           0              0              0                  0   \n",
       "1     281.01437           0              0              0                  0   \n",
       "2     282.84122           0              0              0                  0   \n",
       "3     281.35240           0              0              0                  0   \n",
       "4     280.60666           0              0              0                  0   \n",
       "\n",
       "   massif_Belledonne  massif_Chablais  massif_Champsaur  massif_Chartreuse  \\\n",
       "0                  0                1                 0                  0   \n",
       "1                  0                1                 0                  0   \n",
       "2                  0                1                 0                  0   \n",
       "3                  0                1                 0                  0   \n",
       "4                  0                1                 0                  0   \n",
       "\n",
       "   massif_Devoluy  massif_Gdes-rouss  massif_Ht_Var-Ver  massif_Hte-maurie  \\\n",
       "0               0                  0                  0                  0   \n",
       "1               0                  0                  0                  0   \n",
       "2               0                  0                  0                  0   \n",
       "3               0                  0                  0                  0   \n",
       "4               0                  0                  0                  0   \n",
       "\n",
       "   massif_Hte-tarent  massif_Maurienne  massif_Mercantour  massif_Mont-Blanc  \\\n",
       "0                  0                 0                  0                  0   \n",
       "1                  0                 0                  0                  0   \n",
       "2                  0                 0                  0                  0   \n",
       "3                  0                 0                  0                  0   \n",
       "4                  0                 0                  0                  0   \n",
       "\n",
       "   massif_Oisans  massif_Parpaillon  massif_Pelvoux  massif_Queyras  \\\n",
       "0              0                  0               0               0   \n",
       "1              0                  0               0               0   \n",
       "2              0                  0               0               0   \n",
       "3              0                  0               0               0   \n",
       "4              0                  0               0               0   \n",
       "\n",
       "   massif_Thabor  massif_Ubaye  massif_Vanoise  massif_Vercors  year  month  \n",
       "0              0             0               0               0  2010     10  \n",
       "1              0             0               0               0  2010     10  \n",
       "2              0             0               0               0  2010     10  \n",
       "3              0             0               0               0  2010     10  \n",
       "4              0             0               0               0  2010     10  "
      ]
     },
     "execution_count": 16,
     "metadata": {},
     "output_type": "execute_result"
    }
   ],
   "source": [
    "# second categorical variable to transform is day\n",
    "# slicing is used to get years and months from day variable\n",
    "# and after we need to transform years and months to integers\n",
    "df_clean[\"year\"] = (df_clean.day.str[:4]).astype(int)\n",
    "df_clean[\"month\"] = (df_clean.day.str[5:7]).astype(int)\n",
    "df_clean.head()"
   ]
  },
  {
   "cell_type": "code",
   "execution_count": 17,
   "metadata": {},
   "outputs": [],
   "source": [
    "# getting rid of redundant variable\n",
    "df_clean = df_clean.drop(columns=['day', 'year'])"
   ]
  },
  {
   "cell_type": "code",
   "execution_count": 18,
   "metadata": {},
   "outputs": [
    {
     "data": {
      "text/html": [
       "<div>\n",
       "<style scoped>\n",
       "    .dataframe tbody tr th:only-of-type {\n",
       "        vertical-align: middle;\n",
       "    }\n",
       "\n",
       "    .dataframe tbody tr th {\n",
       "        vertical-align: top;\n",
       "    }\n",
       "\n",
       "    .dataframe thead th {\n",
       "        text-align: right;\n",
       "    }\n",
       "</style>\n",
       "<table border=\"1\" class=\"dataframe\">\n",
       "  <thead>\n",
       "    <tr style=\"text-align: right;\">\n",
       "      <th></th>\n",
       "      <th>temp_soil_0.005_m</th>\n",
       "      <th>temp_soil_0.08_m</th>\n",
       "      <th>whiteness_albedo</th>\n",
       "      <th>net_radiation</th>\n",
       "      <th>surface_temperature</th>\n",
       "      <th>surface_snow_amount</th>\n",
       "      <th>thickness_of_snowfall</th>\n",
       "      <th>snow_thickness_7D</th>\n",
       "      <th>snow_water_7D</th>\n",
       "      <th>penetration_ram_resistance</th>\n",
       "      <th>near_surface_humidity_mean</th>\n",
       "      <th>relative_humidity_mean</th>\n",
       "      <th>freezing_level_altitude_mean</th>\n",
       "      <th>rain_snow_transition_altitude_mean</th>\n",
       "      <th>air_temp_max</th>\n",
       "      <th>wind_speed_max</th>\n",
       "      <th>snowfall_rate_max</th>\n",
       "      <th>nebulosity_max</th>\n",
       "      <th>air_temp_min</th>\n",
       "      <th>aval_event</th>\n",
       "      <th>massif_Aravis</th>\n",
       "      <th>massif_Bauges</th>\n",
       "      <th>massif_Beaufortin</th>\n",
       "      <th>massif_Belledonne</th>\n",
       "      <th>massif_Chablais</th>\n",
       "      <th>massif_Champsaur</th>\n",
       "      <th>massif_Chartreuse</th>\n",
       "      <th>massif_Devoluy</th>\n",
       "      <th>massif_Gdes-rouss</th>\n",
       "      <th>massif_Ht_Var-Ver</th>\n",
       "      <th>massif_Hte-maurie</th>\n",
       "      <th>massif_Hte-tarent</th>\n",
       "      <th>massif_Maurienne</th>\n",
       "      <th>massif_Mercantour</th>\n",
       "      <th>massif_Mont-Blanc</th>\n",
       "      <th>massif_Oisans</th>\n",
       "      <th>massif_Parpaillon</th>\n",
       "      <th>massif_Pelvoux</th>\n",
       "      <th>massif_Queyras</th>\n",
       "      <th>massif_Thabor</th>\n",
       "      <th>massif_Ubaye</th>\n",
       "      <th>massif_Vanoise</th>\n",
       "      <th>massif_Vercors</th>\n",
       "      <th>month</th>\n",
       "    </tr>\n",
       "  </thead>\n",
       "  <tbody>\n",
       "    <tr>\n",
       "      <th>0</th>\n",
       "      <td>277.709158</td>\n",
       "      <td>279.014864</td>\n",
       "      <td>0.2</td>\n",
       "      <td>3.251180</td>\n",
       "      <td>277.709158</td>\n",
       "      <td>0.0</td>\n",
       "      <td>0.0</td>\n",
       "      <td>0.0</td>\n",
       "      <td>0.0</td>\n",
       "      <td>0.0</td>\n",
       "      <td>0.005956</td>\n",
       "      <td>80.023400</td>\n",
       "      <td>2268.572667</td>\n",
       "      <td>422.333333</td>\n",
       "      <td>283.38647</td>\n",
       "      <td>4.92501</td>\n",
       "      <td>0.0</td>\n",
       "      <td>0.988523</td>\n",
       "      <td>277.14102</td>\n",
       "      <td>0</td>\n",
       "      <td>0</td>\n",
       "      <td>0</td>\n",
       "      <td>0</td>\n",
       "      <td>0</td>\n",
       "      <td>1</td>\n",
       "      <td>0</td>\n",
       "      <td>0</td>\n",
       "      <td>0</td>\n",
       "      <td>0</td>\n",
       "      <td>0</td>\n",
       "      <td>0</td>\n",
       "      <td>0</td>\n",
       "      <td>0</td>\n",
       "      <td>0</td>\n",
       "      <td>0</td>\n",
       "      <td>0</td>\n",
       "      <td>0</td>\n",
       "      <td>0</td>\n",
       "      <td>0</td>\n",
       "      <td>0</td>\n",
       "      <td>0</td>\n",
       "      <td>0</td>\n",
       "      <td>0</td>\n",
       "      <td>10</td>\n",
       "    </tr>\n",
       "    <tr>\n",
       "      <th>1</th>\n",
       "      <td>279.496314</td>\n",
       "      <td>280.143477</td>\n",
       "      <td>0.2</td>\n",
       "      <td>79.345799</td>\n",
       "      <td>279.496314</td>\n",
       "      <td>0.0</td>\n",
       "      <td>0.0</td>\n",
       "      <td>0.0</td>\n",
       "      <td>0.0</td>\n",
       "      <td>0.0</td>\n",
       "      <td>0.006067</td>\n",
       "      <td>58.228333</td>\n",
       "      <td>1080.672643</td>\n",
       "      <td>40.151042</td>\n",
       "      <td>288.89374</td>\n",
       "      <td>4.92201</td>\n",
       "      <td>0.0</td>\n",
       "      <td>0.758338</td>\n",
       "      <td>281.01437</td>\n",
       "      <td>0</td>\n",
       "      <td>0</td>\n",
       "      <td>0</td>\n",
       "      <td>0</td>\n",
       "      <td>0</td>\n",
       "      <td>1</td>\n",
       "      <td>0</td>\n",
       "      <td>0</td>\n",
       "      <td>0</td>\n",
       "      <td>0</td>\n",
       "      <td>0</td>\n",
       "      <td>0</td>\n",
       "      <td>0</td>\n",
       "      <td>0</td>\n",
       "      <td>0</td>\n",
       "      <td>0</td>\n",
       "      <td>0</td>\n",
       "      <td>0</td>\n",
       "      <td>0</td>\n",
       "      <td>0</td>\n",
       "      <td>0</td>\n",
       "      <td>0</td>\n",
       "      <td>0</td>\n",
       "      <td>0</td>\n",
       "      <td>10</td>\n",
       "    </tr>\n",
       "    <tr>\n",
       "      <th>2</th>\n",
       "      <td>278.575394</td>\n",
       "      <td>280.282568</td>\n",
       "      <td>0.2</td>\n",
       "      <td>44.215499</td>\n",
       "      <td>278.575394</td>\n",
       "      <td>0.0</td>\n",
       "      <td>0.0</td>\n",
       "      <td>0.0</td>\n",
       "      <td>0.0</td>\n",
       "      <td>0.0</td>\n",
       "      <td>0.006655</td>\n",
       "      <td>61.123905</td>\n",
       "      <td>1194.040409</td>\n",
       "      <td>11.500000</td>\n",
       "      <td>290.59950</td>\n",
       "      <td>3.32201</td>\n",
       "      <td>0.0</td>\n",
       "      <td>0.627164</td>\n",
       "      <td>282.84122</td>\n",
       "      <td>0</td>\n",
       "      <td>0</td>\n",
       "      <td>0</td>\n",
       "      <td>0</td>\n",
       "      <td>0</td>\n",
       "      <td>1</td>\n",
       "      <td>0</td>\n",
       "      <td>0</td>\n",
       "      <td>0</td>\n",
       "      <td>0</td>\n",
       "      <td>0</td>\n",
       "      <td>0</td>\n",
       "      <td>0</td>\n",
       "      <td>0</td>\n",
       "      <td>0</td>\n",
       "      <td>0</td>\n",
       "      <td>0</td>\n",
       "      <td>0</td>\n",
       "      <td>0</td>\n",
       "      <td>0</td>\n",
       "      <td>0</td>\n",
       "      <td>0</td>\n",
       "      <td>0</td>\n",
       "      <td>0</td>\n",
       "      <td>10</td>\n",
       "    </tr>\n",
       "    <tr>\n",
       "      <th>3</th>\n",
       "      <td>280.511023</td>\n",
       "      <td>281.446828</td>\n",
       "      <td>0.2</td>\n",
       "      <td>73.435071</td>\n",
       "      <td>280.511023</td>\n",
       "      <td>0.0</td>\n",
       "      <td>0.0</td>\n",
       "      <td>0.0</td>\n",
       "      <td>0.0</td>\n",
       "      <td>0.0</td>\n",
       "      <td>0.005970</td>\n",
       "      <td>58.574722</td>\n",
       "      <td>1937.796566</td>\n",
       "      <td>718.493056</td>\n",
       "      <td>291.77880</td>\n",
       "      <td>5.22301</td>\n",
       "      <td>0.0</td>\n",
       "      <td>0.996815</td>\n",
       "      <td>281.35240</td>\n",
       "      <td>0</td>\n",
       "      <td>0</td>\n",
       "      <td>0</td>\n",
       "      <td>0</td>\n",
       "      <td>0</td>\n",
       "      <td>1</td>\n",
       "      <td>0</td>\n",
       "      <td>0</td>\n",
       "      <td>0</td>\n",
       "      <td>0</td>\n",
       "      <td>0</td>\n",
       "      <td>0</td>\n",
       "      <td>0</td>\n",
       "      <td>0</td>\n",
       "      <td>0</td>\n",
       "      <td>0</td>\n",
       "      <td>0</td>\n",
       "      <td>0</td>\n",
       "      <td>0</td>\n",
       "      <td>0</td>\n",
       "      <td>0</td>\n",
       "      <td>0</td>\n",
       "      <td>0</td>\n",
       "      <td>0</td>\n",
       "      <td>10</td>\n",
       "    </tr>\n",
       "    <tr>\n",
       "      <th>4</th>\n",
       "      <td>280.790508</td>\n",
       "      <td>281.635283</td>\n",
       "      <td>0.2</td>\n",
       "      <td>17.299822</td>\n",
       "      <td>280.790508</td>\n",
       "      <td>0.0</td>\n",
       "      <td>0.0</td>\n",
       "      <td>0.0</td>\n",
       "      <td>0.0</td>\n",
       "      <td>0.0</td>\n",
       "      <td>0.007777</td>\n",
       "      <td>94.231740</td>\n",
       "      <td>1837.712598</td>\n",
       "      <td>515.784722</td>\n",
       "      <td>284.17500</td>\n",
       "      <td>4.12301</td>\n",
       "      <td>0.0</td>\n",
       "      <td>0.982423</td>\n",
       "      <td>280.60666</td>\n",
       "      <td>0</td>\n",
       "      <td>0</td>\n",
       "      <td>0</td>\n",
       "      <td>0</td>\n",
       "      <td>0</td>\n",
       "      <td>1</td>\n",
       "      <td>0</td>\n",
       "      <td>0</td>\n",
       "      <td>0</td>\n",
       "      <td>0</td>\n",
       "      <td>0</td>\n",
       "      <td>0</td>\n",
       "      <td>0</td>\n",
       "      <td>0</td>\n",
       "      <td>0</td>\n",
       "      <td>0</td>\n",
       "      <td>0</td>\n",
       "      <td>0</td>\n",
       "      <td>0</td>\n",
       "      <td>0</td>\n",
       "      <td>0</td>\n",
       "      <td>0</td>\n",
       "      <td>0</td>\n",
       "      <td>0</td>\n",
       "      <td>10</td>\n",
       "    </tr>\n",
       "  </tbody>\n",
       "</table>\n",
       "</div>"
      ],
      "text/plain": [
       "   temp_soil_0.005_m  temp_soil_0.08_m  whiteness_albedo  net_radiation  \\\n",
       "0         277.709158        279.014864               0.2       3.251180   \n",
       "1         279.496314        280.143477               0.2      79.345799   \n",
       "2         278.575394        280.282568               0.2      44.215499   \n",
       "3         280.511023        281.446828               0.2      73.435071   \n",
       "4         280.790508        281.635283               0.2      17.299822   \n",
       "\n",
       "   surface_temperature  surface_snow_amount  thickness_of_snowfall  \\\n",
       "0           277.709158                  0.0                    0.0   \n",
       "1           279.496314                  0.0                    0.0   \n",
       "2           278.575394                  0.0                    0.0   \n",
       "3           280.511023                  0.0                    0.0   \n",
       "4           280.790508                  0.0                    0.0   \n",
       "\n",
       "   snow_thickness_7D  snow_water_7D  penetration_ram_resistance  \\\n",
       "0                0.0            0.0                         0.0   \n",
       "1                0.0            0.0                         0.0   \n",
       "2                0.0            0.0                         0.0   \n",
       "3                0.0            0.0                         0.0   \n",
       "4                0.0            0.0                         0.0   \n",
       "\n",
       "   near_surface_humidity_mean  relative_humidity_mean  \\\n",
       "0                    0.005956               80.023400   \n",
       "1                    0.006067               58.228333   \n",
       "2                    0.006655               61.123905   \n",
       "3                    0.005970               58.574722   \n",
       "4                    0.007777               94.231740   \n",
       "\n",
       "   freezing_level_altitude_mean  rain_snow_transition_altitude_mean  \\\n",
       "0                   2268.572667                          422.333333   \n",
       "1                   1080.672643                           40.151042   \n",
       "2                   1194.040409                           11.500000   \n",
       "3                   1937.796566                          718.493056   \n",
       "4                   1837.712598                          515.784722   \n",
       "\n",
       "   air_temp_max  wind_speed_max  snowfall_rate_max  nebulosity_max  \\\n",
       "0     283.38647         4.92501                0.0        0.988523   \n",
       "1     288.89374         4.92201                0.0        0.758338   \n",
       "2     290.59950         3.32201                0.0        0.627164   \n",
       "3     291.77880         5.22301                0.0        0.996815   \n",
       "4     284.17500         4.12301                0.0        0.982423   \n",
       "\n",
       "   air_temp_min  aval_event  massif_Aravis  massif_Bauges  massif_Beaufortin  \\\n",
       "0     277.14102           0              0              0                  0   \n",
       "1     281.01437           0              0              0                  0   \n",
       "2     282.84122           0              0              0                  0   \n",
       "3     281.35240           0              0              0                  0   \n",
       "4     280.60666           0              0              0                  0   \n",
       "\n",
       "   massif_Belledonne  massif_Chablais  massif_Champsaur  massif_Chartreuse  \\\n",
       "0                  0                1                 0                  0   \n",
       "1                  0                1                 0                  0   \n",
       "2                  0                1                 0                  0   \n",
       "3                  0                1                 0                  0   \n",
       "4                  0                1                 0                  0   \n",
       "\n",
       "   massif_Devoluy  massif_Gdes-rouss  massif_Ht_Var-Ver  massif_Hte-maurie  \\\n",
       "0               0                  0                  0                  0   \n",
       "1               0                  0                  0                  0   \n",
       "2               0                  0                  0                  0   \n",
       "3               0                  0                  0                  0   \n",
       "4               0                  0                  0                  0   \n",
       "\n",
       "   massif_Hte-tarent  massif_Maurienne  massif_Mercantour  massif_Mont-Blanc  \\\n",
       "0                  0                 0                  0                  0   \n",
       "1                  0                 0                  0                  0   \n",
       "2                  0                 0                  0                  0   \n",
       "3                  0                 0                  0                  0   \n",
       "4                  0                 0                  0                  0   \n",
       "\n",
       "   massif_Oisans  massif_Parpaillon  massif_Pelvoux  massif_Queyras  \\\n",
       "0              0                  0               0               0   \n",
       "1              0                  0               0               0   \n",
       "2              0                  0               0               0   \n",
       "3              0                  0               0               0   \n",
       "4              0                  0               0               0   \n",
       "\n",
       "   massif_Thabor  massif_Ubaye  massif_Vanoise  massif_Vercors  month  \n",
       "0              0             0               0               0     10  \n",
       "1              0             0               0               0     10  \n",
       "2              0             0               0               0     10  \n",
       "3              0             0               0               0     10  \n",
       "4              0             0               0               0     10  "
      ]
     },
     "execution_count": 18,
     "metadata": {},
     "output_type": "execute_result"
    }
   ],
   "source": [
    "# checking dataset with new time variables\n",
    "df_clean.head()"
   ]
  },
  {
   "cell_type": "code",
   "execution_count": 19,
   "metadata": {},
   "outputs": [
    {
     "data": {
      "text/plain": [
       "0"
      ]
     },
     "execution_count": 19,
     "metadata": {},
     "output_type": "execute_result"
    }
   ],
   "source": [
    "# verifying there are no null values in dataset\n",
    "(df_clean.apply(lambda x: x.isnull().sum())).sum()"
   ]
  },
  {
   "cell_type": "code",
   "execution_count": 20,
   "metadata": {},
   "outputs": [
    {
     "name": "stdout",
     "output_type": "stream",
     "text": [
      "<class 'pandas.core.frame.DataFrame'>\n",
      "Int64Index: 540818 entries, 0 to 540817\n",
      "Data columns (total 44 columns):\n",
      " #   Column                              Non-Null Count   Dtype  \n",
      "---  ------                              --------------   -----  \n",
      " 0   temp_soil_0.005_m                   540818 non-null  float64\n",
      " 1   temp_soil_0.08_m                    540818 non-null  float64\n",
      " 2   whiteness_albedo                    540818 non-null  float64\n",
      " 3   net_radiation                       540818 non-null  float64\n",
      " 4   surface_temperature                 540818 non-null  float64\n",
      " 5   surface_snow_amount                 540818 non-null  float64\n",
      " 6   thickness_of_snowfall               540818 non-null  float64\n",
      " 7   snow_thickness_7D                   540818 non-null  float64\n",
      " 8   snow_water_7D                       540818 non-null  float64\n",
      " 9   penetration_ram_resistance          540818 non-null  float64\n",
      " 10  near_surface_humidity_mean          540818 non-null  float64\n",
      " 11  relative_humidity_mean              540818 non-null  float64\n",
      " 12  freezing_level_altitude_mean        540818 non-null  float64\n",
      " 13  rain_snow_transition_altitude_mean  540818 non-null  float64\n",
      " 14  air_temp_max                        540818 non-null  float64\n",
      " 15  wind_speed_max                      540818 non-null  float64\n",
      " 16  snowfall_rate_max                   540818 non-null  float64\n",
      " 17  nebulosity_max                      540818 non-null  float64\n",
      " 18  air_temp_min                        540818 non-null  float64\n",
      " 19  aval_event                          540818 non-null  int64  \n",
      " 20  massif_Aravis                       540818 non-null  uint8  \n",
      " 21  massif_Bauges                       540818 non-null  uint8  \n",
      " 22  massif_Beaufortin                   540818 non-null  uint8  \n",
      " 23  massif_Belledonne                   540818 non-null  uint8  \n",
      " 24  massif_Chablais                     540818 non-null  uint8  \n",
      " 25  massif_Champsaur                    540818 non-null  uint8  \n",
      " 26  massif_Chartreuse                   540818 non-null  uint8  \n",
      " 27  massif_Devoluy                      540818 non-null  uint8  \n",
      " 28  massif_Gdes-rouss                   540818 non-null  uint8  \n",
      " 29  massif_Ht_Var-Ver                   540818 non-null  uint8  \n",
      " 30  massif_Hte-maurie                   540818 non-null  uint8  \n",
      " 31  massif_Hte-tarent                   540818 non-null  uint8  \n",
      " 32  massif_Maurienne                    540818 non-null  uint8  \n",
      " 33  massif_Mercantour                   540818 non-null  uint8  \n",
      " 34  massif_Mont-Blanc                   540818 non-null  uint8  \n",
      " 35  massif_Oisans                       540818 non-null  uint8  \n",
      " 36  massif_Parpaillon                   540818 non-null  uint8  \n",
      " 37  massif_Pelvoux                      540818 non-null  uint8  \n",
      " 38  massif_Queyras                      540818 non-null  uint8  \n",
      " 39  massif_Thabor                       540818 non-null  uint8  \n",
      " 40  massif_Ubaye                        540818 non-null  uint8  \n",
      " 41  massif_Vanoise                      540818 non-null  uint8  \n",
      " 42  massif_Vercors                      540818 non-null  uint8  \n",
      " 43  month                               540818 non-null  int32  \n",
      "dtypes: float64(19), int32(1), int64(1), uint8(23)\n",
      "memory usage: 100.6 MB\n"
     ]
    }
   ],
   "source": [
    "# checking one last time my dataset before creating RF models\n",
    "df_clean.info()"
   ]
  },
  {
   "cell_type": "markdown",
   "metadata": {},
   "source": [
    "## Problem with very imbalanced dataset\n",
    "- metrics like Accuracy will be very high, but that does not provide any significant insight, because of imbalanced dataset with majority of No avalanche events\n",
    "- in classification report metrics **Precision will have lesser importance for my analysis than Recall**, because I want to reduce number of False Negatives rather then number of False Positives\n",
    "- **For performance of XGBoost model, I will look mainly on weighted F1-score** metrics because it is the most suitable for this kind of analysis. F1-score is in fact weighted average of the precision and recall."
   ]
  },
  {
   "cell_type": "code",
   "execution_count": 21,
   "metadata": {},
   "outputs": [
    {
     "data": {
      "text/plain": [
       "0    99.62\n",
       "1     0.38\n",
       "Name: aval_event, dtype: float64"
      ]
     },
     "execution_count": 21,
     "metadata": {},
     "output_type": "execute_result"
    }
   ],
   "source": [
    "# Percentage of cases with and without avalanches showing imbalanced dataset\n",
    "round((df_clean.aval_event.value_counts()/540818)*100, 2)"
   ]
  },
  {
   "cell_type": "code",
   "execution_count": 22,
   "metadata": {},
   "outputs": [
    {
     "data": {
      "text/plain": [
       "'Number of total positives is 2039 and for total negatives it is 538779'"
      ]
     },
     "execution_count": 22,
     "metadata": {},
     "output_type": "execute_result"
    }
   ],
   "source": [
    "# getting number of positives and negatives in order to calculate scale_pos_weight\n",
    "total_negative = df_clean.aval_event.value_counts()[0]\n",
    "total_positive = df_clean.aval_event.value_counts()[1]\n",
    "f\"Number of total positives is {total_positive} and for total negatives it is {total_negative}\""
   ]
  },
  {
   "cell_type": "code",
   "execution_count": 23,
   "metadata": {},
   "outputs": [
    {
     "data": {
      "text/plain": [
       "264.2368808239333"
      ]
     },
     "execution_count": 23,
     "metadata": {},
     "output_type": "execute_result"
    }
   ],
   "source": [
    "# scale_pos_weight for class weights\n",
    "scale_pos_weight=total_negative/total_positive\n",
    "scale_pos_weight"
   ]
  },
  {
   "cell_type": "code",
   "execution_count": 24,
   "metadata": {},
   "outputs": [],
   "source": [
    "# labels are the values we want to predict\n",
    "labels_ev = np.array(df_clean['aval_event'])\n",
    "\n",
    "# removing the labels from the features\n",
    "features_ev = df_clean.drop(columns=['aval_event'])\n",
    "\n",
    "# saving feature names for later use\n",
    "feature_list_ev = list(features_ev.columns)\n",
    "\n",
    "# converting to numpy array\n",
    "features_ev = np.array(features_ev)"
   ]
  },
  {
   "cell_type": "code",
   "execution_count": 25,
   "metadata": {},
   "outputs": [],
   "source": [
    "# splitting dataset into train and test\n",
    "train_features_ev, test_features_ev, train_labels_ev, test_labels_ev = train_test_split(features_ev, labels_ev, test_size = 0.33, random_state = 42)"
   ]
  },
  {
   "cell_type": "code",
   "execution_count": 26,
   "metadata": {},
   "outputs": [
    {
     "name": "stdout",
     "output_type": "stream",
     "text": [
      "Training Features Shape: (362348, 43)\n",
      "Training Labels Shape: (362348,)\n",
      "Testing Features Shape: (178470, 43)\n",
      "Testing Labels Shape: (178470,)\n"
     ]
    }
   ],
   "source": [
    "# displaying sizes of train/test features and labels\n",
    "print('Training Features Shape:', train_features_ev.shape)\n",
    "print('Training Labels Shape:', train_labels_ev.shape)\n",
    "print('Testing Features Shape:', test_features_ev.shape)\n",
    "print('Testing Labels Shape:', test_labels_ev.shape)"
   ]
  },
  {
   "cell_type": "code",
   "execution_count": 27,
   "metadata": {},
   "outputs": [],
   "source": [
    "# defining  and fitting model \n",
    "xgb = XGBClassifier(scale_pos_weight=scale_pos_weight)\n",
    "xgb.fit(train_features_ev, train_labels_ev)\n",
    "\n",
    "# making prediction\n",
    "label_pred_ev = xgb.predict(test_features_ev)"
   ]
  },
  {
   "cell_type": "code",
   "execution_count": 28,
   "metadata": {},
   "outputs": [
    {
     "name": "stdout",
     "output_type": "stream",
     "text": [
      "Mean ROC AUC: 0.99862\n",
      "Accuracy: 0.99444\n",
      "F1_score weighted: 0.99546\n",
      "Wall time: 32min 27s\n"
     ]
    }
   ],
   "source": [
    "%%time\n",
    "# defining evaluation procedure\n",
    "cv = RepeatedStratifiedKFold(n_splits=10, n_repeats=3, random_state=1)\n",
    "\n",
    "# evaluating model\n",
    "scores = cross_val_score(xgb, features_ev, labels_ev, scoring='roc_auc', cv=cv, n_jobs=-1)\n",
    "\n",
    "# summary of performance\n",
    "print('Mean ROC AUC: %.5f' % mean(scores))\n",
    "print(\"Accuracy:\",round(metrics.accuracy_score(test_labels_ev, label_pred_ev),5))\n",
    "print(\"F1_score weighted:\", round(f1_score(test_labels_ev, label_pred_ev, average='weighted'),5))"
   ]
  },
  {
   "cell_type": "code",
   "execution_count": 29,
   "metadata": {},
   "outputs": [
    {
     "data": {
      "image/png": "[encoded data removed]",
      "text/plain": [
       "<Figure size 360x360 with 2 Axes>"
      ]
     },
     "metadata": {},
     "output_type": "display_data"
    }
   ],
   "source": [
    "# displaying confusion matrix\n",
    "sns.set(font_scale=1.75)\n",
    "f, ax = plt.subplots(figsize=(5, 5))\n",
    "cf_matrix_basic = confusion_matrix(test_labels_ev, label_pred_ev)\n",
    "sns.heatmap(cf_matrix_basic, annot=True, ax=ax, cmap=\"YlGnBu\", fmt=\".0f\", linewidths=.5)\n",
    "plt.title(\"Confusion matrix for avalanches\")\n",
    "plt.xlabel('Predicted')\n",
    "plt.ylabel('Real');"
   ]
  },
  {
   "cell_type": "code",
   "execution_count": 30,
   "metadata": {},
   "outputs": [
    {
     "name": "stdout",
     "output_type": "stream",
     "text": [
      "              precision    recall  f1-score   support\n",
      "\n",
      "           0      1.000     0.995     0.997    177760\n",
      "           1      0.409     0.887     0.560       710\n",
      "\n",
      "    accuracy                          0.994    178470\n",
      "   macro avg      0.704     0.941     0.778    178470\n",
      "weighted avg      0.997     0.994     0.995    178470\n",
      "\n"
     ]
    }
   ],
   "source": [
    "# displaying report of performance of model\n",
    "print(classification_report(test_labels_ev, label_pred_ev, digits=3))"
   ]
  },
  {
   "cell_type": "markdown",
   "metadata": {},
   "source": [
    "## Results without summer months"
   ]
  },
  {
   "cell_type": "code",
   "execution_count": 31,
   "metadata": {},
   "outputs": [],
   "source": [
    "# creating dataframe without summer months\n",
    "summer_season = [6, 7, 8]\n",
    "df_winter = df_clean[~df_clean[\"month\"].isin(summer_season)]"
   ]
  },
  {
   "cell_type": "code",
   "execution_count": 32,
   "metadata": {},
   "outputs": [
    {
     "data": {
      "text/html": [
       "<div>\n",
       "<style scoped>\n",
       "    .dataframe tbody tr th:only-of-type {\n",
       "        vertical-align: middle;\n",
       "    }\n",
       "\n",
       "    .dataframe tbody tr th {\n",
       "        vertical-align: top;\n",
       "    }\n",
       "\n",
       "    .dataframe thead th {\n",
       "        text-align: right;\n",
       "    }\n",
       "</style>\n",
       "<table border=\"1\" class=\"dataframe\">\n",
       "  <thead>\n",
       "    <tr style=\"text-align: right;\">\n",
       "      <th></th>\n",
       "      <th>temp_soil_0.005_m</th>\n",
       "      <th>temp_soil_0.08_m</th>\n",
       "      <th>whiteness_albedo</th>\n",
       "      <th>net_radiation</th>\n",
       "      <th>surface_temperature</th>\n",
       "      <th>surface_snow_amount</th>\n",
       "      <th>thickness_of_snowfall</th>\n",
       "      <th>snow_thickness_7D</th>\n",
       "      <th>snow_water_7D</th>\n",
       "      <th>penetration_ram_resistance</th>\n",
       "      <th>near_surface_humidity_mean</th>\n",
       "      <th>relative_humidity_mean</th>\n",
       "      <th>freezing_level_altitude_mean</th>\n",
       "      <th>rain_snow_transition_altitude_mean</th>\n",
       "      <th>air_temp_max</th>\n",
       "      <th>wind_speed_max</th>\n",
       "      <th>snowfall_rate_max</th>\n",
       "      <th>nebulosity_max</th>\n",
       "      <th>air_temp_min</th>\n",
       "      <th>aval_event</th>\n",
       "      <th>massif_Aravis</th>\n",
       "      <th>massif_Bauges</th>\n",
       "      <th>massif_Beaufortin</th>\n",
       "      <th>massif_Belledonne</th>\n",
       "      <th>massif_Chablais</th>\n",
       "      <th>massif_Champsaur</th>\n",
       "      <th>massif_Chartreuse</th>\n",
       "      <th>massif_Devoluy</th>\n",
       "      <th>massif_Gdes-rouss</th>\n",
       "      <th>massif_Ht_Var-Ver</th>\n",
       "      <th>massif_Hte-maurie</th>\n",
       "      <th>massif_Hte-tarent</th>\n",
       "      <th>massif_Maurienne</th>\n",
       "      <th>massif_Mercantour</th>\n",
       "      <th>massif_Mont-Blanc</th>\n",
       "      <th>massif_Oisans</th>\n",
       "      <th>massif_Parpaillon</th>\n",
       "      <th>massif_Pelvoux</th>\n",
       "      <th>massif_Queyras</th>\n",
       "      <th>massif_Thabor</th>\n",
       "      <th>massif_Ubaye</th>\n",
       "      <th>massif_Vanoise</th>\n",
       "      <th>massif_Vercors</th>\n",
       "      <th>month</th>\n",
       "    </tr>\n",
       "  </thead>\n",
       "  <tbody>\n",
       "    <tr>\n",
       "      <th>0</th>\n",
       "      <td>277.709158</td>\n",
       "      <td>279.014864</td>\n",
       "      <td>0.2</td>\n",
       "      <td>3.251180</td>\n",
       "      <td>277.709158</td>\n",
       "      <td>0.0</td>\n",
       "      <td>0.0</td>\n",
       "      <td>0.0</td>\n",
       "      <td>0.0</td>\n",
       "      <td>0.0</td>\n",
       "      <td>0.005956</td>\n",
       "      <td>80.023400</td>\n",
       "      <td>2268.572667</td>\n",
       "      <td>422.333333</td>\n",
       "      <td>283.38647</td>\n",
       "      <td>4.92501</td>\n",
       "      <td>0.0</td>\n",
       "      <td>0.988523</td>\n",
       "      <td>277.14102</td>\n",
       "      <td>0</td>\n",
       "      <td>0</td>\n",
       "      <td>0</td>\n",
       "      <td>0</td>\n",
       "      <td>0</td>\n",
       "      <td>1</td>\n",
       "      <td>0</td>\n",
       "      <td>0</td>\n",
       "      <td>0</td>\n",
       "      <td>0</td>\n",
       "      <td>0</td>\n",
       "      <td>0</td>\n",
       "      <td>0</td>\n",
       "      <td>0</td>\n",
       "      <td>0</td>\n",
       "      <td>0</td>\n",
       "      <td>0</td>\n",
       "      <td>0</td>\n",
       "      <td>0</td>\n",
       "      <td>0</td>\n",
       "      <td>0</td>\n",
       "      <td>0</td>\n",
       "      <td>0</td>\n",
       "      <td>0</td>\n",
       "      <td>10</td>\n",
       "    </tr>\n",
       "    <tr>\n",
       "      <th>1</th>\n",
       "      <td>279.496314</td>\n",
       "      <td>280.143477</td>\n",
       "      <td>0.2</td>\n",
       "      <td>79.345799</td>\n",
       "      <td>279.496314</td>\n",
       "      <td>0.0</td>\n",
       "      <td>0.0</td>\n",
       "      <td>0.0</td>\n",
       "      <td>0.0</td>\n",
       "      <td>0.0</td>\n",
       "      <td>0.006067</td>\n",
       "      <td>58.228333</td>\n",
       "      <td>1080.672643</td>\n",
       "      <td>40.151042</td>\n",
       "      <td>288.89374</td>\n",
       "      <td>4.92201</td>\n",
       "      <td>0.0</td>\n",
       "      <td>0.758338</td>\n",
       "      <td>281.01437</td>\n",
       "      <td>0</td>\n",
       "      <td>0</td>\n",
       "      <td>0</td>\n",
       "      <td>0</td>\n",
       "      <td>0</td>\n",
       "      <td>1</td>\n",
       "      <td>0</td>\n",
       "      <td>0</td>\n",
       "      <td>0</td>\n",
       "      <td>0</td>\n",
       "      <td>0</td>\n",
       "      <td>0</td>\n",
       "      <td>0</td>\n",
       "      <td>0</td>\n",
       "      <td>0</td>\n",
       "      <td>0</td>\n",
       "      <td>0</td>\n",
       "      <td>0</td>\n",
       "      <td>0</td>\n",
       "      <td>0</td>\n",
       "      <td>0</td>\n",
       "      <td>0</td>\n",
       "      <td>0</td>\n",
       "      <td>0</td>\n",
       "      <td>10</td>\n",
       "    </tr>\n",
       "    <tr>\n",
       "      <th>2</th>\n",
       "      <td>278.575394</td>\n",
       "      <td>280.282568</td>\n",
       "      <td>0.2</td>\n",
       "      <td>44.215499</td>\n",
       "      <td>278.575394</td>\n",
       "      <td>0.0</td>\n",
       "      <td>0.0</td>\n",
       "      <td>0.0</td>\n",
       "      <td>0.0</td>\n",
       "      <td>0.0</td>\n",
       "      <td>0.006655</td>\n",
       "      <td>61.123905</td>\n",
       "      <td>1194.040409</td>\n",
       "      <td>11.500000</td>\n",
       "      <td>290.59950</td>\n",
       "      <td>3.32201</td>\n",
       "      <td>0.0</td>\n",
       "      <td>0.627164</td>\n",
       "      <td>282.84122</td>\n",
       "      <td>0</td>\n",
       "      <td>0</td>\n",
       "      <td>0</td>\n",
       "      <td>0</td>\n",
       "      <td>0</td>\n",
       "      <td>1</td>\n",
       "      <td>0</td>\n",
       "      <td>0</td>\n",
       "      <td>0</td>\n",
       "      <td>0</td>\n",
       "      <td>0</td>\n",
       "      <td>0</td>\n",
       "      <td>0</td>\n",
       "      <td>0</td>\n",
       "      <td>0</td>\n",
       "      <td>0</td>\n",
       "      <td>0</td>\n",
       "      <td>0</td>\n",
       "      <td>0</td>\n",
       "      <td>0</td>\n",
       "      <td>0</td>\n",
       "      <td>0</td>\n",
       "      <td>0</td>\n",
       "      <td>0</td>\n",
       "      <td>10</td>\n",
       "    </tr>\n",
       "    <tr>\n",
       "      <th>3</th>\n",
       "      <td>280.511023</td>\n",
       "      <td>281.446828</td>\n",
       "      <td>0.2</td>\n",
       "      <td>73.435071</td>\n",
       "      <td>280.511023</td>\n",
       "      <td>0.0</td>\n",
       "      <td>0.0</td>\n",
       "      <td>0.0</td>\n",
       "      <td>0.0</td>\n",
       "      <td>0.0</td>\n",
       "      <td>0.005970</td>\n",
       "      <td>58.574722</td>\n",
       "      <td>1937.796566</td>\n",
       "      <td>718.493056</td>\n",
       "      <td>291.77880</td>\n",
       "      <td>5.22301</td>\n",
       "      <td>0.0</td>\n",
       "      <td>0.996815</td>\n",
       "      <td>281.35240</td>\n",
       "      <td>0</td>\n",
       "      <td>0</td>\n",
       "      <td>0</td>\n",
       "      <td>0</td>\n",
       "      <td>0</td>\n",
       "      <td>1</td>\n",
       "      <td>0</td>\n",
       "      <td>0</td>\n",
       "      <td>0</td>\n",
       "      <td>0</td>\n",
       "      <td>0</td>\n",
       "      <td>0</td>\n",
       "      <td>0</td>\n",
       "      <td>0</td>\n",
       "      <td>0</td>\n",
       "      <td>0</td>\n",
       "      <td>0</td>\n",
       "      <td>0</td>\n",
       "      <td>0</td>\n",
       "      <td>0</td>\n",
       "      <td>0</td>\n",
       "      <td>0</td>\n",
       "      <td>0</td>\n",
       "      <td>0</td>\n",
       "      <td>10</td>\n",
       "    </tr>\n",
       "    <tr>\n",
       "      <th>4</th>\n",
       "      <td>280.790508</td>\n",
       "      <td>281.635283</td>\n",
       "      <td>0.2</td>\n",
       "      <td>17.299822</td>\n",
       "      <td>280.790508</td>\n",
       "      <td>0.0</td>\n",
       "      <td>0.0</td>\n",
       "      <td>0.0</td>\n",
       "      <td>0.0</td>\n",
       "      <td>0.0</td>\n",
       "      <td>0.007777</td>\n",
       "      <td>94.231740</td>\n",
       "      <td>1837.712598</td>\n",
       "      <td>515.784722</td>\n",
       "      <td>284.17500</td>\n",
       "      <td>4.12301</td>\n",
       "      <td>0.0</td>\n",
       "      <td>0.982423</td>\n",
       "      <td>280.60666</td>\n",
       "      <td>0</td>\n",
       "      <td>0</td>\n",
       "      <td>0</td>\n",
       "      <td>0</td>\n",
       "      <td>0</td>\n",
       "      <td>1</td>\n",
       "      <td>0</td>\n",
       "      <td>0</td>\n",
       "      <td>0</td>\n",
       "      <td>0</td>\n",
       "      <td>0</td>\n",
       "      <td>0</td>\n",
       "      <td>0</td>\n",
       "      <td>0</td>\n",
       "      <td>0</td>\n",
       "      <td>0</td>\n",
       "      <td>0</td>\n",
       "      <td>0</td>\n",
       "      <td>0</td>\n",
       "      <td>0</td>\n",
       "      <td>0</td>\n",
       "      <td>0</td>\n",
       "      <td>0</td>\n",
       "      <td>0</td>\n",
       "      <td>10</td>\n",
       "    </tr>\n",
       "  </tbody>\n",
       "</table>\n",
       "</div>"
      ],
      "text/plain": [
       "   temp_soil_0.005_m  temp_soil_0.08_m  whiteness_albedo  net_radiation  \\\n",
       "0         277.709158        279.014864               0.2       3.251180   \n",
       "1         279.496314        280.143477               0.2      79.345799   \n",
       "2         278.575394        280.282568               0.2      44.215499   \n",
       "3         280.511023        281.446828               0.2      73.435071   \n",
       "4         280.790508        281.635283               0.2      17.299822   \n",
       "\n",
       "   surface_temperature  surface_snow_amount  thickness_of_snowfall  \\\n",
       "0           277.709158                  0.0                    0.0   \n",
       "1           279.496314                  0.0                    0.0   \n",
       "2           278.575394                  0.0                    0.0   \n",
       "3           280.511023                  0.0                    0.0   \n",
       "4           280.790508                  0.0                    0.0   \n",
       "\n",
       "   snow_thickness_7D  snow_water_7D  penetration_ram_resistance  \\\n",
       "0                0.0            0.0                         0.0   \n",
       "1                0.0            0.0                         0.0   \n",
       "2                0.0            0.0                         0.0   \n",
       "3                0.0            0.0                         0.0   \n",
       "4                0.0            0.0                         0.0   \n",
       "\n",
       "   near_surface_humidity_mean  relative_humidity_mean  \\\n",
       "0                    0.005956               80.023400   \n",
       "1                    0.006067               58.228333   \n",
       "2                    0.006655               61.123905   \n",
       "3                    0.005970               58.574722   \n",
       "4                    0.007777               94.231740   \n",
       "\n",
       "   freezing_level_altitude_mean  rain_snow_transition_altitude_mean  \\\n",
       "0                   2268.572667                          422.333333   \n",
       "1                   1080.672643                           40.151042   \n",
       "2                   1194.040409                           11.500000   \n",
       "3                   1937.796566                          718.493056   \n",
       "4                   1837.712598                          515.784722   \n",
       "\n",
       "   air_temp_max  wind_speed_max  snowfall_rate_max  nebulosity_max  \\\n",
       "0     283.38647         4.92501                0.0        0.988523   \n",
       "1     288.89374         4.92201                0.0        0.758338   \n",
       "2     290.59950         3.32201                0.0        0.627164   \n",
       "3     291.77880         5.22301                0.0        0.996815   \n",
       "4     284.17500         4.12301                0.0        0.982423   \n",
       "\n",
       "   air_temp_min  aval_event  massif_Aravis  massif_Bauges  massif_Beaufortin  \\\n",
       "0     277.14102           0              0              0                  0   \n",
       "1     281.01437           0              0              0                  0   \n",
       "2     282.84122           0              0              0                  0   \n",
       "3     281.35240           0              0              0                  0   \n",
       "4     280.60666           0              0              0                  0   \n",
       "\n",
       "   massif_Belledonne  massif_Chablais  massif_Champsaur  massif_Chartreuse  \\\n",
       "0                  0                1                 0                  0   \n",
       "1                  0                1                 0                  0   \n",
       "2                  0                1                 0                  0   \n",
       "3                  0                1                 0                  0   \n",
       "4                  0                1                 0                  0   \n",
       "\n",
       "   massif_Devoluy  massif_Gdes-rouss  massif_Ht_Var-Ver  massif_Hte-maurie  \\\n",
       "0               0                  0                  0                  0   \n",
       "1               0                  0                  0                  0   \n",
       "2               0                  0                  0                  0   \n",
       "3               0                  0                  0                  0   \n",
       "4               0                  0                  0                  0   \n",
       "\n",
       "   massif_Hte-tarent  massif_Maurienne  massif_Mercantour  massif_Mont-Blanc  \\\n",
       "0                  0                 0                  0                  0   \n",
       "1                  0                 0                  0                  0   \n",
       "2                  0                 0                  0                  0   \n",
       "3                  0                 0                  0                  0   \n",
       "4                  0                 0                  0                  0   \n",
       "\n",
       "   massif_Oisans  massif_Parpaillon  massif_Pelvoux  massif_Queyras  \\\n",
       "0              0                  0               0               0   \n",
       "1              0                  0               0               0   \n",
       "2              0                  0               0               0   \n",
       "3              0                  0               0               0   \n",
       "4              0                  0               0               0   \n",
       "\n",
       "   massif_Thabor  massif_Ubaye  massif_Vanoise  massif_Vercors  month  \n",
       "0              0             0               0               0     10  \n",
       "1              0             0               0               0     10  \n",
       "2              0             0               0               0     10  \n",
       "3              0             0               0               0     10  \n",
       "4              0             0               0               0     10  "
      ]
     },
     "execution_count": 32,
     "metadata": {},
     "output_type": "execute_result"
    }
   ],
   "source": [
    "df_winter.head()"
   ]
  },
  {
   "cell_type": "code",
   "execution_count": 33,
   "metadata": {},
   "outputs": [],
   "source": [
    "# labels are the values we want to predict\n",
    "labels_win = np.array(df_winter['aval_event'])\n",
    "\n",
    "# removing the labels from the features\n",
    "features_win = df_winter.drop(columns=['aval_event'])\n",
    "\n",
    "# saving feature names for later use\n",
    "feature_list_win = list(features_win.columns)\n",
    "\n",
    "# converting to numpy array\n",
    "features_win = np.array(features_win)"
   ]
  },
  {
   "cell_type": "code",
   "execution_count": 34,
   "metadata": {},
   "outputs": [],
   "source": [
    "# splitting dataset into train and test\n",
    "train_features_win, test_features_win, train_labels_win, test_labels_win = train_test_split(features_win, labels_win, test_size = 0.33, random_state = 42)"
   ]
  },
  {
   "cell_type": "code",
   "execution_count": 35,
   "metadata": {},
   "outputs": [
    {
     "name": "stdout",
     "output_type": "stream",
     "text": [
      "Training Features Shape: (272164, 43)\n",
      "Training Labels Shape: (272164,)\n",
      "Testing Features Shape: (134052, 43)\n",
      "Testing Labels Shape: (134052,)\n"
     ]
    }
   ],
   "source": [
    "# displaying sizes of train/test features and labels\n",
    "print('Training Features Shape:', train_features_win.shape)\n",
    "print('Training Labels Shape:', train_labels_win.shape)\n",
    "print('Testing Features Shape:', test_features_win.shape)\n",
    "print('Testing Labels Shape:', test_labels_win.shape)"
   ]
  },
  {
   "cell_type": "code",
   "execution_count": 36,
   "metadata": {},
   "outputs": [
    {
     "data": {
      "text/plain": [
       "'Number of total positives is 2003 and for total negatives it is 404213'"
      ]
     },
     "execution_count": 36,
     "metadata": {},
     "output_type": "execute_result"
    }
   ],
   "source": [
    "# getting number of positives and negatives in order to calculate scale_pos_weight\n",
    "total_negative_win = df_winter.aval_event.value_counts()[0]\n",
    "total_positive_win = df_winter.aval_event.value_counts()[1]\n",
    "f\"Number of total positives is {total_positive_win} and for total negatives it is {total_negative_win}\""
   ]
  },
  {
   "cell_type": "code",
   "execution_count": 37,
   "metadata": {},
   "outputs": [
    {
     "data": {
      "text/plain": [
       "201.8037943085372"
      ]
     },
     "execution_count": 37,
     "metadata": {},
     "output_type": "execute_result"
    }
   ],
   "source": [
    "# scale_pos_weight for class weights\n",
    "scale_pos_weight_win=total_negative_win/total_positive_win\n",
    "scale_pos_weight_win"
   ]
  },
  {
   "cell_type": "code",
   "execution_count": 38,
   "metadata": {},
   "outputs": [
    {
     "name": "stdout",
     "output_type": "stream",
     "text": [
      "Wall time: 46.5 s\n"
     ]
    }
   ],
   "source": [
    "%%time\n",
    "\n",
    "# defining  and fitting model \n",
    "xgb_win = XGBClassifier(scale_pos_weight=scale_pos_weight_win)\n",
    "xgb_win.fit(train_features_win, train_labels_win)\n",
    "\n",
    "# making prediction\n",
    "label_pred_win = xgb_win.predict(test_features_win)"
   ]
  },
  {
   "cell_type": "code",
   "execution_count": 39,
   "metadata": {},
   "outputs": [
    {
     "name": "stdout",
     "output_type": "stream",
     "text": [
      "Mean ROC AUC: 0.99863\n",
      "Accuracy: 0.99317\n",
      "F1_score weighted: 0.99443\n",
      "Wall time: 26min 44s\n"
     ]
    }
   ],
   "source": [
    "%%time\n",
    "\n",
    "# evaluate model\n",
    "scores = cross_val_score(xgb_win, features_win, labels_win, scoring='roc_auc', cv=cv, n_jobs=-1)\n",
    "\n",
    "# summary of performance\n",
    "print('Mean ROC AUC: %.5f' % mean(scores))\n",
    "print(\"Accuracy:\",round(metrics.accuracy_score(test_labels_win, label_pred_win),5))\n",
    "print(\"F1_score weighted:\", round(f1_score(test_labels_win, label_pred_win, average='weighted'),5))"
   ]
  },
  {
   "cell_type": "code",
   "execution_count": 40,
   "metadata": {},
   "outputs": [
    {
     "data": {
      "image/png": "[encoded data removed]",
      "text/plain": [
       "<Figure size 360x360 with 2 Axes>"
      ]
     },
     "metadata": {},
     "output_type": "display_data"
    }
   ],
   "source": [
    "cf_matrix_win = confusion_matrix(test_labels_win, label_pred_win)\n",
    "f, ax = plt.subplots(figsize=(5, 5))\n",
    "sns.heatmap(cf_matrix_win, annot=True, ax=ax, cmap=\"YlGnBu\", fmt=\".0f\", linewidths=.5)\n",
    "plt.title(\"Confusion matrix for avalanches without summer months\")\n",
    "plt.xlabel('Predicted')\n",
    "plt.ylabel('Real');"
   ]
  },
  {
   "cell_type": "code",
   "execution_count": 41,
   "metadata": {},
   "outputs": [
    {
     "name": "stdout",
     "output_type": "stream",
     "text": [
      "              precision    recall  f1-score   support\n",
      "\n",
      "           0      1.000     0.994     0.997    133372\n",
      "           1      0.421     0.916     0.577       680\n",
      "\n",
      "    accuracy                          0.993    134052\n",
      "   macro avg      0.710     0.955     0.787    134052\n",
      "weighted avg      0.997     0.993     0.994    134052\n",
      "\n"
     ]
    }
   ],
   "source": [
    "# displaying report of performance of model\n",
    "print(classification_report(test_labels_win, label_pred_win, digits=3))"
   ]
  },
  {
   "cell_type": "markdown",
   "metadata": {},
   "source": [
    "## Results for altitude from 1500 to 3600 metres"
   ]
  },
  {
   "cell_type": "code",
   "execution_count": 42,
   "metadata": {},
   "outputs": [
    {
     "data": {
      "text/plain": [
       "1800.0    74473\n",
       "1500.0    74473\n",
       "2100.0    74473\n",
       "2400.0    71238\n",
       "3000.0    64766\n",
       "2700.0    64766\n",
       "3300.0    51823\n",
       "3600.0    29164\n",
       "3900.0    19458\n",
       "4200.0     9708\n",
       "4800.0     3238\n",
       "4500.0     3238\n",
       "Name: elevation, dtype: int64"
      ]
     },
     "execution_count": 42,
     "metadata": {},
     "output_type": "execute_result"
    }
   ],
   "source": [
    "df.elevation.value_counts()"
   ]
  },
  {
   "cell_type": "code",
   "execution_count": 43,
   "metadata": {},
   "outputs": [],
   "source": [
    "df_elevation = df.drop(columns=[\"massif_num\",\"lon\",\"lat\",\"aval_type\", \"acccidental_risk_index\", \n",
    "                            'snow_thickness_1D', 'snow_thickness_3D', 'snow_thickness_5D',\n",
    "                           'snow_water_1D', 'snow_water_3D', 'snow_water_5D', 'risk_index',\n",
    "                           'thickness_of_wet_snow_top_of_snowpack','thickness_of_frozen_snow_top_of_snowpack',\n",
    "                           'surface_air_pressure_mean', 'rainfall_rate', 'drainage', 'runoff',\n",
    "                           'liquid_water_in_soil', 'frozen_water_in_soil', 'snow_melting_rate', 'aval_accident'])"
   ]
  },
  {
   "cell_type": "code",
   "execution_count": 44,
   "metadata": {},
   "outputs": [],
   "source": [
    "# creating initial dataframe\n",
    "df_massifs = pd.DataFrame(massifs, columns=['massif_name'])\n",
    "\n",
    "# generate binary values using get_dummies\n",
    "dum_df = pd.get_dummies(df_massifs, columns=[\"massif_name\"], prefix=\"massif\")\n",
    "\n",
    "# merge initial dataframe with dummies\n",
    "df_massifs = df_massifs.join(dum_df)\n",
    "\n",
    "# merge final datatset with dataframe with dummies\n",
    "df_elevation = df_elevation.merge(df_massifs, how=\"left\", on=\"massif_name\")"
   ]
  },
  {
   "cell_type": "code",
   "execution_count": 45,
   "metadata": {},
   "outputs": [],
   "source": [
    "# getting rid of redundant variable\n",
    "df_elevation = df_elevation.drop(columns=['massif_name'])"
   ]
  },
  {
   "cell_type": "code",
   "execution_count": 46,
   "metadata": {},
   "outputs": [],
   "source": [
    "# creating variable for months\n",
    "df_elevation[\"month\"] = (df_elevation.day.str[5:7]).astype(int)\n",
    "df_elevation = df_elevation.drop(columns=['day'])"
   ]
  },
  {
   "cell_type": "code",
   "execution_count": 47,
   "metadata": {},
   "outputs": [
    {
     "data": {
      "text/plain": [
       "0"
      ]
     },
     "execution_count": 47,
     "metadata": {},
     "output_type": "execute_result"
    }
   ],
   "source": [
    "# verifying there are no null values in dataset\n",
    "(df_elevation.apply(lambda x: x.isnull().sum())).sum()"
   ]
  },
  {
   "cell_type": "code",
   "execution_count": 48,
   "metadata": {},
   "outputs": [],
   "source": [
    "# reducing altitudes where avalanches rarely occur\n",
    "df_elevation = df_elevation[(df_elevation[\"elevation\"]>1499) & (df_elevation[\"elevation\"]< 3601)]"
   ]
  },
  {
   "cell_type": "code",
   "execution_count": 49,
   "metadata": {},
   "outputs": [
    {
     "name": "stdout",
     "output_type": "stream",
     "text": [
      "<class 'pandas.core.frame.DataFrame'>\n",
      "Int64Index: 505176 entries, 0 to 540817\n",
      "Data columns (total 45 columns):\n",
      " #   Column                              Non-Null Count   Dtype  \n",
      "---  ------                              --------------   -----  \n",
      " 0   elevation                           505176 non-null  float64\n",
      " 1   temp_soil_0.005_m                   505176 non-null  float64\n",
      " 2   temp_soil_0.08_m                    505176 non-null  float64\n",
      " 3   whiteness_albedo                    505176 non-null  float64\n",
      " 4   net_radiation                       505176 non-null  float64\n",
      " 5   surface_temperature                 505176 non-null  float64\n",
      " 6   surface_snow_amount                 505176 non-null  float64\n",
      " 7   thickness_of_snowfall               505176 non-null  float64\n",
      " 8   snow_thickness_7D                   505176 non-null  float64\n",
      " 9   snow_water_7D                       505176 non-null  float64\n",
      " 10  penetration_ram_resistance          505176 non-null  float64\n",
      " 11  near_surface_humidity_mean          505176 non-null  float64\n",
      " 12  relative_humidity_mean              505176 non-null  float64\n",
      " 13  freezing_level_altitude_mean        505176 non-null  float64\n",
      " 14  rain_snow_transition_altitude_mean  505176 non-null  float64\n",
      " 15  air_temp_max                        505176 non-null  float64\n",
      " 16  wind_speed_max                      505176 non-null  float64\n",
      " 17  snowfall_rate_max                   505176 non-null  float64\n",
      " 18  nebulosity_max                      505176 non-null  float64\n",
      " 19  air_temp_min                        505176 non-null  float64\n",
      " 20  aval_event                          505176 non-null  int64  \n",
      " 21  massif_Aravis                       505176 non-null  uint8  \n",
      " 22  massif_Bauges                       505176 non-null  uint8  \n",
      " 23  massif_Beaufortin                   505176 non-null  uint8  \n",
      " 24  massif_Belledonne                   505176 non-null  uint8  \n",
      " 25  massif_Chablais                     505176 non-null  uint8  \n",
      " 26  massif_Champsaur                    505176 non-null  uint8  \n",
      " 27  massif_Chartreuse                   505176 non-null  uint8  \n",
      " 28  massif_Devoluy                      505176 non-null  uint8  \n",
      " 29  massif_Gdes-rouss                   505176 non-null  uint8  \n",
      " 30  massif_Ht_Var-Ver                   505176 non-null  uint8  \n",
      " 31  massif_Hte-maurie                   505176 non-null  uint8  \n",
      " 32  massif_Hte-tarent                   505176 non-null  uint8  \n",
      " 33  massif_Maurienne                    505176 non-null  uint8  \n",
      " 34  massif_Mercantour                   505176 non-null  uint8  \n",
      " 35  massif_Mont-Blanc                   505176 non-null  uint8  \n",
      " 36  massif_Oisans                       505176 non-null  uint8  \n",
      " 37  massif_Parpaillon                   505176 non-null  uint8  \n",
      " 38  massif_Pelvoux                      505176 non-null  uint8  \n",
      " 39  massif_Queyras                      505176 non-null  uint8  \n",
      " 40  massif_Thabor                       505176 non-null  uint8  \n",
      " 41  massif_Ubaye                        505176 non-null  uint8  \n",
      " 42  massif_Vanoise                      505176 non-null  uint8  \n",
      " 43  massif_Vercors                      505176 non-null  uint8  \n",
      " 44  month                               505176 non-null  int32  \n",
      "dtypes: float64(20), int32(1), int64(1), uint8(23)\n",
      "memory usage: 97.8 MB\n"
     ]
    }
   ],
   "source": [
    "# last check of dataframe before using RF model\n",
    "df_elevation.info()"
   ]
  },
  {
   "cell_type": "code",
   "execution_count": 50,
   "metadata": {},
   "outputs": [],
   "source": [
    "# labels are the values we want to predict\n",
    "labels_el = np.array(df_elevation['aval_event'])\n",
    "\n",
    "# removing the labels from the features\n",
    "features_el = df_elevation.drop(columns=['aval_event'])\n",
    "\n",
    "# saving feature names for later use\n",
    "feature_list_el = list(features_el.columns)\n",
    "\n",
    "# converting to numpy array\n",
    "features_el = np.array(features_el)"
   ]
  },
  {
   "cell_type": "code",
   "execution_count": 51,
   "metadata": {},
   "outputs": [],
   "source": [
    "# splitting dataset into train and test\n",
    "train_features_el, test_features_el, train_labels_el, test_labels_el = train_test_split(features_el, labels_el, test_size = 0.33, random_state = 42)"
   ]
  },
  {
   "cell_type": "code",
   "execution_count": 52,
   "metadata": {},
   "outputs": [
    {
     "name": "stdout",
     "output_type": "stream",
     "text": [
      "Training Features Shape: (338467, 44)\n",
      "Training Labels Shape: (338467,)\n",
      "Testing Features Shape: (166709, 44)\n",
      "Testing Labels Shape: (166709,)\n"
     ]
    }
   ],
   "source": [
    "# displaying sizes of train/test features and labels\n",
    "print('Training Features Shape:', train_features_el.shape)\n",
    "print('Training Labels Shape:', train_labels_el.shape)\n",
    "print('Testing Features Shape:', test_features_el.shape)\n",
    "print('Testing Labels Shape:', test_labels_el.shape)"
   ]
  },
  {
   "cell_type": "code",
   "execution_count": 53,
   "metadata": {},
   "outputs": [
    {
     "data": {
      "text/plain": [
       "'Number of total positives is 1843 and for total negatives it is 503333'"
      ]
     },
     "execution_count": 53,
     "metadata": {},
     "output_type": "execute_result"
    }
   ],
   "source": [
    "# getting number of positives and negatives in order to calculate scale_pos_weight\n",
    "total_negative_el = df_elevation.aval_event.value_counts()[0]\n",
    "total_positive_el = df_elevation.aval_event.value_counts()[1]\n",
    "f\"Number of total positives is {total_positive_el} and for total negatives it is {total_negative_el}\""
   ]
  },
  {
   "cell_type": "code",
   "execution_count": 54,
   "metadata": {},
   "outputs": [
    {
     "data": {
      "text/plain": [
       "273.10526315789474"
      ]
     },
     "execution_count": 54,
     "metadata": {},
     "output_type": "execute_result"
    }
   ],
   "source": [
    "# scale_pos_weight for class weights\n",
    "scale_pos_weight_el =total_negative_el/total_positive_el\n",
    "scale_pos_weight_el"
   ]
  },
  {
   "cell_type": "code",
   "execution_count": 55,
   "metadata": {},
   "outputs": [
    {
     "name": "stdout",
     "output_type": "stream",
     "text": [
      "Wall time: 49.5 s\n"
     ]
    }
   ],
   "source": [
    "%%time\n",
    "\n",
    "# defining  and fitting model \n",
    "xgb_el = XGBClassifier(scale_pos_weight=scale_pos_weight_el)\n",
    "xgb_el.fit(train_features_el, train_labels_el)\n",
    "\n",
    "# making prediction\n",
    "label_pred_el = xgb_el.predict(test_features_el)"
   ]
  },
  {
   "cell_type": "code",
   "execution_count": 56,
   "metadata": {},
   "outputs": [
    {
     "name": "stdout",
     "output_type": "stream",
     "text": [
      "Mean ROC AUC: 0.99832\n",
      "Accuracy: 0.99392\n",
      "F1_score weighted: 0.99518\n",
      "Wall time: 29min 45s\n"
     ]
    }
   ],
   "source": [
    "%%time\n",
    "\n",
    "# evaluate model\n",
    "scores = cross_val_score(xgb_el, features_el, labels_el, scoring='roc_auc', cv=cv, n_jobs=-1)\n",
    "\n",
    "# summary of performance\n",
    "print('Mean ROC AUC: %.5f' % mean(scores))\n",
    "print(\"Accuracy:\",round(metrics.accuracy_score(test_labels_el, label_pred_el),5))\n",
    "print(\"F1_score weighted:\", round(f1_score(test_labels_el, label_pred_el, average='weighted'),5))"
   ]
  },
  {
   "cell_type": "code",
   "execution_count": 57,
   "metadata": {},
   "outputs": [
    {
     "data": {
      "image/png": "[encoded data removed]",
      "text/plain": [
       "<Figure size 360x360 with 2 Axes>"
      ]
     },
     "metadata": {},
     "output_type": "display_data"
    }
   ],
   "source": [
    "cf_matrix_el = confusion_matrix(test_labels_el, label_pred_el)\n",
    "f, ax = plt.subplots(figsize=(5, 5))\n",
    "sns.heatmap(cf_matrix_el, annot=True, ax=ax, cmap=\"YlGnBu\", fmt=\".0f\", linewidths=.5)\n",
    "plt.title(\"Confusion matrix for avalanches for altitude 1500 - 3600 m.\")\n",
    "plt.xlabel('Predicted')\n",
    "plt.ylabel('Real');"
   ]
  },
  {
   "cell_type": "code",
   "execution_count": 58,
   "metadata": {},
   "outputs": [
    {
     "name": "stdout",
     "output_type": "stream",
     "text": [
      "              precision    recall  f1-score   support\n",
      "\n",
      "           0      1.000     0.994     0.997    166101\n",
      "           1      0.363     0.883     0.514       608\n",
      "\n",
      "    accuracy                          0.994    166709\n",
      "   macro avg      0.681     0.939     0.756    166709\n",
      "weighted avg      0.997     0.994     0.995    166709\n",
      "\n"
     ]
    }
   ],
   "source": [
    "# displaying report of performance of model\n",
    "print(classification_report(test_labels_el, label_pred_el, digits=3))"
   ]
  },
  {
   "cell_type": "markdown",
   "metadata": {},
   "source": [
    "## Results for limited altitude and without summer"
   ]
  },
  {
   "cell_type": "code",
   "execution_count": 59,
   "metadata": {},
   "outputs": [],
   "source": [
    "# creating new dataframe for altitude from 1500 to 3600 and with exclusion of summer months\n",
    "df_elev_win = df_elevation[~df_elevation[\"month\"].isin(summer_season)]"
   ]
  },
  {
   "cell_type": "code",
   "execution_count": 60,
   "metadata": {},
   "outputs": [],
   "source": [
    "# labels are the values we want to predict\n",
    "labels_el_w = np.array(df_elev_win['aval_event'])\n",
    "\n",
    "# removing the labels from the features\n",
    "features_el_w = df_elev_win.drop(columns=['aval_event'])\n",
    "\n",
    "# saving feature names for later use\n",
    "feature_list_el_w = list(features_el_w.columns)\n",
    "\n",
    "# converting to numpy array\n",
    "features_el_w = np.array(features_el_w)"
   ]
  },
  {
   "cell_type": "code",
   "execution_count": 61,
   "metadata": {},
   "outputs": [],
   "source": [
    "# splitting dataset into train and test\n",
    "train_features_el_w, test_features_el_w, train_labels_el_w, test_labels_el_w = train_test_split(features_el_w, labels_el_w, test_size = 0.33, random_state = 42)"
   ]
  },
  {
   "cell_type": "code",
   "execution_count": 62,
   "metadata": {},
   "outputs": [
    {
     "name": "stdout",
     "output_type": "stream",
     "text": [
      "Training Features Shape: (254224, 44)\n",
      "Training Labels Shape: (254224,)\n",
      "Testing Features Shape: (125216, 44)\n",
      "Testing Labels Shape: (125216,)\n"
     ]
    }
   ],
   "source": [
    "# displaying sizes of train/test features and labels\n",
    "print('Training Features Shape:', train_features_el_w.shape)\n",
    "print('Training Labels Shape:', train_labels_el_w.shape)\n",
    "print('Testing Features Shape:', test_features_el_w.shape)\n",
    "print('Testing Labels Shape:', test_labels_el_w.shape)"
   ]
  },
  {
   "cell_type": "code",
   "execution_count": 63,
   "metadata": {},
   "outputs": [
    {
     "data": {
      "text/plain": [
       "'Number of total positives is 1819 and for total negatives it is 377621'"
      ]
     },
     "execution_count": 63,
     "metadata": {},
     "output_type": "execute_result"
    }
   ],
   "source": [
    "# getting number of positives and negatives in order to calculate scale_pos_weight\n",
    "total_negative_el_w = df_elev_win.aval_event.value_counts()[0]\n",
    "total_positive_el_w = df_elev_win.aval_event.value_counts()[1]\n",
    "f\"Number of total positives is {total_positive_el_w} and for total negatives it is {total_negative_el_w}\""
   ]
  },
  {
   "cell_type": "code",
   "execution_count": 64,
   "metadata": {},
   "outputs": [
    {
     "data": {
      "text/plain": [
       "207.5981308411215"
      ]
     },
     "execution_count": 64,
     "metadata": {},
     "output_type": "execute_result"
    }
   ],
   "source": [
    "# scale_pos_weight for class weights\n",
    "scale_pos_weight_el_w =total_negative_el_w/total_positive_el_w\n",
    "scale_pos_weight_el_w"
   ]
  },
  {
   "cell_type": "code",
   "execution_count": 65,
   "metadata": {},
   "outputs": [
    {
     "name": "stdout",
     "output_type": "stream",
     "text": [
      "Wall time: 30.3 s\n"
     ]
    }
   ],
   "source": [
    "%%time\n",
    "\n",
    "# defining  and fitting model \n",
    "xgb_el_w = XGBClassifier(scale_pos_weight=scale_pos_weight_el_w)\n",
    "xgb_el_w.fit(train_features_el_w, train_labels_el_w)\n",
    "\n",
    "# making prediction\n",
    "label_pred_el_w = xgb_el_w.predict(test_features_el_w)"
   ]
  },
  {
   "cell_type": "code",
   "execution_count": 66,
   "metadata": {},
   "outputs": [
    {
     "name": "stdout",
     "output_type": "stream",
     "text": [
      "Mean ROC AUC: 0.99820\n",
      "Accuracy: 0.99463\n",
      "F1_score weighted: 0.99546\n",
      "Wall time: 22min 2s\n"
     ]
    }
   ],
   "source": [
    "%%time\n",
    "\n",
    "# evaluate model\n",
    "scores = cross_val_score(xgb_el_w, features_el_w, labels_el_w, scoring='roc_auc', cv=cv, n_jobs=-1)\n",
    "\n",
    "# summary of performance\n",
    "print('Mean ROC AUC: %.5f' % mean(scores))\n",
    "print(\"Accuracy:\",round(metrics.accuracy_score(test_labels_el_w, label_pred_el_w),5))\n",
    "print(\"F1_score weighted:\", round(f1_score(test_labels_el_w, label_pred_el_w, average='weighted'),5))"
   ]
  },
  {
   "cell_type": "code",
   "execution_count": 67,
   "metadata": {},
   "outputs": [
    {
     "data": {
      "image/png": "[encoded data removed]",
      "text/plain": [
       "<Figure size 360x360 with 2 Axes>"
      ]
     },
     "metadata": {},
     "output_type": "display_data"
    }
   ],
   "source": [
    "cf_matrix_el_w = confusion_matrix(test_labels_el_w, label_pred_el_w)\n",
    "f, ax = plt.subplots(figsize=(5, 5))\n",
    "sns.heatmap(cf_matrix_el_w, annot=True, ax=ax, cmap=\"YlGnBu\", fmt=\".0f\", linewidths=.5)\n",
    "plt.title(\"Confusion matrix for avalanches for altitude 1500 - 3600 m. without summer\")\n",
    "plt.xlabel('Predicted')\n",
    "plt.ylabel('Real');"
   ]
  },
  {
   "cell_type": "code",
   "execution_count": 68,
   "metadata": {},
   "outputs": [
    {
     "name": "stdout",
     "output_type": "stream",
     "text": [
      "              precision    recall  f1-score   support\n",
      "\n",
      "           0      0.999     0.995     0.997    124616\n",
      "           1      0.468     0.895     0.615       600\n",
      "\n",
      "    accuracy                          0.995    125216\n",
      "   macro avg      0.734     0.945     0.806    125216\n",
      "weighted avg      0.997     0.995     0.995    125216\n",
      "\n"
     ]
    }
   ],
   "source": [
    "# displaying report of performance of model\n",
    "print(classification_report(test_labels_el_w, label_pred_el_w, digits=3))"
   ]
  },
  {
   "cell_type": "markdown",
   "metadata": {},
   "source": [
    "## Results for French Alps (without massifs)"
   ]
  },
  {
   "cell_type": "code",
   "execution_count": 69,
   "metadata": {},
   "outputs": [
    {
     "data": {
      "text/plain": [
       "Index(['temp_soil_0.005_m', 'temp_soil_0.08_m', 'whiteness_albedo',\n",
       "       'net_radiation', 'surface_temperature', 'surface_snow_amount',\n",
       "       'thickness_of_snowfall', 'snow_thickness_7D', 'snow_water_7D',\n",
       "       'penetration_ram_resistance', 'near_surface_humidity_mean',\n",
       "       'relative_humidity_mean', 'freezing_level_altitude_mean',\n",
       "       'rain_snow_transition_altitude_mean', 'air_temp_max', 'wind_speed_max',\n",
       "       'snowfall_rate_max', 'nebulosity_max', 'air_temp_min', 'aval_event',\n",
       "       'massif_Aravis', 'massif_Bauges', 'massif_Beaufortin',\n",
       "       'massif_Belledonne', 'massif_Chablais', 'massif_Champsaur',\n",
       "       'massif_Chartreuse', 'massif_Devoluy', 'massif_Gdes-rouss',\n",
       "       'massif_Ht_Var-Ver', 'massif_Hte-maurie', 'massif_Hte-tarent',\n",
       "       'massif_Maurienne', 'massif_Mercantour', 'massif_Mont-Blanc',\n",
       "       'massif_Oisans', 'massif_Parpaillon', 'massif_Pelvoux',\n",
       "       'massif_Queyras', 'massif_Thabor', 'massif_Ubaye', 'massif_Vanoise',\n",
       "       'massif_Vercors', 'month'],\n",
       "      dtype='object')"
      ]
     },
     "execution_count": 69,
     "metadata": {},
     "output_type": "execute_result"
    }
   ],
   "source": [
    "df_clean.columns"
   ]
  },
  {
   "cell_type": "code",
   "execution_count": 70,
   "metadata": {},
   "outputs": [],
   "source": [
    "# removing variables with massifs\n",
    "df_no_massifs = df_clean[['temp_soil_0.005_m', 'temp_soil_0.08_m', 'whiteness_albedo',\n",
    "       'net_radiation', 'surface_temperature', 'surface_snow_amount',\n",
    "       'thickness_of_snowfall', 'snow_thickness_7D', 'snow_water_7D',\n",
    "       'penetration_ram_resistance', 'near_surface_humidity_mean',\n",
    "       'relative_humidity_mean', 'freezing_level_altitude_mean',\n",
    "       'rain_snow_transition_altitude_mean', 'air_temp_max', 'wind_speed_max',\n",
    "       'snowfall_rate_max', 'nebulosity_max', 'air_temp_min', 'aval_event', 'month']]"
   ]
  },
  {
   "cell_type": "code",
   "execution_count": 71,
   "metadata": {},
   "outputs": [
    {
     "name": "stdout",
     "output_type": "stream",
     "text": [
      "<class 'pandas.core.frame.DataFrame'>\n",
      "Int64Index: 540818 entries, 0 to 540817\n",
      "Data columns (total 21 columns):\n",
      " #   Column                              Non-Null Count   Dtype  \n",
      "---  ------                              --------------   -----  \n",
      " 0   temp_soil_0.005_m                   540818 non-null  float64\n",
      " 1   temp_soil_0.08_m                    540818 non-null  float64\n",
      " 2   whiteness_albedo                    540818 non-null  float64\n",
      " 3   net_radiation                       540818 non-null  float64\n",
      " 4   surface_temperature                 540818 non-null  float64\n",
      " 5   surface_snow_amount                 540818 non-null  float64\n",
      " 6   thickness_of_snowfall               540818 non-null  float64\n",
      " 7   snow_thickness_7D                   540818 non-null  float64\n",
      " 8   snow_water_7D                       540818 non-null  float64\n",
      " 9   penetration_ram_resistance          540818 non-null  float64\n",
      " 10  near_surface_humidity_mean          540818 non-null  float64\n",
      " 11  relative_humidity_mean              540818 non-null  float64\n",
      " 12  freezing_level_altitude_mean        540818 non-null  float64\n",
      " 13  rain_snow_transition_altitude_mean  540818 non-null  float64\n",
      " 14  air_temp_max                        540818 non-null  float64\n",
      " 15  wind_speed_max                      540818 non-null  float64\n",
      " 16  snowfall_rate_max                   540818 non-null  float64\n",
      " 17  nebulosity_max                      540818 non-null  float64\n",
      " 18  air_temp_min                        540818 non-null  float64\n",
      " 19  aval_event                          540818 non-null  int64  \n",
      " 20  month                               540818 non-null  int32  \n",
      "dtypes: float64(19), int32(1), int64(1)\n",
      "memory usage: 88.7 MB\n"
     ]
    }
   ],
   "source": [
    "# checking new dataframe\n",
    "df_no_massifs.info()"
   ]
  },
  {
   "cell_type": "code",
   "execution_count": 72,
   "metadata": {},
   "outputs": [],
   "source": [
    "# labels are the values we want to predict\n",
    "labels_alps = np.array(df_no_massifs['aval_event'])\n",
    "\n",
    "# removing the labels from the features\n",
    "features_alps = df_no_massifs.drop(columns=['aval_event'])\n",
    "\n",
    "# saving feature names for later use\n",
    "feature_list_alps = list(features_alps.columns)\n",
    "\n",
    "# converting to numpy array\n",
    "features_alps = np.array(features_alps)"
   ]
  },
  {
   "cell_type": "code",
   "execution_count": 73,
   "metadata": {},
   "outputs": [],
   "source": [
    "# splitting dataset into train and test\n",
    "train_features_alps, test_features_alps, train_labels_alps, test_labels_alps = train_test_split(features_alps, labels_alps, test_size = 0.33, random_state = 42)"
   ]
  },
  {
   "cell_type": "code",
   "execution_count": 74,
   "metadata": {},
   "outputs": [
    {
     "name": "stdout",
     "output_type": "stream",
     "text": [
      "Training Features Shape: (362348, 20)\n",
      "Training Labels Shape: (362348,)\n",
      "Testing Features Shape: (178470, 20)\n",
      "Testing Labels Shape: (178470,)\n"
     ]
    }
   ],
   "source": [
    "# displaying sizes of train/test features and labels\n",
    "print('Training Features Shape:', train_features_alps.shape)\n",
    "print('Training Labels Shape:', train_labels_alps.shape)\n",
    "print('Testing Features Shape:', test_features_alps.shape)\n",
    "print('Testing Labels Shape:', test_labels_alps.shape)"
   ]
  },
  {
   "cell_type": "code",
   "execution_count": 75,
   "metadata": {},
   "outputs": [
    {
     "data": {
      "text/plain": [
       "'Number of total positives is 2039 and for total negatives it is 538779'"
      ]
     },
     "execution_count": 75,
     "metadata": {},
     "output_type": "execute_result"
    }
   ],
   "source": [
    "# getting number of positives and negatives in order to calculate scale_pos_weight\n",
    "total_negative_alps = df_no_massifs.aval_event.value_counts()[0]\n",
    "total_positive_alps = df_no_massifs.aval_event.value_counts()[1]\n",
    "f\"Number of total positives is {total_positive_alps} and for total negatives it is {total_negative_alps}\""
   ]
  },
  {
   "cell_type": "code",
   "execution_count": 76,
   "metadata": {},
   "outputs": [
    {
     "data": {
      "text/plain": [
       "264.2368808239333"
      ]
     },
     "execution_count": 76,
     "metadata": {},
     "output_type": "execute_result"
    }
   ],
   "source": [
    "# scale_pos_weight for class weights\n",
    "scale_pos_weight_alps =total_negative_alps/total_positive_alps\n",
    "scale_pos_weight_alps"
   ]
  },
  {
   "cell_type": "code",
   "execution_count": 77,
   "metadata": {},
   "outputs": [
    {
     "name": "stdout",
     "output_type": "stream",
     "text": [
      "Wall time: 37.6 s\n"
     ]
    }
   ],
   "source": [
    "%%time\n",
    "\n",
    "# defining  and fitting model \n",
    "xgb_alps = XGBClassifier(scale_pos_weight=scale_pos_weight_alps)\n",
    "xgb_alps.fit(train_features_alps, train_labels_alps)\n",
    "\n",
    "# making prediction\n",
    "label_pred_alps = xgb_alps.predict(test_features_alps)"
   ]
  },
  {
   "cell_type": "code",
   "execution_count": 78,
   "metadata": {},
   "outputs": [
    {
     "name": "stdout",
     "output_type": "stream",
     "text": [
      "Mean ROC AUC: 0.99506\n",
      "Accuracy: 0.99057\n",
      "F1_score weighted: 0.9929\n",
      "Wall time: 24min 51s\n"
     ]
    }
   ],
   "source": [
    "%%time\n",
    "\n",
    "# evaluate model\n",
    "scores = cross_val_score(xgb_alps, features_alps, labels_alps, scoring='roc_auc', cv=cv, n_jobs=-1)\n",
    "\n",
    "# summary of performance\n",
    "print('Mean ROC AUC: %.5f' % mean(scores))\n",
    "print(\"Accuracy:\",round(metrics.accuracy_score(test_labels_alps, label_pred_alps),5))\n",
    "print(\"F1_score weighted:\", round(f1_score(test_labels_alps, label_pred_alps, average='weighted'),5))"
   ]
  },
  {
   "cell_type": "code",
   "execution_count": 79,
   "metadata": {},
   "outputs": [
    {
     "data": {
      "image/png": "[encoded data removed]",
      "text/plain": [
       "<Figure size 360x360 with 2 Axes>"
      ]
     },
     "metadata": {},
     "output_type": "display_data"
    }
   ],
   "source": [
    "cf_matrix_alps = confusion_matrix(test_labels_alps, label_pred_alps)\n",
    "f, ax = plt.subplots(figsize=(5, 5))\n",
    "sns.heatmap(cf_matrix_alps, annot=True, ax=ax, cmap=\"YlGnBu\", fmt=\".0f\", linewidths=.5)\n",
    "plt.title(\"Confusion matrix for avalanches in French Alps\")\n",
    "plt.xlabel('Predicted')\n",
    "plt.ylabel('Real');"
   ]
  },
  {
   "cell_type": "code",
   "execution_count": 80,
   "metadata": {},
   "outputs": [
    {
     "name": "stdout",
     "output_type": "stream",
     "text": [
      "              precision    recall  f1-score   support\n",
      "\n",
      "           0      0.999     0.991     0.995    177760\n",
      "           1      0.270     0.806     0.405       710\n",
      "\n",
      "    accuracy                          0.991    178470\n",
      "   macro avg      0.635     0.898     0.700    178470\n",
      "weighted avg      0.996     0.991     0.993    178470\n",
      "\n"
     ]
    }
   ],
   "source": [
    "# displaying report of performance of model\n",
    "print(classification_report(test_labels_alps, label_pred_alps, digits=3))"
   ]
  },
  {
   "cell_type": "markdown",
   "metadata": {},
   "source": [
    "## Results for French Alps without summer"
   ]
  },
  {
   "cell_type": "code",
   "execution_count": 81,
   "metadata": {},
   "outputs": [],
   "source": [
    "df_alps_win = df_no_massifs[~df_no_massifs[\"month\"].isin(summer_season)]"
   ]
  },
  {
   "cell_type": "code",
   "execution_count": 82,
   "metadata": {},
   "outputs": [],
   "source": [
    "# labels are the values we want to predict\n",
    "labels_alps_win = np.array(df_alps_win['aval_event'])\n",
    "\n",
    "# removing the labels from the features\n",
    "features_alps_win = df_alps_win.drop(columns=['aval_event'])\n",
    "\n",
    "# saving feature names for later use\n",
    "feature_list_alps_win = list(features_alps_win.columns)\n",
    "\n",
    "# converting to numpy array\n",
    "features_alps_win = np.array(features_alps_win)"
   ]
  },
  {
   "cell_type": "code",
   "execution_count": 83,
   "metadata": {},
   "outputs": [],
   "source": [
    "# splitting dataset into train and test\n",
    "train_features_alps_win, test_features_alps_win, train_labels_alps_win, test_labels_alps_win = train_test_split(features_alps_win, labels_alps_win, test_size = 0.33, random_state = 42)"
   ]
  },
  {
   "cell_type": "code",
   "execution_count": 84,
   "metadata": {},
   "outputs": [
    {
     "name": "stdout",
     "output_type": "stream",
     "text": [
      "Training Features Shape: (272164, 20)\n",
      "Training Labels Shape: (272164,)\n",
      "Testing Features Shape: (134052, 20)\n",
      "Testing Labels Shape: (134052,)\n"
     ]
    }
   ],
   "source": [
    "# displaying sizes of train/test features and labels\n",
    "print('Training Features Shape:', train_features_alps_win.shape)\n",
    "print('Training Labels Shape:', train_labels_alps_win.shape)\n",
    "print('Testing Features Shape:', test_features_alps_win.shape)\n",
    "print('Testing Labels Shape:', test_labels_alps_win.shape)"
   ]
  },
  {
   "cell_type": "code",
   "execution_count": 85,
   "metadata": {},
   "outputs": [
    {
     "data": {
      "text/plain": [
       "'Number of total positives is 2003 and for total negatives it is 404213'"
      ]
     },
     "execution_count": 85,
     "metadata": {},
     "output_type": "execute_result"
    }
   ],
   "source": [
    "# getting number of positives and negatives in order to calculate scale_pos_weight\n",
    "total_negative_alps_win = df_alps_win.aval_event.value_counts()[0]\n",
    "total_positive_alps_win = df_alps_win.aval_event.value_counts()[1]\n",
    "f\"Number of total positives is {total_positive_alps_win} and for total negatives it is {total_negative_alps_win}\""
   ]
  },
  {
   "cell_type": "code",
   "execution_count": 86,
   "metadata": {},
   "outputs": [
    {
     "data": {
      "text/plain": [
       "201.8037943085372"
      ]
     },
     "execution_count": 86,
     "metadata": {},
     "output_type": "execute_result"
    }
   ],
   "source": [
    "# scale_pos_weight for class weights\n",
    "scale_pos_weight_alps_win =total_negative_alps_win/total_positive_alps_win\n",
    "scale_pos_weight_alps_win"
   ]
  },
  {
   "cell_type": "code",
   "execution_count": 87,
   "metadata": {},
   "outputs": [
    {
     "name": "stdout",
     "output_type": "stream",
     "text": [
      "Wall time: 26.6 s\n"
     ]
    }
   ],
   "source": [
    "%%time\n",
    "\n",
    "# defining  and fitting model \n",
    "xgb_alps_win = XGBClassifier(scale_pos_weight=scale_pos_weight_alps_win)\n",
    "xgb_alps_win.fit(train_features_alps_win, train_labels_alps_win)\n",
    "\n",
    "# making prediction\n",
    "label_pred_alps_win = xgb_alps_win.predict(test_features_alps_win)"
   ]
  },
  {
   "cell_type": "code",
   "execution_count": 88,
   "metadata": {},
   "outputs": [
    {
     "name": "stdout",
     "output_type": "stream",
     "text": [
      "Mean ROC AUC: 0.99418\n",
      "Accuracy: 0.98995\n",
      "F1_score weighted: 0.99217\n",
      "Wall time: 19min 26s\n"
     ]
    }
   ],
   "source": [
    "%%time\n",
    "\n",
    "# evaluate model\n",
    "scores = cross_val_score(xgb_alps_win, features_alps_win, labels_alps_win, scoring='roc_auc', cv=cv, n_jobs=-1)\n",
    "\n",
    "# summary of performance\n",
    "print('Mean ROC AUC: %.5f' % mean(scores))\n",
    "print(\"Accuracy:\",round(metrics.accuracy_score(test_labels_alps_win, label_pred_alps_win),5))\n",
    "print(\"F1_score weighted:\", round(f1_score(test_labels_alps_win, label_pred_alps_win, average='weighted'),5))"
   ]
  },
  {
   "cell_type": "code",
   "execution_count": 89,
   "metadata": {},
   "outputs": [
    {
     "data": {
      "image/png": "[encoded data removed]",
      "text/plain": [
       "<Figure size 360x360 with 2 Axes>"
      ]
     },
     "metadata": {},
     "output_type": "display_data"
    }
   ],
   "source": [
    "cf_matrix_alps_win = confusion_matrix(test_labels_alps_win, label_pred_alps_win)\n",
    "f, ax = plt.subplots(figsize=(5, 5))\n",
    "sns.heatmap(cf_matrix_alps_win, annot=True, ax=ax, cmap=\"YlGnBu\", fmt=\".0f\", linewidths=.5)\n",
    "plt.title(\"Confusion matrix for avalanches in French Alps without summer\")\n",
    "plt.xlabel('Predicted')\n",
    "plt.ylabel('Real');"
   ]
  },
  {
   "cell_type": "code",
   "execution_count": 90,
   "metadata": {},
   "outputs": [
    {
     "name": "stdout",
     "output_type": "stream",
     "text": [
      "              precision    recall  f1-score   support\n",
      "\n",
      "           0      0.999     0.991     0.995    133372\n",
      "           1      0.312     0.816     0.452       680\n",
      "\n",
      "    accuracy                          0.990    134052\n",
      "   macro avg      0.656     0.904     0.723    134052\n",
      "weighted avg      0.996     0.990     0.992    134052\n",
      "\n"
     ]
    }
   ],
   "source": [
    "# displaying report of performance of model\n",
    "print(classification_report(test_labels_alps_win, label_pred_alps_win, digits=3))"
   ]
  },
  {
   "cell_type": "markdown",
   "metadata": {},
   "source": [
    "## Summary of XGBoost results:\n",
    "\n",
    "Recall for days with avalanche (in order to reduce number of false negatives) was my primary metrics to evaluate performance of avalanche prediction, with weighted F1 score following closely behind. **I used 5 variants of feature selection in order to improve recall. Original sample without feature selection resulted in recall 0.887 for days with avalanches and weighted F1-score 0.99443.** Precision and recall for days without avalanches were in all 6 variants 1 or very close to 1, therefore this metrics won't be discussed further.\n",
    "\n",
    "\n",
    "- **Feature selection**: I used 5 different changes to features: \n",
    "\n",
    "A) sample without summer months \n",
    "B) sample with limited altitude (not more than 3600 metres) \n",
    "C) sample without massif division. \n",
    "\n",
    "Also I checked combinations of A+B and A+C. \n",
    "\n",
    "The worst results were from option C) and  A+C). F1-score and recall for avalanche days has dropped. On the other hand, **the best recall for avalanche days had option A) (0.916), therefore this would be my preferred XGBoost model.** Even though other options B) and B+A) had slightly better F1-score (0.995 instead of 0.994 for option A) still I prefer A) option. Lower F1-score was consequence of slightly lower recall for days without any avalanche, but this metrics has lesser importance.\n",
    "\n",
    "\n",
    "All the models generated similar F1-scores 0.992–0.995. **Sample without summer months had 0.916 recall for avalanche days, therefore would be the most prefered option**.\n",
    "\n",
    "-**Comparision with Random Forest model**:\n",
    "Previously, I tried Random Forest ML model, which had slightly better weighted F1-scores (0.997-0.998), but recall for days with avalanche was significatly worse, only 0.58 at best, and therefore XGBoost machine learning models are better option than Random Forest.\n",
    "\n",
    "**Conclusion: I would choose XGBoost on sample without summer months, because it has the best recall for avalanche days 0.916 and acceptable F1 score.** When comparing with results from Random Forest, XGBoost proved to be better choice, because of significant improvement in recall for avavlanche days, even though overall F1-score was little bit lower for all XGBoost models. But this was because of lower metrics like recall for days without avalanche or precision for avalanche days, which are not that important."
   ]
  }
 ],
 "metadata": {
  "kernelspec": {
   "display_name": "Python 3",
   "language": "python",
   "name": "python3"
  },
  "language_info": {
   "codemirror_mode": {
    "name": "ipython",
    "version": 3
   },
   "file_extension": ".py",
   "mimetype": "text/x-python",
   "name": "python",
   "nbconvert_exporter": "python",
   "pygments_lexer": "ipython3",
   "version": "3.7.9"
  }
 },
 "nbformat": 4,
 "nbformat_minor": 4
}

{
 "cells": [
  {
   "cell_type": "code",
   "execution_count": 1,
   "metadata": {},
   "outputs": [],
   "source": [
    "# importing standard Python libraries for data analysis\n",
    "import pandas as pd\n",
    "import numpy as np\n",
    "import seaborn as sns\n",
    "import matplotlib.pyplot as plt\n",
    "import datetime as dt"
   ]
  },
  {
   "cell_type": "code",
   "execution_count": 2,
   "metadata": {},
   "outputs": [],
   "source": [
    "# I would like to see all rows and columns of dataframes\n",
    "pd.set_option('display.max_columns', None)\n",
    "pd.set_option('display.max_rows', None)"
   ]
  },
  {
   "cell_type": "code",
   "execution_count": 3,
   "metadata": {},
   "outputs": [
    {
     "data": {
      "text/html": [
       "<div>\n",
       "<style scoped>\n",
       "    .dataframe tbody tr th:only-of-type {\n",
       "        vertical-align: middle;\n",
       "    }\n",
       "\n",
       "    .dataframe tbody tr th {\n",
       "        vertical-align: top;\n",
       "    }\n",
       "\n",
       "    .dataframe thead th {\n",
       "        text-align: right;\n",
       "    }\n",
       "</style>\n",
       "<table border=\"1\" class=\"dataframe\">\n",
       "  <thead>\n",
       "    <tr style=\"text-align: right;\">\n",
       "      <th></th>\n",
       "      <th>code accident</th>\n",
       "      <th>date</th>\n",
       "      <th>heure</th>\n",
       "      <th>département</th>\n",
       "      <th>commune</th>\n",
       "      <th>massif</th>\n",
       "      <th>region</th>\n",
       "      <th>massif_unique</th>\n",
       "      <th>site</th>\n",
       "      <th>coordonnées\\nzone départ</th>\n",
       "      <th>altitude</th>\n",
       "      <th>inclinaison</th>\n",
       "      <th>orientation</th>\n",
       "      <th>groupe</th>\n",
       "      <th>emportés</th>\n",
       "      <th>ensevelis \\ntête</th>\n",
       "      <th>dead</th>\n",
       "      <th>injured</th>\n",
       "      <th>indemnes</th>\n",
       "      <th>activite_regrouped</th>\n",
       "    </tr>\n",
       "  </thead>\n",
       "  <tbody>\n",
       "    <tr>\n",
       "      <th>0</th>\n",
       "      <td>1011-74-02</td>\n",
       "      <td>2010-12-04</td>\n",
       "      <td>13:05</td>\n",
       "      <td>74</td>\n",
       "      <td>la clusaz</td>\n",
       "      <td>aravis</td>\n",
       "      <td>alps</td>\n",
       "      <td>Aravis</td>\n",
       "      <td>combe borderan</td>\n",
       "      <td>6°28'30\"\" 45°53'10''</td>\n",
       "      <td>2350.0</td>\n",
       "      <td>NaN</td>\n",
       "      <td>NO</td>\n",
       "      <td>3.0</td>\n",
       "      <td>3</td>\n",
       "      <td>1</td>\n",
       "      <td>0</td>\n",
       "      <td>3</td>\n",
       "      <td>0</td>\n",
       "      <td>hiking</td>\n",
       "    </tr>\n",
       "    <tr>\n",
       "      <th>1</th>\n",
       "      <td>1011-74-08</td>\n",
       "      <td>2010-12-26</td>\n",
       "      <td>10:55</td>\n",
       "      <td>74</td>\n",
       "      <td>le reposoir</td>\n",
       "      <td>aravis</td>\n",
       "      <td>alps</td>\n",
       "      <td>Aravis</td>\n",
       "      <td>col de l'encrenaz</td>\n",
       "      <td>NaN</td>\n",
       "      <td>1950.0</td>\n",
       "      <td>30-34</td>\n",
       "      <td>S</td>\n",
       "      <td>3.0</td>\n",
       "      <td>1</td>\n",
       "      <td>1</td>\n",
       "      <td>0</td>\n",
       "      <td>1</td>\n",
       "      <td>0</td>\n",
       "      <td>hiking</td>\n",
       "    </tr>\n",
       "    <tr>\n",
       "      <th>2</th>\n",
       "      <td>1011-74-11</td>\n",
       "      <td>2011-03-20</td>\n",
       "      <td>12:05</td>\n",
       "      <td>74</td>\n",
       "      <td>magland</td>\n",
       "      <td>aravis</td>\n",
       "      <td>alps</td>\n",
       "      <td>Aravis</td>\n",
       "      <td>face nord pointe d'Areu</td>\n",
       "      <td>32t 0312804  5094955</td>\n",
       "      <td>2430.0</td>\n",
       "      <td>35-39</td>\n",
       "      <td>NO</td>\n",
       "      <td>3.0</td>\n",
       "      <td>1</td>\n",
       "      <td>1</td>\n",
       "      <td>1</td>\n",
       "      <td>0</td>\n",
       "      <td>0</td>\n",
       "      <td>hiking</td>\n",
       "    </tr>\n",
       "    <tr>\n",
       "      <th>3</th>\n",
       "      <td>1011-63-01</td>\n",
       "      <td>2010-11-28</td>\n",
       "      <td>14:00</td>\n",
       "      <td>63</td>\n",
       "      <td>le mont dore</td>\n",
       "      <td>sancy</td>\n",
       "      <td>other</td>\n",
       "      <td>other</td>\n",
       "      <td>puy redon / couloir de l'envers du redon</td>\n",
       "      <td>45°31'58.0\"  2°48'23\"</td>\n",
       "      <td>1725.0</td>\n",
       "      <td>40-44</td>\n",
       "      <td>NO</td>\n",
       "      <td>2.0</td>\n",
       "      <td>1</td>\n",
       "      <td>0</td>\n",
       "      <td>0</td>\n",
       "      <td>1</td>\n",
       "      <td>0</td>\n",
       "      <td>hiking</td>\n",
       "    </tr>\n",
       "    <tr>\n",
       "      <th>4</th>\n",
       "      <td>1213-74-02</td>\n",
       "      <td>2012-12-06</td>\n",
       "      <td>12:45</td>\n",
       "      <td>74</td>\n",
       "      <td>serraval</td>\n",
       "      <td>aravis</td>\n",
       "      <td>alps</td>\n",
       "      <td>Aravis</td>\n",
       "      <td>sulens</td>\n",
       "      <td>32t 0295672  5078087</td>\n",
       "      <td>1710.0</td>\n",
       "      <td>40-44</td>\n",
       "      <td>O</td>\n",
       "      <td>2.0</td>\n",
       "      <td>2</td>\n",
       "      <td>1</td>\n",
       "      <td>1</td>\n",
       "      <td>0</td>\n",
       "      <td>1</td>\n",
       "      <td>hiking</td>\n",
       "    </tr>\n",
       "  </tbody>\n",
       "</table>\n",
       "</div>"
      ],
      "text/plain": [
       "  code accident       date  heure  département       commune  massif region  \\\n",
       "0    1011-74-02 2010-12-04  13:05           74     la clusaz  aravis   alps   \n",
       "1    1011-74-08 2010-12-26  10:55           74   le reposoir  aravis   alps   \n",
       "2    1011-74-11 2011-03-20  12:05           74       magland  aravis   alps   \n",
       "3    1011-63-01 2010-11-28  14:00           63  le mont dore   sancy  other   \n",
       "4    1213-74-02 2012-12-06  12:45           74      serraval  aravis   alps   \n",
       "\n",
       "  massif_unique                                      site  \\\n",
       "0        Aravis                            combe borderan   \n",
       "1        Aravis                         col de l'encrenaz   \n",
       "2        Aravis                   face nord pointe d'Areu   \n",
       "3         other  puy redon / couloir de l'envers du redon   \n",
       "4        Aravis                                    sulens   \n",
       "\n",
       "  coordonnées\\nzone départ  altitude inclinaison orientation  groupe  \\\n",
       "0     6°28'30\"\" 45°53'10''    2350.0         NaN          NO     3.0   \n",
       "1                      NaN    1950.0       30-34           S     3.0   \n",
       "2     32t 0312804  5094955    2430.0       35-39          NO     3.0   \n",
       "3    45°31'58.0\"  2°48'23\"    1725.0       40-44          NO     2.0   \n",
       "4     32t 0295672  5078087    1710.0       40-44           O     2.0   \n",
       "\n",
       "   emportés  ensevelis \\ntête  dead  injured  indemnes activite_regrouped  \n",
       "0         3                 1     0        3         0             hiking  \n",
       "1         1                 1     0        1         0             hiking  \n",
       "2         1                 1     1        0         0             hiking  \n",
       "3         1                 0     0        1         0             hiking  \n",
       "4         2                 1     1        0         1             hiking  "
      ]
     },
     "execution_count": 3,
     "metadata": {},
     "output_type": "execute_result"
    }
   ],
   "source": [
    "# checking our dataset\n",
    "df = pd.read_excel(\"accidents_massifs_T.xlsx\")\n",
    "df.head()"
   ]
  },
  {
   "cell_type": "code",
   "execution_count": 4,
   "metadata": {},
   "outputs": [
    {
     "data": {
      "text/plain": [
       "Index(['code accident', 'date', 'heure', 'département', 'commune', 'massif',\n",
       "       'region', 'massif_unique', 'site', 'coordonnées\\nzone départ',\n",
       "       'altitude', 'inclinaison', 'orientation', 'groupe', 'emportés',\n",
       "       'ensevelis \\ntête', 'dead', 'injured', 'indemnes',\n",
       "       'activite_regrouped'],\n",
       "      dtype='object')"
      ]
     },
     "execution_count": 4,
     "metadata": {},
     "output_type": "execute_result"
    }
   ],
   "source": [
    "# viewing names of columns for easier copypaste later\n",
    "df.columns"
   ]
  },
  {
   "cell_type": "code",
   "execution_count": 5,
   "metadata": {},
   "outputs": [],
   "source": [
    "# getting rid of not needed data for visualization\n",
    "df = df.drop(columns=['code accident', 'coordonnées\\nzone départ', 'département',\n",
    "                     'commune', 'site'])"
   ]
  },
  {
   "cell_type": "code",
   "execution_count": 6,
   "metadata": {},
   "outputs": [
    {
     "data": {
      "text/plain": [
       "Index(['date', 'heure', 'massif', 'region', 'massif_unique', 'altitude',\n",
       "       'inclinaison', 'orientation', 'groupe', 'emportés', 'ensevelis \\ntête',\n",
       "       'dead', 'injured', 'indemnes', 'activite_regrouped'],\n",
       "      dtype='object')"
      ]
     },
     "execution_count": 6,
     "metadata": {},
     "output_type": "execute_result"
    }
   ],
   "source": [
    "# viewing names of columns for translation\n",
    "df.columns"
   ]
  },
  {
   "cell_type": "code",
   "execution_count": 7,
   "metadata": {},
   "outputs": [],
   "source": [
    "#translating names of variable in English\n",
    "df.columns = ['date', 'hour', 'massif', 'region', 'massif_unique', 'altitude',\n",
    "       'inclination', 'orientation', 'size_of_group', 'transported', 'with head buried in snow',\n",
    "       'dead', 'injured', 'unharmed', 'activite_regrouped']"
   ]
  },
  {
   "cell_type": "code",
   "execution_count": 8,
   "metadata": {},
   "outputs": [
    {
     "name": "stdout",
     "output_type": "stream",
     "text": [
      "<class 'pandas.core.frame.DataFrame'>\n",
      "RangeIndex: 569 entries, 0 to 568\n",
      "Data columns (total 15 columns):\n",
      " #   Column                    Non-Null Count  Dtype         \n",
      "---  ------                    --------------  -----         \n",
      " 0   date                      569 non-null    datetime64[ns]\n",
      " 1   hour                      373 non-null    object        \n",
      " 2   massif                    569 non-null    object        \n",
      " 3   region                    569 non-null    object        \n",
      " 4   massif_unique             569 non-null    object        \n",
      " 5   altitude                  330 non-null    float64       \n",
      " 6   inclination               299 non-null    object        \n",
      " 7   orientation               331 non-null    object        \n",
      " 8   size_of_group             438 non-null    float64       \n",
      " 9   transported               569 non-null    int64         \n",
      " 10  with head buried in snow  569 non-null    int64         \n",
      " 11  dead                      569 non-null    int64         \n",
      " 12  injured                   569 non-null    int64         \n",
      " 13  unharmed                  569 non-null    int64         \n",
      " 14  activite_regrouped        569 non-null    object        \n",
      "dtypes: datetime64[ns](1), float64(2), int64(5), object(7)\n",
      "memory usage: 66.8+ KB\n"
     ]
    }
   ],
   "source": [
    "df.info()"
   ]
  },
  {
   "cell_type": "code",
   "execution_count": 9,
   "metadata": {},
   "outputs": [],
   "source": [
    "# changing to more suitable data type\n",
    "df.altitude = (df.altitude.fillna(0)).astype(int)\n",
    "df.size_of_group = (df.size_of_group.fillna(0)).astype(int)"
   ]
  },
  {
   "cell_type": "code",
   "execution_count": 10,
   "metadata": {},
   "outputs": [],
   "source": [
    "# some records have not filled values for size of group, even though there are records for transported etc.\n",
    "# therefore for missing group size values, value from transported column was added\n",
    "df[\"size_of_group\"] = np.where(df[\"size_of_group\"]==0, df[\"transported\"],df[\"size_of_group\"])"
   ]
  },
  {
   "cell_type": "code",
   "execution_count": 11,
   "metadata": {},
   "outputs": [],
   "source": [
    "# creating new variables of time\n",
    "df[\"only_hour\"] = df.hour.str[0:2]\n",
    "df[\"year\"] = ((df.date.astype(str)).str[0:4]).astype(int)\n",
    "df[\"month\"] = ((df.date.astype(str)).str[5:7]).astype(int)"
   ]
  },
  {
   "cell_type": "code",
   "execution_count": 12,
   "metadata": {},
   "outputs": [],
   "source": [
    "df.only_hour = (df.only_hour.fillna(0)).astype(int)"
   ]
  },
  {
   "cell_type": "code",
   "execution_count": 13,
   "metadata": {},
   "outputs": [
    {
     "name": "stdout",
     "output_type": "stream",
     "text": [
      "<class 'pandas.core.frame.DataFrame'>\n",
      "RangeIndex: 569 entries, 0 to 568\n",
      "Data columns (total 18 columns):\n",
      " #   Column                    Non-Null Count  Dtype         \n",
      "---  ------                    --------------  -----         \n",
      " 0   date                      569 non-null    datetime64[ns]\n",
      " 1   hour                      373 non-null    object        \n",
      " 2   massif                    569 non-null    object        \n",
      " 3   region                    569 non-null    object        \n",
      " 4   massif_unique             569 non-null    object        \n",
      " 5   altitude                  569 non-null    int32         \n",
      " 6   inclination               299 non-null    object        \n",
      " 7   orientation               331 non-null    object        \n",
      " 8   size_of_group             569 non-null    int64         \n",
      " 9   transported               569 non-null    int64         \n",
      " 10  with head buried in snow  569 non-null    int64         \n",
      " 11  dead                      569 non-null    int64         \n",
      " 12  injured                   569 non-null    int64         \n",
      " 13  unharmed                  569 non-null    int64         \n",
      " 14  activite_regrouped        569 non-null    object        \n",
      " 15  only_hour                 569 non-null    int32         \n",
      " 16  year                      569 non-null    int32         \n",
      " 17  month                     569 non-null    int32         \n",
      "dtypes: datetime64[ns](1), int32(4), int64(6), object(7)\n",
      "memory usage: 71.2+ KB\n"
     ]
    }
   ],
   "source": [
    "df.info()"
   ]
  },
  {
   "cell_type": "code",
   "execution_count": 14,
   "metadata": {},
   "outputs": [],
   "source": [
    "# saving cleaned dataset\n",
    "aval_accidents_for_t = df.to_csv(r'.\\\\aval_accidents_for_t.csv', index = False)"
   ]
  }
 ],
 "metadata": {
  "kernelspec": {
   "display_name": "Python 3",
   "language": "python",
   "name": "python3"
  },
  "language_info": {
   "codemirror_mode": {
    "name": "ipython",
    "version": 3
   },
   "file_extension": ".py",
   "mimetype": "text/x-python",
   "name": "python",
   "nbconvert_exporter": "python",
   "pygments_lexer": "ipython3",
   "version": "3.7.9"
  }
 },
 "nbformat": 4,
 "nbformat_minor": 4
}
